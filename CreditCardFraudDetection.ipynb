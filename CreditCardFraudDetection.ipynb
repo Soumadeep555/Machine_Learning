{
 "cells": [
  {
   "cell_type": "markdown",
   "metadata": {
    "colab_type": "text",
    "id": "m6zBWgJo3qba"
   },
   "source": [
    "## Credit Card Fraud Detection\n",
    "\n",
    "In this project we will predict fraudulent credit card transactions with the help of Machine learning models."
   ]
  },
  {
   "cell_type": "code",
   "execution_count": null,
   "metadata": {
    "colab": {
     "base_uri": "https://localhost:8080/",
     "height": 71
    },
    "colab_type": "code",
    "id": "Mt7vd9oU3qba",
    "outputId": "afed3c26-fee0-42d6-b679-6b2f306d6002",
    "scrolled": false
   },
   "outputs": [
    {
     "name": "stderr",
     "output_type": "stream",
     "text": [
      "/usr/local/lib/python3.6/dist-packages/statsmodels/tools/_testing.py:19: FutureWarning: pandas.util.testing is deprecated. Use the functions in the public API at pandas.testing instead.\n",
      "  import pandas.util.testing as tm\n"
     ]
    }
   ],
   "source": [
    "#import required libraries\n",
    "\n",
    "import numpy as np\n",
    "import pandas as pd\n",
    "\n",
    "import matplotlib.pyplot as plt\n",
    "%matplotlib inline\n",
    "import seaborn as sns\n",
    "\n",
    "from sklearn import metrics\n",
    "from sklearn import preprocessing\n",
    "from sklearn.model_selection import train_test_split"
   ]
  },
  {
   "cell_type": "code",
   "execution_count": null,
   "metadata": {
    "colab": {
     "base_uri": "https://localhost:8080/",
     "height": 122
    },
    "colab_type": "code",
    "id": "Epc8ywWkvBqP",
    "outputId": "4c65a152-4a54-41b0-9e0b-f52922b3d98b"
   },
   "outputs": [
    {
     "name": "stdout",
     "output_type": "stream",
     "text": [
      "Go to this URL in a browser: https://accounts.google.com/o/oauth2/auth?client_id=947318989803-6bn6qk8qdgf4n4g3pfee6491hc0brc4i.apps.googleusercontent.com&redirect_uri=urn%3aietf%3awg%3aoauth%3a2.0%3aoob&response_type=code&scope=email%20https%3a%2f%2fwww.googleapis.com%2fauth%2fdocs.test%20https%3a%2f%2fwww.googleapis.com%2fauth%2fdrive%20https%3a%2f%2fwww.googleapis.com%2fauth%2fdrive.photos.readonly%20https%3a%2f%2fwww.googleapis.com%2fauth%2fpeopleapi.readonly\n",
      "\n",
      "Enter your authorization code:\n",
      "··········\n",
      "Mounted at /content/drive/\n"
     ]
    }
   ],
   "source": [
    "#import data\n",
    "from google.colab import drive\n",
    "drive.mount('/content/drive/')"
   ]
  },
  {
   "cell_type": "code",
   "execution_count": null,
   "metadata": {
    "colab": {},
    "colab_type": "code",
    "id": "S_txZ-2KvDWG"
   },
   "outputs": [],
   "source": [
    "df = pd.read_csv('/content/drive/My Drive/CapstoneData/creditcard.csv')"
   ]
  },
  {
   "cell_type": "code",
   "execution_count": null,
   "metadata": {
    "colab": {
     "base_uri": "https://localhost:8080/",
     "height": 224
    },
    "colab_type": "code",
    "id": "ltu6PeAsygPI",
    "outputId": "8c04743c-7d2a-405c-d7dd-1e28885a4396"
   },
   "outputs": [
    {
     "data": {
      "text/html": [
       "<div>\n",
       "<style scoped>\n",
       "    .dataframe tbody tr th:only-of-type {\n",
       "        vertical-align: middle;\n",
       "    }\n",
       "\n",
       "    .dataframe tbody tr th {\n",
       "        vertical-align: top;\n",
       "    }\n",
       "\n",
       "    .dataframe thead th {\n",
       "        text-align: right;\n",
       "    }\n",
       "</style>\n",
       "<table border=\"1\" class=\"dataframe\">\n",
       "  <thead>\n",
       "    <tr style=\"text-align: right;\">\n",
       "      <th></th>\n",
       "      <th>Time</th>\n",
       "      <th>V1</th>\n",
       "      <th>V2</th>\n",
       "      <th>V3</th>\n",
       "      <th>V4</th>\n",
       "      <th>V5</th>\n",
       "      <th>V6</th>\n",
       "      <th>V7</th>\n",
       "      <th>V8</th>\n",
       "      <th>V9</th>\n",
       "      <th>V10</th>\n",
       "      <th>V11</th>\n",
       "      <th>V12</th>\n",
       "      <th>V13</th>\n",
       "      <th>V14</th>\n",
       "      <th>V15</th>\n",
       "      <th>V16</th>\n",
       "      <th>V17</th>\n",
       "      <th>V18</th>\n",
       "      <th>V19</th>\n",
       "      <th>V20</th>\n",
       "      <th>V21</th>\n",
       "      <th>V22</th>\n",
       "      <th>V23</th>\n",
       "      <th>V24</th>\n",
       "      <th>V25</th>\n",
       "      <th>V26</th>\n",
       "      <th>V27</th>\n",
       "      <th>V28</th>\n",
       "      <th>Amount</th>\n",
       "      <th>Class</th>\n",
       "    </tr>\n",
       "  </thead>\n",
       "  <tbody>\n",
       "    <tr>\n",
       "      <th>0</th>\n",
       "      <td>0.0</td>\n",
       "      <td>-1.359807</td>\n",
       "      <td>-0.072781</td>\n",
       "      <td>2.536347</td>\n",
       "      <td>1.378155</td>\n",
       "      <td>-0.338321</td>\n",
       "      <td>0.462388</td>\n",
       "      <td>0.239599</td>\n",
       "      <td>0.098698</td>\n",
       "      <td>0.363787</td>\n",
       "      <td>0.090794</td>\n",
       "      <td>-0.551600</td>\n",
       "      <td>-0.617801</td>\n",
       "      <td>-0.991390</td>\n",
       "      <td>-0.311169</td>\n",
       "      <td>1.468177</td>\n",
       "      <td>-0.470401</td>\n",
       "      <td>0.207971</td>\n",
       "      <td>0.025791</td>\n",
       "      <td>0.403993</td>\n",
       "      <td>0.251412</td>\n",
       "      <td>-0.018307</td>\n",
       "      <td>0.277838</td>\n",
       "      <td>-0.110474</td>\n",
       "      <td>0.066928</td>\n",
       "      <td>0.128539</td>\n",
       "      <td>-0.189115</td>\n",
       "      <td>0.133558</td>\n",
       "      <td>-0.021053</td>\n",
       "      <td>149.62</td>\n",
       "      <td>0</td>\n",
       "    </tr>\n",
       "    <tr>\n",
       "      <th>1</th>\n",
       "      <td>0.0</td>\n",
       "      <td>1.191857</td>\n",
       "      <td>0.266151</td>\n",
       "      <td>0.166480</td>\n",
       "      <td>0.448154</td>\n",
       "      <td>0.060018</td>\n",
       "      <td>-0.082361</td>\n",
       "      <td>-0.078803</td>\n",
       "      <td>0.085102</td>\n",
       "      <td>-0.255425</td>\n",
       "      <td>-0.166974</td>\n",
       "      <td>1.612727</td>\n",
       "      <td>1.065235</td>\n",
       "      <td>0.489095</td>\n",
       "      <td>-0.143772</td>\n",
       "      <td>0.635558</td>\n",
       "      <td>0.463917</td>\n",
       "      <td>-0.114805</td>\n",
       "      <td>-0.183361</td>\n",
       "      <td>-0.145783</td>\n",
       "      <td>-0.069083</td>\n",
       "      <td>-0.225775</td>\n",
       "      <td>-0.638672</td>\n",
       "      <td>0.101288</td>\n",
       "      <td>-0.339846</td>\n",
       "      <td>0.167170</td>\n",
       "      <td>0.125895</td>\n",
       "      <td>-0.008983</td>\n",
       "      <td>0.014724</td>\n",
       "      <td>2.69</td>\n",
       "      <td>0</td>\n",
       "    </tr>\n",
       "    <tr>\n",
       "      <th>2</th>\n",
       "      <td>1.0</td>\n",
       "      <td>-1.358354</td>\n",
       "      <td>-1.340163</td>\n",
       "      <td>1.773209</td>\n",
       "      <td>0.379780</td>\n",
       "      <td>-0.503198</td>\n",
       "      <td>1.800499</td>\n",
       "      <td>0.791461</td>\n",
       "      <td>0.247676</td>\n",
       "      <td>-1.514654</td>\n",
       "      <td>0.207643</td>\n",
       "      <td>0.624501</td>\n",
       "      <td>0.066084</td>\n",
       "      <td>0.717293</td>\n",
       "      <td>-0.165946</td>\n",
       "      <td>2.345865</td>\n",
       "      <td>-2.890083</td>\n",
       "      <td>1.109969</td>\n",
       "      <td>-0.121359</td>\n",
       "      <td>-2.261857</td>\n",
       "      <td>0.524980</td>\n",
       "      <td>0.247998</td>\n",
       "      <td>0.771679</td>\n",
       "      <td>0.909412</td>\n",
       "      <td>-0.689281</td>\n",
       "      <td>-0.327642</td>\n",
       "      <td>-0.139097</td>\n",
       "      <td>-0.055353</td>\n",
       "      <td>-0.059752</td>\n",
       "      <td>378.66</td>\n",
       "      <td>0</td>\n",
       "    </tr>\n",
       "    <tr>\n",
       "      <th>3</th>\n",
       "      <td>1.0</td>\n",
       "      <td>-0.966272</td>\n",
       "      <td>-0.185226</td>\n",
       "      <td>1.792993</td>\n",
       "      <td>-0.863291</td>\n",
       "      <td>-0.010309</td>\n",
       "      <td>1.247203</td>\n",
       "      <td>0.237609</td>\n",
       "      <td>0.377436</td>\n",
       "      <td>-1.387024</td>\n",
       "      <td>-0.054952</td>\n",
       "      <td>-0.226487</td>\n",
       "      <td>0.178228</td>\n",
       "      <td>0.507757</td>\n",
       "      <td>-0.287924</td>\n",
       "      <td>-0.631418</td>\n",
       "      <td>-1.059647</td>\n",
       "      <td>-0.684093</td>\n",
       "      <td>1.965775</td>\n",
       "      <td>-1.232622</td>\n",
       "      <td>-0.208038</td>\n",
       "      <td>-0.108300</td>\n",
       "      <td>0.005274</td>\n",
       "      <td>-0.190321</td>\n",
       "      <td>-1.175575</td>\n",
       "      <td>0.647376</td>\n",
       "      <td>-0.221929</td>\n",
       "      <td>0.062723</td>\n",
       "      <td>0.061458</td>\n",
       "      <td>123.50</td>\n",
       "      <td>0</td>\n",
       "    </tr>\n",
       "    <tr>\n",
       "      <th>4</th>\n",
       "      <td>2.0</td>\n",
       "      <td>-1.158233</td>\n",
       "      <td>0.877737</td>\n",
       "      <td>1.548718</td>\n",
       "      <td>0.403034</td>\n",
       "      <td>-0.407193</td>\n",
       "      <td>0.095921</td>\n",
       "      <td>0.592941</td>\n",
       "      <td>-0.270533</td>\n",
       "      <td>0.817739</td>\n",
       "      <td>0.753074</td>\n",
       "      <td>-0.822843</td>\n",
       "      <td>0.538196</td>\n",
       "      <td>1.345852</td>\n",
       "      <td>-1.119670</td>\n",
       "      <td>0.175121</td>\n",
       "      <td>-0.451449</td>\n",
       "      <td>-0.237033</td>\n",
       "      <td>-0.038195</td>\n",
       "      <td>0.803487</td>\n",
       "      <td>0.408542</td>\n",
       "      <td>-0.009431</td>\n",
       "      <td>0.798278</td>\n",
       "      <td>-0.137458</td>\n",
       "      <td>0.141267</td>\n",
       "      <td>-0.206010</td>\n",
       "      <td>0.502292</td>\n",
       "      <td>0.219422</td>\n",
       "      <td>0.215153</td>\n",
       "      <td>69.99</td>\n",
       "      <td>0</td>\n",
       "    </tr>\n",
       "  </tbody>\n",
       "</table>\n",
       "</div>"
      ],
      "text/plain": [
       "   Time        V1        V2        V3  ...       V27       V28  Amount  Class\n",
       "0   0.0 -1.359807 -0.072781  2.536347  ...  0.133558 -0.021053  149.62      0\n",
       "1   0.0  1.191857  0.266151  0.166480  ... -0.008983  0.014724    2.69      0\n",
       "2   1.0 -1.358354 -1.340163  1.773209  ... -0.055353 -0.059752  378.66      0\n",
       "3   1.0 -0.966272 -0.185226  1.792993  ...  0.062723  0.061458  123.50      0\n",
       "4   2.0 -1.158233  0.877737  1.548718  ...  0.219422  0.215153   69.99      0\n",
       "\n",
       "[5 rows x 31 columns]"
      ]
     },
     "execution_count": 5,
     "metadata": {
      "tags": []
     },
     "output_type": "execute_result"
    }
   ],
   "source": [
    "df.head()"
   ]
  },
  {
   "cell_type": "markdown",
   "metadata": {
    "colab_type": "text",
    "id": "lPq87qVY3qbd"
   },
   "source": [
    "## Exploratory data analysis"
   ]
  },
  {
   "cell_type": "code",
   "execution_count": null,
   "metadata": {
    "colab": {
     "base_uri": "https://localhost:8080/",
     "height": 629
    },
    "colab_type": "code",
    "id": "6aWSMnNc3qbg",
    "outputId": "f9cd1343-e26a-4c66-d134-46b58022a3e7"
   },
   "outputs": [
    {
     "name": "stdout",
     "output_type": "stream",
     "text": [
      "<class 'pandas.core.frame.DataFrame'>\n",
      "RangeIndex: 284807 entries, 0 to 284806\n",
      "Data columns (total 29 columns):\n",
      " #   Column         Non-Null Count   Dtype  \n",
      "---  ------         --------------   -----  \n",
      " 0   V1             284807 non-null  float64\n",
      " 1   V2             284807 non-null  float64\n",
      " 2   V3             284807 non-null  float64\n",
      " 3   V4             284807 non-null  float64\n",
      " 4   V5             284807 non-null  float64\n",
      " 5   V6             284807 non-null  float64\n",
      " 6   V7             284807 non-null  float64\n",
      " 7   V8             284807 non-null  float64\n",
      " 8   V9             284807 non-null  float64\n",
      " 9   V10            284807 non-null  float64\n",
      " 10  V11            284807 non-null  float64\n",
      " 11  V12            284807 non-null  float64\n",
      " 12  V13            284807 non-null  float64\n",
      " 13  V14            284807 non-null  float64\n",
      " 14  V15            284807 non-null  float64\n",
      " 15  V16            284807 non-null  float64\n",
      " 16  V17            284807 non-null  float64\n",
      " 17  V18            284807 non-null  float64\n",
      " 18  V19            284807 non-null  float64\n",
      " 19  V20            284807 non-null  float64\n",
      " 20  V21            284807 non-null  float64\n",
      " 21  V22            284807 non-null  float64\n",
      " 22  V23            284807 non-null  float64\n",
      " 23  V24            284807 non-null  float64\n",
      " 24  V25            284807 non-null  float64\n",
      " 25  V26            284807 non-null  float64\n",
      " 26  V27            284807 non-null  float64\n",
      " 27  V28            284807 non-null  float64\n",
      " 28  Amount_Scaled  284807 non-null  float64\n",
      "dtypes: float64(29)\n",
      "memory usage: 63.0 MB\n"
     ]
    }
   ],
   "source": [
    "#observe the different feature type present in the data\n",
    "df.info()"
   ]
  },
  {
   "cell_type": "markdown",
   "metadata": {
    "colab_type": "text",
    "id": "c43srdFyyrmG"
   },
   "source": [
    "We see that all the data is numeric as the data is PCA transformed."
   ]
  },
  {
   "cell_type": "markdown",
   "metadata": {
    "colab_type": "text",
    "id": "9YB1CLQC3qbi"
   },
   "source": [
    "Here we will observe the distribution of our classes"
   ]
  },
  {
   "cell_type": "code",
   "execution_count": null,
   "metadata": {
    "colab": {},
    "colab_type": "code",
    "id": "Iomm7xYO3qbk"
   },
   "outputs": [],
   "source": [
    "classes=df['Class'].value_counts()\n",
    "normal_share=classes[0]/df['Class'].count()*100\n",
    "fraud_share=classes[1]/df['Class'].count()*100"
   ]
  },
  {
   "cell_type": "code",
   "execution_count": null,
   "metadata": {
    "colab": {
     "base_uri": "https://localhost:8080/",
     "height": 279
    },
    "colab_type": "code",
    "id": "zkdYCTBt3qbm",
    "outputId": "c882a9c1-05c5-4b50-ee88-565e5329c789"
   },
   "outputs": [
    {
     "data": {
      "text/plain": [
       "<matplotlib.axes._subplots.AxesSubplot at 0x7f7a041b0358>"
      ]
     },
     "execution_count": 7,
     "metadata": {
      "tags": []
     },
     "output_type": "execute_result"
    },
    {
     "data": {
      "image/png": "[encoded data removed]",
      "text/plain": [
       "<Figure size 432x288 with 1 Axes>"
      ]
     },
     "metadata": {
      "needs_background": "light",
      "tags": []
     },
     "output_type": "display_data"
    }
   ],
   "source": [
    "# Create a bar plot for the number and percentage of fraudulent vs non-fraudulent transcations\n",
    "df['Class'].value_counts().plot(kind='bar')"
   ]
  },
  {
   "cell_type": "code",
   "execution_count": null,
   "metadata": {
    "colab": {
     "base_uri": "https://localhost:8080/",
     "height": 279
    },
    "colab_type": "code",
    "id": "Cbud13ymGno7",
    "outputId": "48638ea5-5bf5-478e-8ead-65659e878d4f"
   },
   "outputs": [
    {
     "data": {
      "text/plain": [
       "<matplotlib.axes._subplots.AxesSubplot at 0x7f7a03a15588>"
      ]
     },
     "execution_count": 8,
     "metadata": {
      "tags": []
     },
     "output_type": "execute_result"
    },
    {
     "data": {
      "image/png": "[encoded data removed]",
      "text/plain": [
       "<Figure size 432x288 with 1 Axes>"
      ]
     },
     "metadata": {
      "needs_background": "light",
      "tags": []
     },
     "output_type": "display_data"
    }
   ],
   "source": [
    "(df['Class'].value_counts()/len(df['Class'])*100).plot(kind='bar')"
   ]
  },
  {
   "cell_type": "markdown",
   "metadata": {
    "colab_type": "text",
    "id": "2ewu9Pl6HX52"
   },
   "source": [
    "We can see that there is a huge class imbalance and the amount of Class 1 records is almost negligble"
   ]
  },
  {
   "cell_type": "code",
   "execution_count": null,
   "metadata": {
    "colab": {
     "base_uri": "https://localhost:8080/",
     "height": 458
    },
    "colab_type": "code",
    "id": "BDcqK2ez3qbo",
    "outputId": "81a1c189-c611-4423-9b72-3e27839861b2"
   },
   "outputs": [
    {
     "data": {
      "text/plain": [
       "<seaborn.axisgrid.JointGrid at 0x7f0053e43e48>"
      ]
     },
     "execution_count": 10,
     "metadata": {
      "tags": []
     },
     "output_type": "execute_result"
    },
    {
     "data": {
      "image/png": "[encoded data removed]",
      "text/plain": [
       "<Figure size 432x432 with 3 Axes>"
      ]
     },
     "metadata": {
      "needs_background": "light",
      "tags": []
     },
     "output_type": "display_data"
    }
   ],
   "source": [
    "# Create a scatter plot to observe the distribution of classes with time\n",
    "sns.jointplot(x=\"Time\", y=\"Class\", data=df)"
   ]
  },
  {
   "cell_type": "code",
   "execution_count": null,
   "metadata": {
    "colab": {
     "base_uri": "https://localhost:8080/",
     "height": 458
    },
    "colab_type": "code",
    "id": "Y_64vzqm3qbq",
    "outputId": "f23691ba-7bf1-459e-e4bf-f87f8a7ff686"
   },
   "outputs": [
    {
     "data": {
      "text/plain": [
       "<seaborn.axisgrid.JointGrid at 0x7f004fcdb748>"
      ]
     },
     "execution_count": 11,
     "metadata": {
      "tags": []
     },
     "output_type": "execute_result"
    },
    {
     "data": {
      "image/png": "[encoded data removed]",
      "text/plain": [
       "<Figure size 432x432 with 3 Axes>"
      ]
     },
     "metadata": {
      "needs_background": "light",
      "tags": []
     },
     "output_type": "display_data"
    }
   ],
   "source": [
    "# Create a scatter plot to observe the distribution of classes with Amount\n",
    "sns.jointplot(x=\"Amount\", y=\"Class\", data=df)"
   ]
  },
  {
   "cell_type": "markdown",
   "metadata": {
    "colab_type": "text",
    "id": "O8bQv6ElO7Lk"
   },
   "source": [
    "One thing is clear that all the frauds have happened on lower amount transactions i.e <5000, however there is no clear pattern w.r.t time and we can potentially drop this for further modelling puposes."
   ]
  },
  {
   "cell_type": "code",
   "execution_count": null,
   "metadata": {
    "colab": {},
    "colab_type": "code",
    "id": "3pVYTTS13qbt"
   },
   "outputs": [],
   "source": [
    "#creating a copy of the df before making changes in case needed for later use\n",
    "df_copy = df[:]\n",
    "\n",
    "# Drop unnecessary columns\n",
    "df.drop(columns = ['Time'], inplace = True)"
   ]
  },
  {
   "cell_type": "code",
   "execution_count": null,
   "metadata": {
    "colab": {
     "base_uri": "https://localhost:8080/",
     "height": 898
    },
    "colab_type": "code",
    "id": "JmkkDTbmydfc",
    "outputId": "2d880f79-2226-4511-cd86-ac7f642fe4a1"
   },
   "outputs": [
    {
     "data": {
      "text/plain": [
       "<matplotlib.axes._subplots.AxesSubplot at 0x7f2ed003fcc0>"
      ]
     },
     "execution_count": 9,
     "metadata": {
      "tags": []
     },
     "output_type": "execute_result"
    },
    {
     "data": {
      "image/png": "[encoded data removed]",
      "text/plain": [
       "<Figure size 1296x1080 with 2 Axes>"
      ]
     },
     "metadata": {
      "needs_background": "light",
      "tags": []
     },
     "output_type": "display_data"
    }
   ],
   "source": [
    "#checking the correlation between the features. Since the data is PCA transformed, we not expect to see collinearity\n",
    "corr = df_copy.corr()\n",
    "hide = np.zeros_like(corr, dtype=np.bool)\n",
    "hide[np.triu_indices_from(hide)] = True\n",
    "f, ax = plt.subplots(figsize=(18, 15))\n",
    "sns.heatmap(corr, mask=hide, vmax=.3, center=0, square=True, linewidths=.5, cbar_kws={\"shrink\": .5})"
   ]
  },
  {
   "cell_type": "code",
   "execution_count": null,
   "metadata": {
    "colab": {
     "base_uri": "https://localhost:8080/",
     "height": 979
    },
    "colab_type": "code",
    "id": "ZXPcE759P0BR",
    "outputId": "8d4e4222-b3df-4d8f-8f3f-196081667c6e"
   },
   "outputs": [
    {
     "data": {
      "text/html": [
       "<div>\n",
       "<style scoped>\n",
       "    .dataframe tbody tr th:only-of-type {\n",
       "        vertical-align: middle;\n",
       "    }\n",
       "\n",
       "    .dataframe tbody tr th {\n",
       "        vertical-align: top;\n",
       "    }\n",
       "\n",
       "    .dataframe thead th {\n",
       "        text-align: right;\n",
       "    }\n",
       "</style>\n",
       "<table border=\"1\" class=\"dataframe\">\n",
       "  <thead>\n",
       "    <tr style=\"text-align: right;\">\n",
       "      <th></th>\n",
       "      <th>Features</th>\n",
       "      <th>VIF</th>\n",
       "    </tr>\n",
       "  </thead>\n",
       "  <tbody>\n",
       "    <tr>\n",
       "      <th>28</th>\n",
       "      <td>Amount</td>\n",
       "      <td>5.44</td>\n",
       "    </tr>\n",
       "    <tr>\n",
       "      <th>1</th>\n",
       "      <td>V2</td>\n",
       "      <td>2.40</td>\n",
       "    </tr>\n",
       "    <tr>\n",
       "      <th>29</th>\n",
       "      <td>Class</td>\n",
       "      <td>2.09</td>\n",
       "    </tr>\n",
       "    <tr>\n",
       "      <th>6</th>\n",
       "      <td>V7</td>\n",
       "      <td>1.86</td>\n",
       "    </tr>\n",
       "    <tr>\n",
       "      <th>4</th>\n",
       "      <td>V5</td>\n",
       "      <td>1.73</td>\n",
       "    </tr>\n",
       "    <tr>\n",
       "      <th>19</th>\n",
       "      <td>V20</td>\n",
       "      <td>1.56</td>\n",
       "    </tr>\n",
       "    <tr>\n",
       "      <th>2</th>\n",
       "      <td>V3</td>\n",
       "      <td>1.28</td>\n",
       "    </tr>\n",
       "    <tr>\n",
       "      <th>0</th>\n",
       "      <td>V1</td>\n",
       "      <td>1.26</td>\n",
       "    </tr>\n",
       "    <tr>\n",
       "      <th>5</th>\n",
       "      <td>V6</td>\n",
       "      <td>1.23</td>\n",
       "    </tr>\n",
       "    <tr>\n",
       "      <th>16</th>\n",
       "      <td>V17</td>\n",
       "      <td>1.22</td>\n",
       "    </tr>\n",
       "    <tr>\n",
       "      <th>13</th>\n",
       "      <td>V14</td>\n",
       "      <td>1.20</td>\n",
       "    </tr>\n",
       "    <tr>\n",
       "      <th>11</th>\n",
       "      <td>V12</td>\n",
       "      <td>1.14</td>\n",
       "    </tr>\n",
       "    <tr>\n",
       "      <th>9</th>\n",
       "      <td>V10</td>\n",
       "      <td>1.14</td>\n",
       "    </tr>\n",
       "    <tr>\n",
       "      <th>3</th>\n",
       "      <td>V4</td>\n",
       "      <td>1.08</td>\n",
       "    </tr>\n",
       "    <tr>\n",
       "      <th>15</th>\n",
       "      <td>V16</td>\n",
       "      <td>1.08</td>\n",
       "    </tr>\n",
       "    <tr>\n",
       "      <th>20</th>\n",
       "      <td>V21</td>\n",
       "      <td>1.06</td>\n",
       "    </tr>\n",
       "    <tr>\n",
       "      <th>22</th>\n",
       "      <td>V23</td>\n",
       "      <td>1.06</td>\n",
       "    </tr>\n",
       "    <tr>\n",
       "      <th>7</th>\n",
       "      <td>V8</td>\n",
       "      <td>1.05</td>\n",
       "    </tr>\n",
       "    <tr>\n",
       "      <th>10</th>\n",
       "      <td>V11</td>\n",
       "      <td>1.05</td>\n",
       "    </tr>\n",
       "    <tr>\n",
       "      <th>17</th>\n",
       "      <td>V18</td>\n",
       "      <td>1.03</td>\n",
       "    </tr>\n",
       "    <tr>\n",
       "      <th>8</th>\n",
       "      <td>V9</td>\n",
       "      <td>1.03</td>\n",
       "    </tr>\n",
       "    <tr>\n",
       "      <th>18</th>\n",
       "      <td>V19</td>\n",
       "      <td>1.02</td>\n",
       "    </tr>\n",
       "    <tr>\n",
       "      <th>21</th>\n",
       "      <td>V22</td>\n",
       "      <td>1.02</td>\n",
       "    </tr>\n",
       "    <tr>\n",
       "      <th>24</th>\n",
       "      <td>V25</td>\n",
       "      <td>1.01</td>\n",
       "    </tr>\n",
       "    <tr>\n",
       "      <th>14</th>\n",
       "      <td>V15</td>\n",
       "      <td>1.00</td>\n",
       "    </tr>\n",
       "    <tr>\n",
       "      <th>12</th>\n",
       "      <td>V13</td>\n",
       "      <td>1.00</td>\n",
       "    </tr>\n",
       "    <tr>\n",
       "      <th>23</th>\n",
       "      <td>V24</td>\n",
       "      <td>1.00</td>\n",
       "    </tr>\n",
       "    <tr>\n",
       "      <th>25</th>\n",
       "      <td>V26</td>\n",
       "      <td>1.00</td>\n",
       "    </tr>\n",
       "    <tr>\n",
       "      <th>26</th>\n",
       "      <td>V27</td>\n",
       "      <td>1.00</td>\n",
       "    </tr>\n",
       "    <tr>\n",
       "      <th>27</th>\n",
       "      <td>V28</td>\n",
       "      <td>1.00</td>\n",
       "    </tr>\n",
       "  </tbody>\n",
       "</table>\n",
       "</div>"
      ],
      "text/plain": [
       "   Features   VIF\n",
       "28   Amount  5.44\n",
       "1        V2  2.40\n",
       "29    Class  2.09\n",
       "6        V7  1.86\n",
       "4        V5  1.73\n",
       "19      V20  1.56\n",
       "2        V3  1.28\n",
       "0        V1  1.26\n",
       "5        V6  1.23\n",
       "16      V17  1.22\n",
       "13      V14  1.20\n",
       "11      V12  1.14\n",
       "9       V10  1.14\n",
       "3        V4  1.08\n",
       "15      V16  1.08\n",
       "20      V21  1.06\n",
       "22      V23  1.06\n",
       "7        V8  1.05\n",
       "10      V11  1.05\n",
       "17      V18  1.03\n",
       "8        V9  1.03\n",
       "18      V19  1.02\n",
       "21      V22  1.02\n",
       "24      V25  1.01\n",
       "14      V15  1.00\n",
       "12      V13  1.00\n",
       "23      V24  1.00\n",
       "25      V26  1.00\n",
       "26      V27  1.00\n",
       "27      V28  1.00"
      ]
     },
     "execution_count": 10,
     "metadata": {
      "tags": []
     },
     "output_type": "execute_result"
    }
   ],
   "source": [
    "# Calculate the VIFs for the features. Since the features are PCA transformed, expectation is that there must be minimal multicolliearity\n",
    "from statsmodels.stats.outliers_influence import variance_inflation_factor\n",
    "vif = pd.DataFrame()\n",
    "vif['Features'] = df.columns\n",
    "vif['VIF'] = [variance_inflation_factor(df.values, i) for i in range(df.shape[1])]\n",
    "vif['VIF'] = round(vif['VIF'], 2)\n",
    "vif = vif.sort_values(by = \"VIF\", ascending = False)\n",
    "vif"
   ]
  },
  {
   "cell_type": "markdown",
   "metadata": {
    "colab_type": "text",
    "id": "iaK-ySNRbyOY"
   },
   "source": [
    "As expected, since the variables are already PCA transformed, the collinearity between the variables is very low and hence there is no redundancy in the features used in the model."
   ]
  },
  {
   "cell_type": "markdown",
   "metadata": {
    "colab_type": "text",
    "id": "1uCBZinhY66r"
   },
   "source": [
    "Checking for duplicates in the data:"
   ]
  },
  {
   "cell_type": "code",
   "execution_count": null,
   "metadata": {
    "colab": {
     "base_uri": "https://localhost:8080/",
     "height": 439
    },
    "colab_type": "code",
    "id": "MEQJEq2dY-7c",
    "outputId": "22086c2e-8de1-4a50-e872-3f542b85ff99"
   },
   "outputs": [
    {
     "data": {
      "text/html": [
       "<div>\n",
       "<style scoped>\n",
       "    .dataframe tbody tr th:only-of-type {\n",
       "        vertical-align: middle;\n",
       "    }\n",
       "\n",
       "    .dataframe tbody tr th {\n",
       "        vertical-align: top;\n",
       "    }\n",
       "\n",
       "    .dataframe thead th {\n",
       "        text-align: right;\n",
       "    }\n",
       "</style>\n",
       "<table border=\"1\" class=\"dataframe\">\n",
       "  <thead>\n",
       "    <tr style=\"text-align: right;\">\n",
       "      <th></th>\n",
       "      <th>V1</th>\n",
       "      <th>V2</th>\n",
       "      <th>V3</th>\n",
       "      <th>V4</th>\n",
       "      <th>V5</th>\n",
       "      <th>V6</th>\n",
       "      <th>V7</th>\n",
       "      <th>V8</th>\n",
       "      <th>V9</th>\n",
       "      <th>V10</th>\n",
       "      <th>V11</th>\n",
       "      <th>V12</th>\n",
       "      <th>V13</th>\n",
       "      <th>V14</th>\n",
       "      <th>V15</th>\n",
       "      <th>V16</th>\n",
       "      <th>V17</th>\n",
       "      <th>V18</th>\n",
       "      <th>V19</th>\n",
       "      <th>V20</th>\n",
       "      <th>V21</th>\n",
       "      <th>V22</th>\n",
       "      <th>V23</th>\n",
       "      <th>V24</th>\n",
       "      <th>V25</th>\n",
       "      <th>V26</th>\n",
       "      <th>V27</th>\n",
       "      <th>V28</th>\n",
       "      <th>Amount</th>\n",
       "      <th>Class</th>\n",
       "    </tr>\n",
       "  </thead>\n",
       "  <tbody>\n",
       "    <tr>\n",
       "      <th>33</th>\n",
       "      <td>-0.529912</td>\n",
       "      <td>0.873892</td>\n",
       "      <td>1.347247</td>\n",
       "      <td>0.145457</td>\n",
       "      <td>0.414209</td>\n",
       "      <td>0.100223</td>\n",
       "      <td>0.711206</td>\n",
       "      <td>0.176066</td>\n",
       "      <td>-0.286717</td>\n",
       "      <td>-0.484688</td>\n",
       "      <td>0.872490</td>\n",
       "      <td>0.851636</td>\n",
       "      <td>-0.571745</td>\n",
       "      <td>0.100974</td>\n",
       "      <td>-1.519772</td>\n",
       "      <td>-0.284376</td>\n",
       "      <td>-0.310524</td>\n",
       "      <td>-0.404248</td>\n",
       "      <td>-0.823374</td>\n",
       "      <td>-0.290348</td>\n",
       "      <td>0.046949</td>\n",
       "      <td>0.208105</td>\n",
       "      <td>-0.185548</td>\n",
       "      <td>0.001031</td>\n",
       "      <td>0.098816</td>\n",
       "      <td>-0.552904</td>\n",
       "      <td>-0.073288</td>\n",
       "      <td>0.023307</td>\n",
       "      <td>6.14</td>\n",
       "      <td>0</td>\n",
       "    </tr>\n",
       "    <tr>\n",
       "      <th>35</th>\n",
       "      <td>-0.535388</td>\n",
       "      <td>0.865268</td>\n",
       "      <td>1.351076</td>\n",
       "      <td>0.147575</td>\n",
       "      <td>0.433680</td>\n",
       "      <td>0.086983</td>\n",
       "      <td>0.693039</td>\n",
       "      <td>0.179742</td>\n",
       "      <td>-0.285642</td>\n",
       "      <td>-0.482474</td>\n",
       "      <td>0.871800</td>\n",
       "      <td>0.853447</td>\n",
       "      <td>-0.571822</td>\n",
       "      <td>0.102252</td>\n",
       "      <td>-1.519991</td>\n",
       "      <td>-0.285912</td>\n",
       "      <td>-0.309633</td>\n",
       "      <td>-0.403902</td>\n",
       "      <td>-0.823743</td>\n",
       "      <td>-0.283264</td>\n",
       "      <td>0.049526</td>\n",
       "      <td>0.206537</td>\n",
       "      <td>-0.187108</td>\n",
       "      <td>0.000753</td>\n",
       "      <td>0.098117</td>\n",
       "      <td>-0.553471</td>\n",
       "      <td>-0.078306</td>\n",
       "      <td>0.025427</td>\n",
       "      <td>1.77</td>\n",
       "      <td>0</td>\n",
       "    </tr>\n",
       "    <tr>\n",
       "      <th>113</th>\n",
       "      <td>1.038370</td>\n",
       "      <td>0.127486</td>\n",
       "      <td>0.184456</td>\n",
       "      <td>1.109950</td>\n",
       "      <td>0.441699</td>\n",
       "      <td>0.945283</td>\n",
       "      <td>-0.036715</td>\n",
       "      <td>0.350995</td>\n",
       "      <td>0.118950</td>\n",
       "      <td>-0.243289</td>\n",
       "      <td>0.578063</td>\n",
       "      <td>0.674730</td>\n",
       "      <td>-0.534231</td>\n",
       "      <td>0.446601</td>\n",
       "      <td>1.122885</td>\n",
       "      <td>-1.768001</td>\n",
       "      <td>1.241157</td>\n",
       "      <td>-2.449500</td>\n",
       "      <td>-1.747255</td>\n",
       "      <td>-0.335520</td>\n",
       "      <td>0.102520</td>\n",
       "      <td>0.605089</td>\n",
       "      <td>0.023092</td>\n",
       "      <td>-0.626463</td>\n",
       "      <td>0.479120</td>\n",
       "      <td>-0.166937</td>\n",
       "      <td>0.081247</td>\n",
       "      <td>0.001192</td>\n",
       "      <td>1.18</td>\n",
       "      <td>0</td>\n",
       "    </tr>\n",
       "    <tr>\n",
       "      <th>114</th>\n",
       "      <td>1.038370</td>\n",
       "      <td>0.127486</td>\n",
       "      <td>0.184456</td>\n",
       "      <td>1.109950</td>\n",
       "      <td>0.441699</td>\n",
       "      <td>0.945283</td>\n",
       "      <td>-0.036715</td>\n",
       "      <td>0.350995</td>\n",
       "      <td>0.118950</td>\n",
       "      <td>-0.243289</td>\n",
       "      <td>0.578063</td>\n",
       "      <td>0.674730</td>\n",
       "      <td>-0.534231</td>\n",
       "      <td>0.446601</td>\n",
       "      <td>1.122885</td>\n",
       "      <td>-1.768001</td>\n",
       "      <td>1.241157</td>\n",
       "      <td>-2.449500</td>\n",
       "      <td>-1.747255</td>\n",
       "      <td>-0.335520</td>\n",
       "      <td>0.102520</td>\n",
       "      <td>0.605089</td>\n",
       "      <td>0.023092</td>\n",
       "      <td>-0.626463</td>\n",
       "      <td>0.479120</td>\n",
       "      <td>-0.166937</td>\n",
       "      <td>0.081247</td>\n",
       "      <td>0.001192</td>\n",
       "      <td>1.18</td>\n",
       "      <td>0</td>\n",
       "    </tr>\n",
       "    <tr>\n",
       "      <th>115</th>\n",
       "      <td>1.038370</td>\n",
       "      <td>0.127486</td>\n",
       "      <td>0.184456</td>\n",
       "      <td>1.109950</td>\n",
       "      <td>0.441699</td>\n",
       "      <td>0.945283</td>\n",
       "      <td>-0.036715</td>\n",
       "      <td>0.350995</td>\n",
       "      <td>0.118950</td>\n",
       "      <td>-0.243289</td>\n",
       "      <td>0.578063</td>\n",
       "      <td>0.674730</td>\n",
       "      <td>-0.534231</td>\n",
       "      <td>0.446601</td>\n",
       "      <td>1.122885</td>\n",
       "      <td>-1.768001</td>\n",
       "      <td>1.241157</td>\n",
       "      <td>-2.449500</td>\n",
       "      <td>-1.747255</td>\n",
       "      <td>-0.335520</td>\n",
       "      <td>0.102520</td>\n",
       "      <td>0.605089</td>\n",
       "      <td>0.023092</td>\n",
       "      <td>-0.626463</td>\n",
       "      <td>0.479120</td>\n",
       "      <td>-0.166937</td>\n",
       "      <td>0.081247</td>\n",
       "      <td>0.001192</td>\n",
       "      <td>1.18</td>\n",
       "      <td>0</td>\n",
       "    </tr>\n",
       "    <tr>\n",
       "      <th>...</th>\n",
       "      <td>...</td>\n",
       "      <td>...</td>\n",
       "      <td>...</td>\n",
       "      <td>...</td>\n",
       "      <td>...</td>\n",
       "      <td>...</td>\n",
       "      <td>...</td>\n",
       "      <td>...</td>\n",
       "      <td>...</td>\n",
       "      <td>...</td>\n",
       "      <td>...</td>\n",
       "      <td>...</td>\n",
       "      <td>...</td>\n",
       "      <td>...</td>\n",
       "      <td>...</td>\n",
       "      <td>...</td>\n",
       "      <td>...</td>\n",
       "      <td>...</td>\n",
       "      <td>...</td>\n",
       "      <td>...</td>\n",
       "      <td>...</td>\n",
       "      <td>...</td>\n",
       "      <td>...</td>\n",
       "      <td>...</td>\n",
       "      <td>...</td>\n",
       "      <td>...</td>\n",
       "      <td>...</td>\n",
       "      <td>...</td>\n",
       "      <td>...</td>\n",
       "      <td>...</td>\n",
       "    </tr>\n",
       "    <tr>\n",
       "      <th>284708</th>\n",
       "      <td>2.018105</td>\n",
       "      <td>0.073226</td>\n",
       "      <td>-1.615154</td>\n",
       "      <td>0.351058</td>\n",
       "      <td>0.333905</td>\n",
       "      <td>-0.676284</td>\n",
       "      <td>0.050474</td>\n",
       "      <td>-0.071028</td>\n",
       "      <td>0.302728</td>\n",
       "      <td>-0.193920</td>\n",
       "      <td>1.206863</td>\n",
       "      <td>0.611617</td>\n",
       "      <td>-0.589935</td>\n",
       "      <td>-0.529698</td>\n",
       "      <td>-0.450015</td>\n",
       "      <td>0.483411</td>\n",
       "      <td>0.321520</td>\n",
       "      <td>0.192470</td>\n",
       "      <td>0.275352</td>\n",
       "      <td>-0.184898</td>\n",
       "      <td>-0.306646</td>\n",
       "      <td>-0.841768</td>\n",
       "      <td>0.356773</td>\n",
       "      <td>0.655112</td>\n",
       "      <td>-0.331463</td>\n",
       "      <td>0.144352</td>\n",
       "      <td>-0.069820</td>\n",
       "      <td>-0.039845</td>\n",
       "      <td>1.98</td>\n",
       "      <td>0</td>\n",
       "    </tr>\n",
       "    <tr>\n",
       "      <th>284751</th>\n",
       "      <td>2.050734</td>\n",
       "      <td>-0.364010</td>\n",
       "      <td>-2.542843</td>\n",
       "      <td>-0.729357</td>\n",
       "      <td>2.388455</td>\n",
       "      <td>3.318015</td>\n",
       "      <td>-0.479138</td>\n",
       "      <td>0.791559</td>\n",
       "      <td>0.403374</td>\n",
       "      <td>0.093232</td>\n",
       "      <td>0.004391</td>\n",
       "      <td>0.390166</td>\n",
       "      <td>-0.212555</td>\n",
       "      <td>0.495544</td>\n",
       "      <td>0.472633</td>\n",
       "      <td>-0.171595</td>\n",
       "      <td>-0.368261</td>\n",
       "      <td>-0.976572</td>\n",
       "      <td>0.022869</td>\n",
       "      <td>-0.154978</td>\n",
       "      <td>-0.293363</td>\n",
       "      <td>-0.834802</td>\n",
       "      <td>0.381740</td>\n",
       "      <td>0.698179</td>\n",
       "      <td>-0.264798</td>\n",
       "      <td>0.219275</td>\n",
       "      <td>-0.052131</td>\n",
       "      <td>-0.066940</td>\n",
       "      <td>0.89</td>\n",
       "      <td>0</td>\n",
       "    </tr>\n",
       "    <tr>\n",
       "      <th>284775</th>\n",
       "      <td>1.955547</td>\n",
       "      <td>-0.724606</td>\n",
       "      <td>-1.706511</td>\n",
       "      <td>-0.611145</td>\n",
       "      <td>1.710907</td>\n",
       "      <td>3.914215</td>\n",
       "      <td>-1.248690</td>\n",
       "      <td>1.054133</td>\n",
       "      <td>1.314064</td>\n",
       "      <td>-0.150553</td>\n",
       "      <td>-0.222844</td>\n",
       "      <td>0.496839</td>\n",
       "      <td>-0.050358</td>\n",
       "      <td>0.001067</td>\n",
       "      <td>0.894690</td>\n",
       "      <td>0.001418</td>\n",
       "      <td>-0.583473</td>\n",
       "      <td>0.075802</td>\n",
       "      <td>-0.359344</td>\n",
       "      <td>-0.137290</td>\n",
       "      <td>0.193605</td>\n",
       "      <td>0.690196</td>\n",
       "      <td>0.155951</td>\n",
       "      <td>0.726775</td>\n",
       "      <td>-0.061219</td>\n",
       "      <td>-0.192666</td>\n",
       "      <td>0.060347</td>\n",
       "      <td>-0.042323</td>\n",
       "      <td>12.99</td>\n",
       "      <td>0</td>\n",
       "    </tr>\n",
       "    <tr>\n",
       "      <th>284785</th>\n",
       "      <td>0.032887</td>\n",
       "      <td>0.545338</td>\n",
       "      <td>-1.185844</td>\n",
       "      <td>-1.729828</td>\n",
       "      <td>2.932315</td>\n",
       "      <td>3.401529</td>\n",
       "      <td>0.337434</td>\n",
       "      <td>0.925377</td>\n",
       "      <td>-0.165663</td>\n",
       "      <td>-0.386953</td>\n",
       "      <td>-0.199626</td>\n",
       "      <td>0.032017</td>\n",
       "      <td>-0.374731</td>\n",
       "      <td>0.354051</td>\n",
       "      <td>0.041228</td>\n",
       "      <td>-0.154750</td>\n",
       "      <td>-0.482455</td>\n",
       "      <td>-0.842462</td>\n",
       "      <td>-0.206385</td>\n",
       "      <td>0.022677</td>\n",
       "      <td>-0.266113</td>\n",
       "      <td>-0.716336</td>\n",
       "      <td>0.108519</td>\n",
       "      <td>0.688519</td>\n",
       "      <td>-0.460220</td>\n",
       "      <td>0.161939</td>\n",
       "      <td>0.265368</td>\n",
       "      <td>0.090245</td>\n",
       "      <td>1.79</td>\n",
       "      <td>0</td>\n",
       "    </tr>\n",
       "    <tr>\n",
       "      <th>284793</th>\n",
       "      <td>1.971002</td>\n",
       "      <td>-0.699067</td>\n",
       "      <td>-1.697541</td>\n",
       "      <td>-0.617643</td>\n",
       "      <td>1.718797</td>\n",
       "      <td>3.911336</td>\n",
       "      <td>-1.259306</td>\n",
       "      <td>1.056209</td>\n",
       "      <td>1.315006</td>\n",
       "      <td>-0.146827</td>\n",
       "      <td>-0.222959</td>\n",
       "      <td>0.496509</td>\n",
       "      <td>-0.051785</td>\n",
       "      <td>-0.000744</td>\n",
       "      <td>0.893684</td>\n",
       "      <td>0.000363</td>\n",
       "      <td>-0.583710</td>\n",
       "      <td>0.074163</td>\n",
       "      <td>-0.356789</td>\n",
       "      <td>-0.153581</td>\n",
       "      <td>0.188758</td>\n",
       "      <td>0.694418</td>\n",
       "      <td>0.163002</td>\n",
       "      <td>0.726365</td>\n",
       "      <td>-0.058282</td>\n",
       "      <td>-0.191813</td>\n",
       "      <td>0.061858</td>\n",
       "      <td>-0.043716</td>\n",
       "      <td>4.99</td>\n",
       "      <td>0</td>\n",
       "    </tr>\n",
       "  </tbody>\n",
       "</table>\n",
       "<p>9144 rows × 30 columns</p>\n",
       "</div>"
      ],
      "text/plain": [
       "              V1        V2        V3  ...       V28  Amount  Class\n",
       "33     -0.529912  0.873892  1.347247  ...  0.023307    6.14      0\n",
       "35     -0.535388  0.865268  1.351076  ...  0.025427    1.77      0\n",
       "113     1.038370  0.127486  0.184456  ...  0.001192    1.18      0\n",
       "114     1.038370  0.127486  0.184456  ...  0.001192    1.18      0\n",
       "115     1.038370  0.127486  0.184456  ...  0.001192    1.18      0\n",
       "...          ...       ...       ...  ...       ...     ...    ...\n",
       "284708  2.018105  0.073226 -1.615154  ... -0.039845    1.98      0\n",
       "284751  2.050734 -0.364010 -2.542843  ... -0.066940    0.89      0\n",
       "284775  1.955547 -0.724606 -1.706511  ... -0.042323   12.99      0\n",
       "284785  0.032887  0.545338 -1.185844  ...  0.090245    1.79      0\n",
       "284793  1.971002 -0.699067 -1.697541  ... -0.043716    4.99      0\n",
       "\n",
       "[9144 rows x 30 columns]"
      ]
     },
     "execution_count": 10,
     "metadata": {
      "tags": []
     },
     "output_type": "execute_result"
    }
   ],
   "source": [
    "#this will mark all duplicates as true except for the first occurence\n",
    "df[df.duplicated()]"
   ]
  },
  {
   "cell_type": "markdown",
   "metadata": {
    "colab_type": "text",
    "id": "MqccqLOfZsho"
   },
   "source": [
    "We see that there are 9144 rows that are duplicates, and we can remove them to have cleaner data"
   ]
  },
  {
   "cell_type": "code",
   "execution_count": null,
   "metadata": {
    "colab": {
     "base_uri": "https://localhost:8080/",
     "height": 34
    },
    "colab_type": "code",
    "id": "R3qs1DM0aR7p",
    "outputId": "ad2b107a-e56c-4a56-9635-b81c2ac740f5"
   },
   "outputs": [
    {
     "data": {
      "text/plain": [
       "(275663, 30)"
      ]
     },
     "execution_count": 11,
     "metadata": {
      "tags": []
     },
     "output_type": "execute_result"
    }
   ],
   "source": [
    "# making a boolean series \n",
    "bool_ser = df.duplicated()\n",
    "  \n",
    "# passing NOT of bool series to see unique values only \n",
    "df = df[~bool_ser] \n",
    "  \n",
    "# displaying data \n",
    "df[df.duplicated()]\n",
    "df.shape"
   ]
  },
  {
   "cell_type": "markdown",
   "metadata": {
    "colab_type": "text",
    "id": "MMGETPogaqIP"
   },
   "source": [
    "We have gotten rid of all the dupliate data"
   ]
  },
  {
   "cell_type": "markdown",
   "metadata": {
    "colab_type": "text",
    "id": "LDKmC9LV3qbv"
   },
   "source": [
    "### Splitting the data into train & test data"
   ]
  },
  {
   "cell_type": "code",
   "execution_count": null,
   "metadata": {
    "colab": {},
    "colab_type": "code",
    "id": "k7eH2V6r3qbv"
   },
   "outputs": [],
   "source": [
    "y= df.pop('Class')"
   ]
  },
  {
   "cell_type": "code",
   "execution_count": null,
   "metadata": {
    "colab": {},
    "colab_type": "code",
    "id": "2rMlCOWa3qbx"
   },
   "outputs": [],
   "source": [
    "from sklearn import model_selection\n",
    "\n",
    "X_train, X_test, y_train, y_test = train_test_split(df,y, train_size=0.7,test_size=0.3,random_state=100)"
   ]
  },
  {
   "cell_type": "code",
   "execution_count": null,
   "metadata": {
    "colab": {
     "base_uri": "https://localhost:8080/",
     "height": 68
    },
    "colab_type": "code",
    "id": "Q1T0zUMf3qb0",
    "outputId": "f7731aeb-3326-45fa-8729-33288c297d08"
   },
   "outputs": [
    {
     "name": "stdout",
     "output_type": "stream",
     "text": [
      "473\n",
      "322\n",
      "151\n"
     ]
    }
   ],
   "source": [
    "#check the number of Class 1 (fraudulent) records in the test and train set\n",
    "print(np.sum(y))\n",
    "print(np.sum(y_train))\n",
    "print(np.sum(y_test))"
   ]
  },
  {
   "cell_type": "code",
   "execution_count": null,
   "metadata": {
    "colab": {
     "base_uri": "https://localhost:8080/",
     "height": 85
    },
    "colab_type": "code",
    "id": "kyFmZ3nNh9lo",
    "outputId": "f720d24e-4dc8-48c3-de49-0bfde6d60bc0"
   },
   "outputs": [
    {
     "name": "stdout",
     "output_type": "stream",
     "text": [
      "Length of X_train is: 192964\n",
      "Length of X_test is: 82699\n",
      "Length of y_train is: 192964\n",
      "Length of y_test is: 82699\n"
     ]
    }
   ],
   "source": [
    "print(\"Length of X_train is: {X_train}\".format(X_train = len(X_train)))\n",
    "print(\"Length of X_test is: {X_test}\".format(X_test = len(X_test)))\n",
    "print(\"Length of y_train is: {y_train}\".format(y_train = len(y_train)))\n",
    "print(\"Length of y_test is: {y_test}\".format(y_test = len(y_test)))"
   ]
  },
  {
   "cell_type": "markdown",
   "metadata": {
    "colab_type": "text",
    "id": "ZMl_FXJXaG49"
   },
   "source": [
    "### Feature Scaling "
   ]
  },
  {
   "cell_type": "code",
   "execution_count": null,
   "metadata": {
    "colab": {},
    "colab_type": "code",
    "id": "FtQaudjBaMMV"
   },
   "outputs": [],
   "source": [
    "#import library for Normalization\n",
    "from sklearn.preprocessing import StandardScaler"
   ]
  },
  {
   "cell_type": "code",
   "execution_count": null,
   "metadata": {
    "colab": {
     "base_uri": "https://localhost:8080/",
     "height": 204
    },
    "colab_type": "code",
    "id": "BA6EtV-QavSC",
    "outputId": "0ffa28dd-1d28-48d7-e594-28856d6171f2"
   },
   "outputs": [
    {
     "name": "stderr",
     "output_type": "stream",
     "text": [
      "/usr/local/lib/python3.6/dist-packages/ipykernel_launcher.py:2: SettingWithCopyWarning: \n",
      "A value is trying to be set on a copy of a slice from a DataFrame.\n",
      "Try using .loc[row_indexer,col_indexer] = value instead\n",
      "\n",
      "See the caveats in the documentation: https://pandas.pydata.org/pandas-docs/stable/user_guide/indexing.html#returning-a-view-versus-a-copy\n",
      "  \n",
      "/usr/local/lib/python3.6/dist-packages/pandas/core/frame.py:3997: SettingWithCopyWarning: \n",
      "A value is trying to be set on a copy of a slice from a DataFrame\n",
      "\n",
      "See the caveats in the documentation: https://pandas.pydata.org/pandas-docs/stable/user_guide/indexing.html#returning-a-view-versus-a-copy\n",
      "  errors=errors,\n"
     ]
    }
   ],
   "source": [
    "#scaling the amount column in X_train\n",
    "X_train['Amount_Scaled'] = StandardScaler().fit_transform(X_train['Amount'].values.reshape(-1,1))\n",
    "X_train.drop(columns = ['Amount'], inplace = True)"
   ]
  },
  {
   "cell_type": "code",
   "execution_count": null,
   "metadata": {
    "colab": {
     "base_uri": "https://localhost:8080/",
     "height": 204
    },
    "colab_type": "code",
    "id": "ocVmsonoavP-",
    "outputId": "848b87fd-ac4d-4ade-89ba-21c3952b7e63"
   },
   "outputs": [
    {
     "name": "stderr",
     "output_type": "stream",
     "text": [
      "/usr/local/lib/python3.6/dist-packages/ipykernel_launcher.py:2: SettingWithCopyWarning: \n",
      "A value is trying to be set on a copy of a slice from a DataFrame.\n",
      "Try using .loc[row_indexer,col_indexer] = value instead\n",
      "\n",
      "See the caveats in the documentation: https://pandas.pydata.org/pandas-docs/stable/user_guide/indexing.html#returning-a-view-versus-a-copy\n",
      "  \n",
      "/usr/local/lib/python3.6/dist-packages/pandas/core/frame.py:3997: SettingWithCopyWarning: \n",
      "A value is trying to be set on a copy of a slice from a DataFrame\n",
      "\n",
      "See the caveats in the documentation: https://pandas.pydata.org/pandas-docs/stable/user_guide/indexing.html#returning-a-view-versus-a-copy\n",
      "  errors=errors,\n"
     ]
    }
   ],
   "source": [
    "#scaling the amount column in X_test\n",
    "X_test['Amount_Scaled'] = StandardScaler().fit_transform(X_test['Amount'].values.reshape(-1,1))\n",
    "X_test.drop(columns = ['Amount'], inplace = True)"
   ]
  },
  {
   "cell_type": "code",
   "execution_count": null,
   "metadata": {
    "colab": {
     "base_uri": "https://localhost:8080/",
     "height": 224
    },
    "colab_type": "code",
    "id": "pI2GWcJg72wY",
    "outputId": "404af03b-5a01-4183-81ad-69c11568a812"
   },
   "outputs": [
    {
     "data": {
      "text/html": [
       "<div>\n",
       "<style scoped>\n",
       "    .dataframe tbody tr th:only-of-type {\n",
       "        vertical-align: middle;\n",
       "    }\n",
       "\n",
       "    .dataframe tbody tr th {\n",
       "        vertical-align: top;\n",
       "    }\n",
       "\n",
       "    .dataframe thead th {\n",
       "        text-align: right;\n",
       "    }\n",
       "</style>\n",
       "<table border=\"1\" class=\"dataframe\">\n",
       "  <thead>\n",
       "    <tr style=\"text-align: right;\">\n",
       "      <th></th>\n",
       "      <th>V1</th>\n",
       "      <th>V2</th>\n",
       "      <th>V3</th>\n",
       "      <th>V4</th>\n",
       "      <th>V5</th>\n",
       "      <th>V6</th>\n",
       "      <th>V7</th>\n",
       "      <th>V8</th>\n",
       "      <th>V9</th>\n",
       "      <th>V10</th>\n",
       "      <th>V11</th>\n",
       "      <th>V12</th>\n",
       "      <th>V13</th>\n",
       "      <th>V14</th>\n",
       "      <th>V15</th>\n",
       "      <th>V16</th>\n",
       "      <th>V17</th>\n",
       "      <th>V18</th>\n",
       "      <th>V19</th>\n",
       "      <th>V20</th>\n",
       "      <th>V21</th>\n",
       "      <th>V22</th>\n",
       "      <th>V23</th>\n",
       "      <th>V24</th>\n",
       "      <th>V25</th>\n",
       "      <th>V26</th>\n",
       "      <th>V27</th>\n",
       "      <th>V28</th>\n",
       "      <th>Amount_Scaled</th>\n",
       "    </tr>\n",
       "  </thead>\n",
       "  <tbody>\n",
       "    <tr>\n",
       "      <th>201842</th>\n",
       "      <td>1.925666</td>\n",
       "      <td>-0.357053</td>\n",
       "      <td>-0.052040</td>\n",
       "      <td>0.620726</td>\n",
       "      <td>-0.912131</td>\n",
       "      <td>-0.741651</td>\n",
       "      <td>-0.531591</td>\n",
       "      <td>-0.129264</td>\n",
       "      <td>1.288207</td>\n",
       "      <td>-0.203868</td>\n",
       "      <td>-0.403037</td>\n",
       "      <td>1.189111</td>\n",
       "      <td>1.096128</td>\n",
       "      <td>-0.383155</td>\n",
       "      <td>0.375735</td>\n",
       "      <td>-0.166600</td>\n",
       "      <td>-0.351569</td>\n",
       "      <td>-0.098506</td>\n",
       "      <td>-0.499736</td>\n",
       "      <td>-0.160288</td>\n",
       "      <td>0.298485</td>\n",
       "      <td>1.171906</td>\n",
       "      <td>0.121732</td>\n",
       "      <td>0.464493</td>\n",
       "      <td>-0.083950</td>\n",
       "      <td>-0.181008</td>\n",
       "      <td>0.051074</td>\n",
       "      <td>-0.030301</td>\n",
       "      <td>-0.293155</td>\n",
       "    </tr>\n",
       "    <tr>\n",
       "      <th>269497</th>\n",
       "      <td>-0.653330</td>\n",
       "      <td>1.022734</td>\n",
       "      <td>2.051699</td>\n",
       "      <td>-0.337343</td>\n",
       "      <td>-0.134136</td>\n",
       "      <td>-0.412686</td>\n",
       "      <td>0.502622</td>\n",
       "      <td>0.029790</td>\n",
       "      <td>0.105595</td>\n",
       "      <td>-0.802657</td>\n",
       "      <td>-0.647326</td>\n",
       "      <td>0.338256</td>\n",
       "      <td>0.676784</td>\n",
       "      <td>-0.139758</td>\n",
       "      <td>1.242518</td>\n",
       "      <td>-0.202569</td>\n",
       "      <td>-0.367340</td>\n",
       "      <td>0.183080</td>\n",
       "      <td>0.700175</td>\n",
       "      <td>0.195830</td>\n",
       "      <td>-0.153678</td>\n",
       "      <td>-0.237697</td>\n",
       "      <td>-0.290537</td>\n",
       "      <td>0.018210</td>\n",
       "      <td>0.395488</td>\n",
       "      <td>-0.647802</td>\n",
       "      <td>0.360558</td>\n",
       "      <td>0.145522</td>\n",
       "      <td>-0.354884</td>\n",
       "    </tr>\n",
       "    <tr>\n",
       "      <th>114899</th>\n",
       "      <td>1.195931</td>\n",
       "      <td>0.710084</td>\n",
       "      <td>0.739169</td>\n",
       "      <td>2.471891</td>\n",
       "      <td>-0.072023</td>\n",
       "      <td>-0.505199</td>\n",
       "      <td>0.215095</td>\n",
       "      <td>-0.194995</td>\n",
       "      <td>-0.941258</td>\n",
       "      <td>0.647916</td>\n",
       "      <td>-0.289602</td>\n",
       "      <td>0.659695</td>\n",
       "      <td>1.463290</td>\n",
       "      <td>-0.004694</td>\n",
       "      <td>0.385502</td>\n",
       "      <td>0.650786</td>\n",
       "      <td>-0.723504</td>\n",
       "      <td>-0.477034</td>\n",
       "      <td>-1.014668</td>\n",
       "      <td>-0.066360</td>\n",
       "      <td>-0.058298</td>\n",
       "      <td>-0.136364</td>\n",
       "      <td>0.008758</td>\n",
       "      <td>0.409607</td>\n",
       "      <td>0.470790</td>\n",
       "      <td>-0.078760</td>\n",
       "      <td>0.001010</td>\n",
       "      <td>0.027166</td>\n",
       "      <td>-0.355717</td>\n",
       "    </tr>\n",
       "    <tr>\n",
       "      <th>35640</th>\n",
       "      <td>-2.159356</td>\n",
       "      <td>0.245967</td>\n",
       "      <td>1.478445</td>\n",
       "      <td>1.115763</td>\n",
       "      <td>-1.358313</td>\n",
       "      <td>0.499435</td>\n",
       "      <td>-0.330674</td>\n",
       "      <td>1.133209</td>\n",
       "      <td>-0.387292</td>\n",
       "      <td>-0.777013</td>\n",
       "      <td>0.170161</td>\n",
       "      <td>0.160848</td>\n",
       "      <td>-1.081795</td>\n",
       "      <td>0.739487</td>\n",
       "      <td>0.324795</td>\n",
       "      <td>0.581106</td>\n",
       "      <td>-0.098666</td>\n",
       "      <td>1.209136</td>\n",
       "      <td>0.963019</td>\n",
       "      <td>-0.232995</td>\n",
       "      <td>0.137044</td>\n",
       "      <td>0.194656</td>\n",
       "      <td>0.207151</td>\n",
       "      <td>-0.019388</td>\n",
       "      <td>0.318667</td>\n",
       "      <td>-0.254490</td>\n",
       "      <td>-0.076822</td>\n",
       "      <td>-0.363762</td>\n",
       "      <td>0.144456</td>\n",
       "    </tr>\n",
       "    <tr>\n",
       "      <th>68129</th>\n",
       "      <td>-1.273984</td>\n",
       "      <td>1.242461</td>\n",
       "      <td>1.322611</td>\n",
       "      <td>-1.397199</td>\n",
       "      <td>-0.373712</td>\n",
       "      <td>-1.440541</td>\n",
       "      <td>0.861133</td>\n",
       "      <td>-0.260478</td>\n",
       "      <td>0.901162</td>\n",
       "      <td>0.604015</td>\n",
       "      <td>-0.345026</td>\n",
       "      <td>-1.006582</td>\n",
       "      <td>-1.987168</td>\n",
       "      <td>-0.006924</td>\n",
       "      <td>0.644799</td>\n",
       "      <td>0.284977</td>\n",
       "      <td>-0.531640</td>\n",
       "      <td>-0.385428</td>\n",
       "      <td>-0.844927</td>\n",
       "      <td>0.331985</td>\n",
       "      <td>-0.177315</td>\n",
       "      <td>-0.226237</td>\n",
       "      <td>-0.038482</td>\n",
       "      <td>0.704004</td>\n",
       "      <td>-0.273362</td>\n",
       "      <td>0.720989</td>\n",
       "      <td>0.254849</td>\n",
       "      <td>0.140235</td>\n",
       "      <td>-0.340999</td>\n",
       "    </tr>\n",
       "  </tbody>\n",
       "</table>\n",
       "</div>"
      ],
      "text/plain": [
       "              V1        V2        V3  ...       V27       V28  Amount_Scaled\n",
       "201842  1.925666 -0.357053 -0.052040  ...  0.051074 -0.030301      -0.293155\n",
       "269497 -0.653330  1.022734  2.051699  ...  0.360558  0.145522      -0.354884\n",
       "114899  1.195931  0.710084  0.739169  ...  0.001010  0.027166      -0.355717\n",
       "35640  -2.159356  0.245967  1.478445  ... -0.076822 -0.363762       0.144456\n",
       "68129  -1.273984  1.242461  1.322611  ...  0.254849  0.140235      -0.340999\n",
       "\n",
       "[5 rows x 29 columns]"
      ]
     },
     "execution_count": 19,
     "metadata": {
      "tags": []
     },
     "output_type": "execute_result"
    }
   ],
   "source": [
    "X_train.head()"
   ]
  },
  {
   "cell_type": "markdown",
   "metadata": {
    "colab_type": "text",
    "id": "AUVJsL5gadRz"
   },
   "source": [
    "### Skewness Check"
   ]
  },
  {
   "cell_type": "code",
   "execution_count": null,
   "metadata": {
    "colab": {
     "base_uri": "https://localhost:8080/",
     "height": 527
    },
    "colab_type": "code",
    "id": "qVR985x2bmX-",
    "outputId": "fdae19ab-4a7c-4455-8476-cfeb6d044b31"
   },
   "outputs": [
    {
     "name": "stdout",
     "output_type": "stream",
     "text": [
      "Feature\t\tSkewness\n",
      "V1 \t\t -3.1979660260960983\n",
      "V2 \t\t -4.538289429291202\n",
      "V3 \t\t -2.0900323664854508\n",
      "V4 \t\t 0.6658938968487527\n",
      "V5 \t\t -3.343404375889617\n",
      "V6 \t\t 2.1826510552716964\n",
      "V7 \t\t 4.1602989270651225\n",
      "V8 \t\t -8.757056095508187\n",
      "V9 \t\t 0.539261571211442\n",
      "V10 \t\t 1.228640609580372\n",
      "V11 \t\t 0.33368245793648815\n",
      "V12 \t\t -2.126236326119669\n",
      "V13 \t\t 0.0625447006835696\n",
      "V14 \t\t -1.8705235893907333\n",
      "V15 \t\t -0.29840901677340215\n",
      "V16 \t\t -0.9783200989904255\n",
      "V17 \t\t -3.550380597604742\n",
      "V18 \t\t -0.225733340482668\n",
      "V19 \t\t 0.1253935324066412\n",
      "V20 \t\t -2.8190500752429126\n",
      "V21 \t\t 2.459638214813681\n",
      "V22 \t\t -0.18967134186826964\n",
      "V23 \t\t -4.0727984719622485\n",
      "V24 \t\t -0.5366940229422369\n",
      "V25 \t\t -0.3595221825274526\n",
      "V26 \t\t 0.5930726632893175\n",
      "V27 \t\t 0.36832626952816966\n",
      "V28 \t\t 12.81804721022693\n",
      "Amount_Scaled \t\t 17.364384273567\n"
     ]
    }
   ],
   "source": [
    "#import library to get the skewness\n",
    "import scipy.stats as st\n",
    "print(\"Feature\\t\\tSkewness\")\n",
    "for i in X_train.columns:\n",
    "  print(i, \"\\t\\t\", st.skew(X_train[i]))"
   ]
  },
  {
   "cell_type": "markdown",
   "metadata": {
    "colab_type": "text",
    "id": "pnW0qinrb501"
   },
   "source": [
    "As a general rule of thumb: If skewness is less than -1 or greater than 1, the distribution is highly skewed. If skewness is between -1 and -0.5 or between 0.5 and 1, the distribution is moderately skewed. If skewness is between -0.5 and 0.5, the distribution is approximately symmetric.\n",
    "\n",
    "And by this rule features  V1, V2, V3, V6, V7, V8, V10, V12, V14, V16, V17, V20, V21, V23, V27, V28, Amount are all highly skewed."
   ]
  },
  {
   "cell_type": "code",
   "execution_count": null,
   "metadata": {
    "colab": {},
    "colab_type": "code",
    "id": "FfrmH-qud56Z"
   },
   "outputs": [],
   "source": [
    "skw = ['V1', 'V2', 'V3', 'V6', 'V7', 'V8', 'V10', 'V12', 'V14', 'V16', 'V17', 'V21', 'V23', 'V27', 'V28', 'Amount_Scaled']"
   ]
  },
  {
   "cell_type": "code",
   "execution_count": null,
   "metadata": {
    "colab": {
     "base_uri": "https://localhost:8080/",
     "height": 1000
    },
    "colab_type": "code",
    "id": "THhryhlleQB_",
    "outputId": "a562a042-192c-4198-a257-e2b4a103e81a"
   },
   "outputs": [
    {
     "data": {
      "image/png": "[encoded data removed]",
      "text/plain": [
       "<Figure size 432x288 with 1 Axes>"
      ]
     },
     "metadata": {
      "needs_background": "light",
      "tags": []
     },
     "output_type": "display_data"
    },
    {
     "data": {
      "image/png": "[encoded data removed]",
      "text/plain": [
       "<Figure size 432x288 with 1 Axes>"
      ]
     },
     "metadata": {
      "needs_background": "light",
      "tags": []
     },
     "output_type": "display_data"
    },
    {
     "data": {
      "image/png": "[encoded data removed]",
      "text/plain": [
       "<Figure size 432x288 with 1 Axes>"
      ]
     },
     "metadata": {
      "needs_background": "light",
      "tags": []
     },
     "output_type": "display_data"
    },
    {
     "data": {
      "image/png": "[encoded data removed]",
      "text/plain": [
       "<Figure size 432x288 with 1 Axes>"
      ]
     },
     "metadata": {
      "needs_background": "light",
      "tags": []
     },
     "output_type": "display_data"
    },
    {
     "data": {
      "image/png": "[encoded data removed]",
      "text/plain": [
       "<Figure size 432x288 with 1 Axes>"
      ]
     },
     "metadata": {
      "needs_background": "light",
      "tags": []
     },
     "output_type": "display_data"
    },
    {
     "data": {
      "image/png": "[encoded data removed]",
      "text/plain": [
       "<Figure size 432x288 with 1 Axes>"
      ]
     },
     "metadata": {
      "needs_background": "light",
      "tags": []
     },
     "output_type": "display_data"
    },
    {
     "data": {
      "image/png": "[encoded data removed]",
      "text/plain": [
       "<Figure size 432x288 with 1 Axes>"
      ]
     },
     "metadata": {
      "needs_background": "light",
      "tags": []
     },
     "output_type": "display_data"
    },
    {
     "data": {
      "image/png": "[encoded data removed]",
      "text/plain": [
       "<Figure size 432x288 with 1 Axes>"
      ]
     },
     "metadata": {
      "needs_background": "light",
      "tags": []
     },
     "output_type": "display_data"
    },
    {
     "data": {
      "image/png": "[encoded data removed]",
      "text/plain": [
       "<Figure size 432x288 with 1 Axes>"
      ]
     },
     "metadata": {
      "needs_background": "light",
      "tags": []
     },
     "output_type": "display_data"
    },
    {
     "data": {
      "image/png": "[encoded data removed]",
      "text/plain": [
       "<Figure size 432x288 with 1 Axes>"
      ]
     },
     "metadata": {
      "needs_background": "light",
      "tags": []
     },
     "output_type": "display_data"
    },
    {
     "data": {
      "image/png": "[encoded data removed]",
      "text/plain": [
       "<Figure size 432x288 with 1 Axes>"
      ]
     },
     "metadata": {
      "needs_background": "light",
      "tags": []
     },
     "output_type": "display_data"
    },
    {
     "data": {
      "image/png": "[encoded data removed]",
      "text/plain": [
       "<Figure size 432x288 with 1 Axes>"
      ]
     },
     "metadata": {
      "needs_background": "light",
      "tags": []
     },
     "output_type": "display_data"
    },
    {
     "data": {
      "image/png": "[encoded data removed]",
      "text/plain": [
       "<Figure size 432x288 with 1 Axes>"
      ]
     },
     "metadata": {
      "needs_background": "light",
      "tags": []
     },
     "output_type": "display_data"
    },
    {
     "data": {
      "image/png": "[encoded data removed]",
      "text/plain": [
       "<Figure size 432x288 with 1 Axes>"
      ]
     },
     "metadata": {
      "needs_background": "light",
      "tags": []
     },
     "output_type": "display_data"
    },
    {
     "data": {
      "image/png": "[encoded data removed]",
      "text/plain": [
       "<Figure size 432x288 with 1 Axes>"
      ]
     },
     "metadata": {
      "needs_background": "light",
      "tags": []
     },
     "output_type": "display_data"
    },
    {
     "data": {
      "image/png": "[encoded data removed]",
      "text/plain": [
       "<Figure size 432x288 with 1 Axes>"
      ]
     },
     "metadata": {
      "needs_background": "light",
      "tags": []
     },
     "output_type": "display_data"
    }
   ],
   "source": [
    "#plotting histogram of faetures which are skewed\n",
    "\n",
    "for i in skw:\n",
    "  plt.figure()\n",
    "  sns.distplot(X_train[i])"
   ]
  },
  {
   "cell_type": "markdown",
   "metadata": {
    "colab_type": "text",
    "id": "s2Gs9riHhvZu"
   },
   "source": [
    "If there is skewness present in the distribution use:\n",
    "Power Transformer package present in the preprocessing library provided by sklearn to make distribution more gaussian"
   ]
  },
  {
   "cell_type": "markdown",
   "metadata": {
    "colab_type": "text",
    "id": "9qOiLHRy0sV3"
   },
   "source": [
    "We will remove the skewness by transofrming the data using PowerTransformer"
   ]
  },
  {
   "cell_type": "code",
   "execution_count": null,
   "metadata": {
    "colab": {},
    "colab_type": "code",
    "id": "M-8WywACh6Ol"
   },
   "outputs": [],
   "source": [
    "# import library required for removing skewness. Power Transformer uses the Yeo-Johnson transform\n",
    "from sklearn.preprocessing import PowerTransformer"
   ]
  },
  {
   "cell_type": "code",
   "execution_count": null,
   "metadata": {
    "colab": {},
    "colab_type": "code",
    "id": "_oRdJ1pYh9l5"
   },
   "outputs": [],
   "source": [
    "pt = PowerTransformer()\n",
    "pt.fit(X_train)                       ## Fit the PT on training data\n",
    "X_train_pt = pd.DataFrame(pt.transform(X_train))"
   ]
  },
  {
   "cell_type": "code",
   "execution_count": null,
   "metadata": {
    "colab": {},
    "colab_type": "code",
    "id": "2U5Q-ZXW78Wf"
   },
   "outputs": [],
   "source": [
    "X_train_pt.columns = X_train.columns"
   ]
  },
  {
   "cell_type": "code",
   "execution_count": null,
   "metadata": {
    "colab": {
     "base_uri": "https://localhost:8080/",
     "height": 527
    },
    "colab_type": "code",
    "id": "mm1KVal5iaJH",
    "outputId": "e7364b23-5c9e-4c29-9979-d42dde8b6a06"
   },
   "outputs": [
    {
     "name": "stdout",
     "output_type": "stream",
     "text": [
      "Feature\t\tSkewness\n",
      "V1 \t\t -0.2161191674468003\n",
      "V2 \t\t 0.3230082638419292\n",
      "V3 \t\t -0.0762221767402719\n",
      "V4 \t\t 0.015025619528749604\n",
      "V5 \t\t -1.4981029959425236\n",
      "V6 \t\t -1.7866361458484004\n",
      "V7 \t\t 2.735395619799945\n",
      "V8 \t\t 2.175377489219516\n",
      "V9 \t\t -0.058331447375455044\n",
      "V10 \t\t -1.3072778162135177\n",
      "V11 \t\t 0.05964256040656993\n",
      "V12 \t\t 0.15713937492725374\n",
      "V13 \t\t 0.007199563298682592\n",
      "V14 \t\t 0.0881176426621479\n",
      "V15 \t\t 0.014289251966360847\n",
      "V16 \t\t 0.1673398888227886\n",
      "V17 \t\t -0.8135929783047025\n",
      "V18 \t\t -0.05305260531873384\n",
      "V19 \t\t 0.012779587846409425\n",
      "V20 \t\t -0.9924279383059552\n",
      "V21 \t\t -1.9748667885616704\n",
      "V22 \t\t -0.008062979554288583\n",
      "V23 \t\t -0.2560824389020583\n",
      "V24 \t\t 0.13121996028097385\n",
      "V25 \t\t 0.08423115121627352\n",
      "V26 \t\t -0.025265875775884707\n",
      "V27 \t\t 3.5260030146272943\n",
      "V28 \t\t 0.853407635080604\n",
      "Amount_Scaled \t\t 0.6950251830806993\n"
     ]
    }
   ],
   "source": [
    "# Checking the skewness again\n",
    "\n",
    "print(\"Feature\\t\\tSkewness\")\n",
    "for i in X_train_pt.columns:\n",
    "  #print(i, \"\\t\\t\", st.skew(X_train[i]))\n",
    "  print(i, \"\\t\\t\", st.skew(X_train_pt[i]))"
   ]
  },
  {
   "cell_type": "markdown",
   "metadata": {
    "colab_type": "text",
    "id": "wkfZ5wSn82se"
   },
   "source": [
    "We can see that after applying power transformer, the feature skewness is drastically reduced and now can be used for modelling. Before modelling, we will transform the test data also with the same transformer"
   ]
  },
  {
   "cell_type": "code",
   "execution_count": null,
   "metadata": {
    "colab": {},
    "colab_type": "code",
    "id": "AEhxA1wD8ari"
   },
   "outputs": [],
   "source": [
    "#transforming test data with power transformer\n",
    "X_test_pt = pd.DataFrame(pt.transform(X_test))\n",
    "X_test_pt.columns = X_test.columns"
   ]
  },
  {
   "cell_type": "markdown",
   "metadata": {
    "colab_type": "text",
    "id": "2LrxuSs23qb9"
   },
   "source": [
    "## Model Building\n",
    "- Build different models on the imbalanced dataset and see the result:\n",
    "We will be building - \n",
    "1. Logistic Regression\n",
    "2. Decision Tree\n",
    "3. Random Forest\n",
    "4. XGBoost"
   ]
  },
  {
   "cell_type": "code",
   "execution_count": null,
   "metadata": {
    "colab": {},
    "colab_type": "code",
    "id": "Du1nOWVM3qb-",
    "scrolled": false
   },
   "outputs": [],
   "source": [
    "# Import libraries to run our models\n",
    "from sklearn import linear_model #import the package\n",
    "from sklearn.linear_model import LogisticRegression\n",
    "from sklearn.metrics import confusion_matrix\n",
    "from sklearn.pipeline import Pipeline\n",
    "from sklearn.model_selection import StratifiedKFold\n",
    "from sklearn.model_selection import GridSearchCV"
   ]
  },
  {
   "cell_type": "markdown",
   "metadata": {
    "colab_type": "text",
    "id": "0nc1w36B1sgE"
   },
   "source": [
    "#### Logistic Regression"
   ]
  },
  {
   "cell_type": "code",
   "execution_count": null,
   "metadata": {
    "colab": {},
    "colab_type": "code",
    "id": "AhulONPIlwEm"
   },
   "outputs": [],
   "source": [
    "logistic = LogisticRegression()\n",
    "\n",
    "# create pipeline\n",
    "steps = [(\"scaler\", StandardScaler()), \n",
    "         (\"logistic\", logistic)\n",
    "        ]\n",
    "\n",
    "# compile pipeline\n",
    "pca_logistic = Pipeline(steps)\n",
    "\n",
    "# hyperparameter space\n",
    "params = {'logistic__C': [0.0001, 0.001, 0.01, 0.05, 0.1, \n",
    " 0.2, 0.3, 0.4, 0.5, 0.6, 0.7, 0.8, 0.9, 1.0, 2.0, 3.0, \n",
    " 4.0, 5.0, 6.0, 7.0, 8.0, 9.0, 10.0, 20, 50, 100, 500, 1000], 'logistic__penalty': ['l1', 'l2']}\n",
    "\n",
    "# create 5 folds\n",
    "folds = StratifiedKFold(n_splits = 5, shuffle = True, random_state = 4)\n",
    "\n",
    "# create gridsearch object\n",
    "model = GridSearchCV(estimator=pca_logistic, cv=folds, param_grid=params, scoring='roc_auc', n_jobs=-1, verbose=1)"
   ]
  },
  {
   "cell_type": "code",
   "execution_count": null,
   "metadata": {
    "colab": {
     "base_uri": "https://localhost:8080/",
     "height": 595
    },
    "colab_type": "code",
    "id": "CzxeyG_fn6YB",
    "outputId": "a3ada33a-7967-43a2-c6ef-a7c728c71b67"
   },
   "outputs": [
    {
     "name": "stdout",
     "output_type": "stream",
     "text": [
      "Fitting 5 folds for each of 56 candidates, totalling 280 fits\n"
     ]
    },
    {
     "name": "stderr",
     "output_type": "stream",
     "text": [
      "[Parallel(n_jobs=-1)]: Using backend LokyBackend with 2 concurrent workers.\n",
      "[Parallel(n_jobs=-1)]: Done  46 tasks      | elapsed:   17.4s\n",
      "[Parallel(n_jobs=-1)]: Done 196 tasks      | elapsed:  1.6min\n",
      "[Parallel(n_jobs=-1)]: Done 280 out of 280 | elapsed:  2.4min finished\n"
     ]
    },
    {
     "data": {
      "text/plain": [
       "GridSearchCV(cv=StratifiedKFold(n_splits=5, random_state=4, shuffle=True),\n",
       "             error_score=nan,\n",
       "             estimator=Pipeline(memory=None,\n",
       "                                steps=[('scaler',\n",
       "                                        StandardScaler(copy=True,\n",
       "                                                       with_mean=True,\n",
       "                                                       with_std=True)),\n",
       "                                       ('logistic',\n",
       "                                        LogisticRegression(C=1.0,\n",
       "                                                           class_weight=None,\n",
       "                                                           dual=False,\n",
       "                                                           fit_intercept=True,\n",
       "                                                           intercept_scaling=1,\n",
       "                                                           l1_ratio=None,\n",
       "                                                           max_iter=100,\n",
       "                                                           multi_class='auto',\n",
       "                                                           n_jobs=...\n",
       "                                                           tol=0.0001,\n",
       "                                                           verbose=0,\n",
       "                                                           warm_start=False))],\n",
       "                                verbose=False),\n",
       "             iid='deprecated', n_jobs=-1,\n",
       "             param_grid={'logistic__C': [0.0001, 0.001, 0.01, 0.05, 0.1, 0.2,\n",
       "                                         0.3, 0.4, 0.5, 0.6, 0.7, 0.8, 0.9, 1.0,\n",
       "                                         2.0, 3.0, 4.0, 5.0, 6.0, 7.0, 8.0, 9.0,\n",
       "                                         10.0, 20, 50, 100, 500, 1000],\n",
       "                         'logistic__penalty': ['l1', 'l2']},\n",
       "             pre_dispatch='2*n_jobs', refit=True, return_train_score=False,\n",
       "             scoring='roc_auc', verbose=1)"
      ]
     },
     "execution_count": 29,
     "metadata": {
      "tags": []
     },
     "output_type": "execute_result"
    }
   ],
   "source": [
    "# fit model\n",
    "model.fit(X_train_pt,y_train)"
   ]
  },
  {
   "cell_type": "code",
   "execution_count": null,
   "metadata": {
    "colab": {
     "base_uri": "https://localhost:8080/",
     "height": 1000
    },
    "colab_type": "code",
    "id": "V8PY9H3jzadW",
    "outputId": "e998be4e-087d-4b4c-d872-11e61a708d3f"
   },
   "outputs": [
    {
     "data": {
      "text/html": [
       "<div>\n",
       "<style scoped>\n",
       "    .dataframe tbody tr th:only-of-type {\n",
       "        vertical-align: middle;\n",
       "    }\n",
       "\n",
       "    .dataframe tbody tr th {\n",
       "        vertical-align: top;\n",
       "    }\n",
       "\n",
       "    .dataframe thead th {\n",
       "        text-align: right;\n",
       "    }\n",
       "</style>\n",
       "<table border=\"1\" class=\"dataframe\">\n",
       "  <thead>\n",
       "    <tr style=\"text-align: right;\">\n",
       "      <th></th>\n",
       "      <th>mean_fit_time</th>\n",
       "      <th>std_fit_time</th>\n",
       "      <th>mean_score_time</th>\n",
       "      <th>std_score_time</th>\n",
       "      <th>param_logistic__C</th>\n",
       "      <th>param_logistic__penalty</th>\n",
       "      <th>params</th>\n",
       "      <th>split0_test_score</th>\n",
       "      <th>split1_test_score</th>\n",
       "      <th>split2_test_score</th>\n",
       "      <th>split3_test_score</th>\n",
       "      <th>split4_test_score</th>\n",
       "      <th>mean_test_score</th>\n",
       "      <th>std_test_score</th>\n",
       "      <th>rank_test_score</th>\n",
       "    </tr>\n",
       "  </thead>\n",
       "  <tbody>\n",
       "    <tr>\n",
       "      <th>0</th>\n",
       "      <td>0.219221</td>\n",
       "      <td>0.030534</td>\n",
       "      <td>0.000000</td>\n",
       "      <td>0.000000</td>\n",
       "      <td>0.0001</td>\n",
       "      <td>l1</td>\n",
       "      <td>{'logistic__C': 0.0001, 'logistic__penalty': '...</td>\n",
       "      <td>NaN</td>\n",
       "      <td>NaN</td>\n",
       "      <td>NaN</td>\n",
       "      <td>NaN</td>\n",
       "      <td>NaN</td>\n",
       "      <td>NaN</td>\n",
       "      <td>NaN</td>\n",
       "      <td>56</td>\n",
       "    </tr>\n",
       "    <tr>\n",
       "      <th>1</th>\n",
       "      <td>0.869921</td>\n",
       "      <td>0.045119</td>\n",
       "      <td>0.034849</td>\n",
       "      <td>0.004278</td>\n",
       "      <td>0.0001</td>\n",
       "      <td>l2</td>\n",
       "      <td>{'logistic__C': 0.0001, 'logistic__penalty': '...</td>\n",
       "      <td>0.946820</td>\n",
       "      <td>0.942996</td>\n",
       "      <td>0.960412</td>\n",
       "      <td>0.928636</td>\n",
       "      <td>0.970001</td>\n",
       "      <td>0.949773</td>\n",
       "      <td>0.014309</td>\n",
       "      <td>28</td>\n",
       "    </tr>\n",
       "    <tr>\n",
       "      <th>2</th>\n",
       "      <td>0.177034</td>\n",
       "      <td>0.003253</td>\n",
       "      <td>0.000000</td>\n",
       "      <td>0.000000</td>\n",
       "      <td>0.001</td>\n",
       "      <td>l1</td>\n",
       "      <td>{'logistic__C': 0.001, 'logistic__penalty': 'l1'}</td>\n",
       "      <td>NaN</td>\n",
       "      <td>NaN</td>\n",
       "      <td>NaN</td>\n",
       "      <td>NaN</td>\n",
       "      <td>NaN</td>\n",
       "      <td>NaN</td>\n",
       "      <td>NaN</td>\n",
       "      <td>31</td>\n",
       "    </tr>\n",
       "    <tr>\n",
       "      <th>3</th>\n",
       "      <td>0.923930</td>\n",
       "      <td>0.055706</td>\n",
       "      <td>0.034781</td>\n",
       "      <td>0.002398</td>\n",
       "      <td>0.001</td>\n",
       "      <td>l2</td>\n",
       "      <td>{'logistic__C': 0.001, 'logistic__penalty': 'l2'}</td>\n",
       "      <td>0.981711</td>\n",
       "      <td>0.966220</td>\n",
       "      <td>0.988827</td>\n",
       "      <td>0.970594</td>\n",
       "      <td>0.994143</td>\n",
       "      <td>0.980299</td>\n",
       "      <td>0.010572</td>\n",
       "      <td>27</td>\n",
       "    </tr>\n",
       "    <tr>\n",
       "      <th>4</th>\n",
       "      <td>0.173133</td>\n",
       "      <td>0.006002</td>\n",
       "      <td>0.000000</td>\n",
       "      <td>0.000000</td>\n",
       "      <td>0.01</td>\n",
       "      <td>l1</td>\n",
       "      <td>{'logistic__C': 0.01, 'logistic__penalty': 'l1'}</td>\n",
       "      <td>NaN</td>\n",
       "      <td>NaN</td>\n",
       "      <td>NaN</td>\n",
       "      <td>NaN</td>\n",
       "      <td>NaN</td>\n",
       "      <td>NaN</td>\n",
       "      <td>NaN</td>\n",
       "      <td>34</td>\n",
       "    </tr>\n",
       "    <tr>\n",
       "      <th>5</th>\n",
       "      <td>1.259694</td>\n",
       "      <td>0.044378</td>\n",
       "      <td>0.034145</td>\n",
       "      <td>0.002367</td>\n",
       "      <td>0.01</td>\n",
       "      <td>l2</td>\n",
       "      <td>{'logistic__C': 0.01, 'logistic__penalty': 'l2'}</td>\n",
       "      <td>0.984640</td>\n",
       "      <td>0.978260</td>\n",
       "      <td>0.986682</td>\n",
       "      <td>0.978653</td>\n",
       "      <td>0.993322</td>\n",
       "      <td>0.984311</td>\n",
       "      <td>0.005578</td>\n",
       "      <td>1</td>\n",
       "    </tr>\n",
       "    <tr>\n",
       "      <th>6</th>\n",
       "      <td>0.171817</td>\n",
       "      <td>0.005235</td>\n",
       "      <td>0.000000</td>\n",
       "      <td>0.000000</td>\n",
       "      <td>0.05</td>\n",
       "      <td>l1</td>\n",
       "      <td>{'logistic__C': 0.05, 'logistic__penalty': 'l1'}</td>\n",
       "      <td>NaN</td>\n",
       "      <td>NaN</td>\n",
       "      <td>NaN</td>\n",
       "      <td>NaN</td>\n",
       "      <td>NaN</td>\n",
       "      <td>NaN</td>\n",
       "      <td>NaN</td>\n",
       "      <td>36</td>\n",
       "    </tr>\n",
       "    <tr>\n",
       "      <th>7</th>\n",
       "      <td>1.614014</td>\n",
       "      <td>0.052678</td>\n",
       "      <td>0.032665</td>\n",
       "      <td>0.001483</td>\n",
       "      <td>0.05</td>\n",
       "      <td>l2</td>\n",
       "      <td>{'logistic__C': 0.05, 'logistic__penalty': 'l2'}</td>\n",
       "      <td>0.981167</td>\n",
       "      <td>0.978209</td>\n",
       "      <td>0.984633</td>\n",
       "      <td>0.980018</td>\n",
       "      <td>0.988878</td>\n",
       "      <td>0.982581</td>\n",
       "      <td>0.003783</td>\n",
       "      <td>2</td>\n",
       "    </tr>\n",
       "    <tr>\n",
       "      <th>8</th>\n",
       "      <td>0.173308</td>\n",
       "      <td>0.001576</td>\n",
       "      <td>0.000000</td>\n",
       "      <td>0.000000</td>\n",
       "      <td>0.1</td>\n",
       "      <td>l1</td>\n",
       "      <td>{'logistic__C': 0.1, 'logistic__penalty': 'l1'}</td>\n",
       "      <td>NaN</td>\n",
       "      <td>NaN</td>\n",
       "      <td>NaN</td>\n",
       "      <td>NaN</td>\n",
       "      <td>NaN</td>\n",
       "      <td>NaN</td>\n",
       "      <td>NaN</td>\n",
       "      <td>38</td>\n",
       "    </tr>\n",
       "    <tr>\n",
       "      <th>9</th>\n",
       "      <td>1.698775</td>\n",
       "      <td>0.070089</td>\n",
       "      <td>0.034228</td>\n",
       "      <td>0.002217</td>\n",
       "      <td>0.1</td>\n",
       "      <td>l2</td>\n",
       "      <td>{'logistic__C': 0.1, 'logistic__penalty': 'l2'}</td>\n",
       "      <td>0.980014</td>\n",
       "      <td>0.977553</td>\n",
       "      <td>0.984127</td>\n",
       "      <td>0.980109</td>\n",
       "      <td>0.987035</td>\n",
       "      <td>0.981768</td>\n",
       "      <td>0.003373</td>\n",
       "      <td>3</td>\n",
       "    </tr>\n",
       "    <tr>\n",
       "      <th>10</th>\n",
       "      <td>0.178594</td>\n",
       "      <td>0.009608</td>\n",
       "      <td>0.000000</td>\n",
       "      <td>0.000000</td>\n",
       "      <td>0.2</td>\n",
       "      <td>l1</td>\n",
       "      <td>{'logistic__C': 0.2, 'logistic__penalty': 'l1'}</td>\n",
       "      <td>NaN</td>\n",
       "      <td>NaN</td>\n",
       "      <td>NaN</td>\n",
       "      <td>NaN</td>\n",
       "      <td>NaN</td>\n",
       "      <td>NaN</td>\n",
       "      <td>NaN</td>\n",
       "      <td>40</td>\n",
       "    </tr>\n",
       "    <tr>\n",
       "      <th>11</th>\n",
       "      <td>1.782346</td>\n",
       "      <td>0.085755</td>\n",
       "      <td>0.032498</td>\n",
       "      <td>0.001406</td>\n",
       "      <td>0.2</td>\n",
       "      <td>l2</td>\n",
       "      <td>{'logistic__C': 0.2, 'logistic__penalty': 'l2'}</td>\n",
       "      <td>0.979286</td>\n",
       "      <td>0.977068</td>\n",
       "      <td>0.983837</td>\n",
       "      <td>0.980073</td>\n",
       "      <td>0.985826</td>\n",
       "      <td>0.981218</td>\n",
       "      <td>0.003174</td>\n",
       "      <td>4</td>\n",
       "    </tr>\n",
       "    <tr>\n",
       "      <th>12</th>\n",
       "      <td>0.169943</td>\n",
       "      <td>0.003083</td>\n",
       "      <td>0.000000</td>\n",
       "      <td>0.000000</td>\n",
       "      <td>0.3</td>\n",
       "      <td>l1</td>\n",
       "      <td>{'logistic__C': 0.3, 'logistic__penalty': 'l1'}</td>\n",
       "      <td>NaN</td>\n",
       "      <td>NaN</td>\n",
       "      <td>NaN</td>\n",
       "      <td>NaN</td>\n",
       "      <td>NaN</td>\n",
       "      <td>NaN</td>\n",
       "      <td>NaN</td>\n",
       "      <td>42</td>\n",
       "    </tr>\n",
       "    <tr>\n",
       "      <th>13</th>\n",
       "      <td>1.802129</td>\n",
       "      <td>0.070958</td>\n",
       "      <td>0.032243</td>\n",
       "      <td>0.001831</td>\n",
       "      <td>0.3</td>\n",
       "      <td>l2</td>\n",
       "      <td>{'logistic__C': 0.3, 'logistic__penalty': 'l2'}</td>\n",
       "      <td>0.979023</td>\n",
       "      <td>0.976868</td>\n",
       "      <td>0.983727</td>\n",
       "      <td>0.980066</td>\n",
       "      <td>0.985336</td>\n",
       "      <td>0.981004</td>\n",
       "      <td>0.003102</td>\n",
       "      <td>5</td>\n",
       "    </tr>\n",
       "    <tr>\n",
       "      <th>14</th>\n",
       "      <td>0.177381</td>\n",
       "      <td>0.007555</td>\n",
       "      <td>0.000000</td>\n",
       "      <td>0.000000</td>\n",
       "      <td>0.4</td>\n",
       "      <td>l1</td>\n",
       "      <td>{'logistic__C': 0.4, 'logistic__penalty': 'l1'}</td>\n",
       "      <td>NaN</td>\n",
       "      <td>NaN</td>\n",
       "      <td>NaN</td>\n",
       "      <td>NaN</td>\n",
       "      <td>NaN</td>\n",
       "      <td>NaN</td>\n",
       "      <td>NaN</td>\n",
       "      <td>44</td>\n",
       "    </tr>\n",
       "    <tr>\n",
       "      <th>15</th>\n",
       "      <td>1.822755</td>\n",
       "      <td>0.078056</td>\n",
       "      <td>0.032438</td>\n",
       "      <td>0.000963</td>\n",
       "      <td>0.4</td>\n",
       "      <td>l2</td>\n",
       "      <td>{'logistic__C': 0.4, 'logistic__penalty': 'l2'}</td>\n",
       "      <td>0.978873</td>\n",
       "      <td>0.976767</td>\n",
       "      <td>0.983674</td>\n",
       "      <td>0.980040</td>\n",
       "      <td>0.985083</td>\n",
       "      <td>0.980888</td>\n",
       "      <td>0.003070</td>\n",
       "      <td>6</td>\n",
       "    </tr>\n",
       "    <tr>\n",
       "      <th>16</th>\n",
       "      <td>0.169141</td>\n",
       "      <td>0.001351</td>\n",
       "      <td>0.000000</td>\n",
       "      <td>0.000000</td>\n",
       "      <td>0.5</td>\n",
       "      <td>l1</td>\n",
       "      <td>{'logistic__C': 0.5, 'logistic__penalty': 'l1'}</td>\n",
       "      <td>NaN</td>\n",
       "      <td>NaN</td>\n",
       "      <td>NaN</td>\n",
       "      <td>NaN</td>\n",
       "      <td>NaN</td>\n",
       "      <td>NaN</td>\n",
       "      <td>NaN</td>\n",
       "      <td>46</td>\n",
       "    </tr>\n",
       "    <tr>\n",
       "      <th>17</th>\n",
       "      <td>1.871172</td>\n",
       "      <td>0.069467</td>\n",
       "      <td>0.032487</td>\n",
       "      <td>0.000826</td>\n",
       "      <td>0.5</td>\n",
       "      <td>l2</td>\n",
       "      <td>{'logistic__C': 0.5, 'logistic__penalty': 'l2'}</td>\n",
       "      <td>0.978783</td>\n",
       "      <td>0.976704</td>\n",
       "      <td>0.983640</td>\n",
       "      <td>0.980038</td>\n",
       "      <td>0.984947</td>\n",
       "      <td>0.980822</td>\n",
       "      <td>0.003056</td>\n",
       "      <td>7</td>\n",
       "    </tr>\n",
       "    <tr>\n",
       "      <th>18</th>\n",
       "      <td>0.172131</td>\n",
       "      <td>0.001766</td>\n",
       "      <td>0.000000</td>\n",
       "      <td>0.000000</td>\n",
       "      <td>0.6</td>\n",
       "      <td>l1</td>\n",
       "      <td>{'logistic__C': 0.6, 'logistic__penalty': 'l1'}</td>\n",
       "      <td>NaN</td>\n",
       "      <td>NaN</td>\n",
       "      <td>NaN</td>\n",
       "      <td>NaN</td>\n",
       "      <td>NaN</td>\n",
       "      <td>NaN</td>\n",
       "      <td>NaN</td>\n",
       "      <td>48</td>\n",
       "    </tr>\n",
       "    <tr>\n",
       "      <th>19</th>\n",
       "      <td>1.816499</td>\n",
       "      <td>0.086912</td>\n",
       "      <td>0.034211</td>\n",
       "      <td>0.002883</td>\n",
       "      <td>0.6</td>\n",
       "      <td>l2</td>\n",
       "      <td>{'logistic__C': 0.6, 'logistic__penalty': 'l2'}</td>\n",
       "      <td>0.978724</td>\n",
       "      <td>0.976658</td>\n",
       "      <td>0.983608</td>\n",
       "      <td>0.980022</td>\n",
       "      <td>0.984836</td>\n",
       "      <td>0.980770</td>\n",
       "      <td>0.003041</td>\n",
       "      <td>8</td>\n",
       "    </tr>\n",
       "    <tr>\n",
       "      <th>20</th>\n",
       "      <td>0.171514</td>\n",
       "      <td>0.003439</td>\n",
       "      <td>0.000000</td>\n",
       "      <td>0.000000</td>\n",
       "      <td>0.7</td>\n",
       "      <td>l1</td>\n",
       "      <td>{'logistic__C': 0.7, 'logistic__penalty': 'l1'}</td>\n",
       "      <td>NaN</td>\n",
       "      <td>NaN</td>\n",
       "      <td>NaN</td>\n",
       "      <td>NaN</td>\n",
       "      <td>NaN</td>\n",
       "      <td>NaN</td>\n",
       "      <td>NaN</td>\n",
       "      <td>50</td>\n",
       "    </tr>\n",
       "    <tr>\n",
       "      <th>21</th>\n",
       "      <td>1.848301</td>\n",
       "      <td>0.127084</td>\n",
       "      <td>0.031636</td>\n",
       "      <td>0.001176</td>\n",
       "      <td>0.7</td>\n",
       "      <td>l2</td>\n",
       "      <td>{'logistic__C': 0.7, 'logistic__penalty': 'l2'}</td>\n",
       "      <td>0.978679</td>\n",
       "      <td>0.976627</td>\n",
       "      <td>0.983598</td>\n",
       "      <td>0.980022</td>\n",
       "      <td>0.984759</td>\n",
       "      <td>0.980737</td>\n",
       "      <td>0.003033</td>\n",
       "      <td>9</td>\n",
       "    </tr>\n",
       "    <tr>\n",
       "      <th>22</th>\n",
       "      <td>0.173747</td>\n",
       "      <td>0.010916</td>\n",
       "      <td>0.000000</td>\n",
       "      <td>0.000000</td>\n",
       "      <td>0.8</td>\n",
       "      <td>l1</td>\n",
       "      <td>{'logistic__C': 0.8, 'logistic__penalty': 'l1'}</td>\n",
       "      <td>NaN</td>\n",
       "      <td>NaN</td>\n",
       "      <td>NaN</td>\n",
       "      <td>NaN</td>\n",
       "      <td>NaN</td>\n",
       "      <td>NaN</td>\n",
       "      <td>NaN</td>\n",
       "      <td>52</td>\n",
       "    </tr>\n",
       "    <tr>\n",
       "      <th>23</th>\n",
       "      <td>1.824724</td>\n",
       "      <td>0.092487</td>\n",
       "      <td>0.032113</td>\n",
       "      <td>0.000924</td>\n",
       "      <td>0.8</td>\n",
       "      <td>l2</td>\n",
       "      <td>{'logistic__C': 0.8, 'logistic__penalty': 'l2'}</td>\n",
       "      <td>0.978649</td>\n",
       "      <td>0.976605</td>\n",
       "      <td>0.983595</td>\n",
       "      <td>0.980022</td>\n",
       "      <td>0.984702</td>\n",
       "      <td>0.980714</td>\n",
       "      <td>0.003028</td>\n",
       "      <td>10</td>\n",
       "    </tr>\n",
       "    <tr>\n",
       "      <th>24</th>\n",
       "      <td>0.170275</td>\n",
       "      <td>0.005169</td>\n",
       "      <td>0.000000</td>\n",
       "      <td>0.000000</td>\n",
       "      <td>0.9</td>\n",
       "      <td>l1</td>\n",
       "      <td>{'logistic__C': 0.9, 'logistic__penalty': 'l1'}</td>\n",
       "      <td>NaN</td>\n",
       "      <td>NaN</td>\n",
       "      <td>NaN</td>\n",
       "      <td>NaN</td>\n",
       "      <td>NaN</td>\n",
       "      <td>NaN</td>\n",
       "      <td>NaN</td>\n",
       "      <td>55</td>\n",
       "    </tr>\n",
       "    <tr>\n",
       "      <th>25</th>\n",
       "      <td>1.839178</td>\n",
       "      <td>0.047700</td>\n",
       "      <td>0.032966</td>\n",
       "      <td>0.001679</td>\n",
       "      <td>0.9</td>\n",
       "      <td>l2</td>\n",
       "      <td>{'logistic__C': 0.9, 'logistic__penalty': 'l2'}</td>\n",
       "      <td>0.978623</td>\n",
       "      <td>0.976591</td>\n",
       "      <td>0.983588</td>\n",
       "      <td>0.980014</td>\n",
       "      <td>0.984660</td>\n",
       "      <td>0.980695</td>\n",
       "      <td>0.003023</td>\n",
       "      <td>11</td>\n",
       "    </tr>\n",
       "    <tr>\n",
       "      <th>26</th>\n",
       "      <td>0.181643</td>\n",
       "      <td>0.017005</td>\n",
       "      <td>0.000000</td>\n",
       "      <td>0.000000</td>\n",
       "      <td>1</td>\n",
       "      <td>l1</td>\n",
       "      <td>{'logistic__C': 1.0, 'logistic__penalty': 'l1'}</td>\n",
       "      <td>NaN</td>\n",
       "      <td>NaN</td>\n",
       "      <td>NaN</td>\n",
       "      <td>NaN</td>\n",
       "      <td>NaN</td>\n",
       "      <td>NaN</td>\n",
       "      <td>NaN</td>\n",
       "      <td>29</td>\n",
       "    </tr>\n",
       "    <tr>\n",
       "      <th>27</th>\n",
       "      <td>1.870745</td>\n",
       "      <td>0.062782</td>\n",
       "      <td>0.031787</td>\n",
       "      <td>0.001746</td>\n",
       "      <td>1</td>\n",
       "      <td>l2</td>\n",
       "      <td>{'logistic__C': 1.0, 'logistic__penalty': 'l2'}</td>\n",
       "      <td>0.978609</td>\n",
       "      <td>0.976579</td>\n",
       "      <td>0.983573</td>\n",
       "      <td>0.980013</td>\n",
       "      <td>0.984614</td>\n",
       "      <td>0.980678</td>\n",
       "      <td>0.003014</td>\n",
       "      <td>12</td>\n",
       "    </tr>\n",
       "    <tr>\n",
       "      <th>28</th>\n",
       "      <td>0.168305</td>\n",
       "      <td>0.002192</td>\n",
       "      <td>0.000000</td>\n",
       "      <td>0.000000</td>\n",
       "      <td>2</td>\n",
       "      <td>l1</td>\n",
       "      <td>{'logistic__C': 2.0, 'logistic__penalty': 'l1'}</td>\n",
       "      <td>NaN</td>\n",
       "      <td>NaN</td>\n",
       "      <td>NaN</td>\n",
       "      <td>NaN</td>\n",
       "      <td>NaN</td>\n",
       "      <td>NaN</td>\n",
       "      <td>NaN</td>\n",
       "      <td>53</td>\n",
       "    </tr>\n",
       "    <tr>\n",
       "      <th>29</th>\n",
       "      <td>1.873496</td>\n",
       "      <td>0.082140</td>\n",
       "      <td>0.032616</td>\n",
       "      <td>0.000869</td>\n",
       "      <td>2</td>\n",
       "      <td>l2</td>\n",
       "      <td>{'logistic__C': 2.0, 'logistic__penalty': 'l2'}</td>\n",
       "      <td>0.978516</td>\n",
       "      <td>0.976506</td>\n",
       "      <td>0.983531</td>\n",
       "      <td>0.979990</td>\n",
       "      <td>0.984440</td>\n",
       "      <td>0.980597</td>\n",
       "      <td>0.002994</td>\n",
       "      <td>13</td>\n",
       "    </tr>\n",
       "    <tr>\n",
       "      <th>30</th>\n",
       "      <td>0.186352</td>\n",
       "      <td>0.021355</td>\n",
       "      <td>0.000000</td>\n",
       "      <td>0.000000</td>\n",
       "      <td>3</td>\n",
       "      <td>l1</td>\n",
       "      <td>{'logistic__C': 3.0, 'logistic__penalty': 'l1'}</td>\n",
       "      <td>NaN</td>\n",
       "      <td>NaN</td>\n",
       "      <td>NaN</td>\n",
       "      <td>NaN</td>\n",
       "      <td>NaN</td>\n",
       "      <td>NaN</td>\n",
       "      <td>NaN</td>\n",
       "      <td>51</td>\n",
       "    </tr>\n",
       "    <tr>\n",
       "      <th>31</th>\n",
       "      <td>1.844587</td>\n",
       "      <td>0.042097</td>\n",
       "      <td>0.031693</td>\n",
       "      <td>0.000825</td>\n",
       "      <td>3</td>\n",
       "      <td>l2</td>\n",
       "      <td>{'logistic__C': 3.0, 'logistic__penalty': 'l2'}</td>\n",
       "      <td>0.978484</td>\n",
       "      <td>0.976480</td>\n",
       "      <td>0.983515</td>\n",
       "      <td>0.979990</td>\n",
       "      <td>0.984385</td>\n",
       "      <td>0.980571</td>\n",
       "      <td>0.002988</td>\n",
       "      <td>14</td>\n",
       "    </tr>\n",
       "    <tr>\n",
       "      <th>32</th>\n",
       "      <td>0.175113</td>\n",
       "      <td>0.009177</td>\n",
       "      <td>0.000000</td>\n",
       "      <td>0.000000</td>\n",
       "      <td>4</td>\n",
       "      <td>l1</td>\n",
       "      <td>{'logistic__C': 4.0, 'logistic__penalty': 'l1'}</td>\n",
       "      <td>NaN</td>\n",
       "      <td>NaN</td>\n",
       "      <td>NaN</td>\n",
       "      <td>NaN</td>\n",
       "      <td>NaN</td>\n",
       "      <td>NaN</td>\n",
       "      <td>NaN</td>\n",
       "      <td>49</td>\n",
       "    </tr>\n",
       "    <tr>\n",
       "      <th>33</th>\n",
       "      <td>1.912087</td>\n",
       "      <td>0.040950</td>\n",
       "      <td>0.032951</td>\n",
       "      <td>0.001084</td>\n",
       "      <td>4</td>\n",
       "      <td>l2</td>\n",
       "      <td>{'logistic__C': 4.0, 'logistic__penalty': 'l2'}</td>\n",
       "      <td>0.978467</td>\n",
       "      <td>0.976466</td>\n",
       "      <td>0.983514</td>\n",
       "      <td>0.979991</td>\n",
       "      <td>0.984354</td>\n",
       "      <td>0.980558</td>\n",
       "      <td>0.002986</td>\n",
       "      <td>15</td>\n",
       "    </tr>\n",
       "    <tr>\n",
       "      <th>34</th>\n",
       "      <td>0.175884</td>\n",
       "      <td>0.006714</td>\n",
       "      <td>0.000000</td>\n",
       "      <td>0.000000</td>\n",
       "      <td>5</td>\n",
       "      <td>l1</td>\n",
       "      <td>{'logistic__C': 5.0, 'logistic__penalty': 'l1'}</td>\n",
       "      <td>NaN</td>\n",
       "      <td>NaN</td>\n",
       "      <td>NaN</td>\n",
       "      <td>NaN</td>\n",
       "      <td>NaN</td>\n",
       "      <td>NaN</td>\n",
       "      <td>NaN</td>\n",
       "      <td>47</td>\n",
       "    </tr>\n",
       "    <tr>\n",
       "      <th>35</th>\n",
       "      <td>1.870816</td>\n",
       "      <td>0.044319</td>\n",
       "      <td>0.033492</td>\n",
       "      <td>0.000994</td>\n",
       "      <td>5</td>\n",
       "      <td>l2</td>\n",
       "      <td>{'logistic__C': 5.0, 'logistic__penalty': 'l2'}</td>\n",
       "      <td>0.978461</td>\n",
       "      <td>0.976463</td>\n",
       "      <td>0.983510</td>\n",
       "      <td>0.979991</td>\n",
       "      <td>0.984337</td>\n",
       "      <td>0.980552</td>\n",
       "      <td>0.002983</td>\n",
       "      <td>16</td>\n",
       "    </tr>\n",
       "    <tr>\n",
       "      <th>36</th>\n",
       "      <td>0.174803</td>\n",
       "      <td>0.002442</td>\n",
       "      <td>0.000000</td>\n",
       "      <td>0.000000</td>\n",
       "      <td>6</td>\n",
       "      <td>l1</td>\n",
       "      <td>{'logistic__C': 6.0, 'logistic__penalty': 'l1'}</td>\n",
       "      <td>NaN</td>\n",
       "      <td>NaN</td>\n",
       "      <td>NaN</td>\n",
       "      <td>NaN</td>\n",
       "      <td>NaN</td>\n",
       "      <td>NaN</td>\n",
       "      <td>NaN</td>\n",
       "      <td>45</td>\n",
       "    </tr>\n",
       "    <tr>\n",
       "      <th>37</th>\n",
       "      <td>1.912627</td>\n",
       "      <td>0.030735</td>\n",
       "      <td>0.032763</td>\n",
       "      <td>0.001089</td>\n",
       "      <td>6</td>\n",
       "      <td>l2</td>\n",
       "      <td>{'logistic__C': 6.0, 'logistic__penalty': 'l2'}</td>\n",
       "      <td>0.978457</td>\n",
       "      <td>0.976457</td>\n",
       "      <td>0.983506</td>\n",
       "      <td>0.979990</td>\n",
       "      <td>0.984327</td>\n",
       "      <td>0.980547</td>\n",
       "      <td>0.002982</td>\n",
       "      <td>17</td>\n",
       "    </tr>\n",
       "    <tr>\n",
       "      <th>38</th>\n",
       "      <td>0.181233</td>\n",
       "      <td>0.018982</td>\n",
       "      <td>0.000000</td>\n",
       "      <td>0.000000</td>\n",
       "      <td>7</td>\n",
       "      <td>l1</td>\n",
       "      <td>{'logistic__C': 7.0, 'logistic__penalty': 'l1'}</td>\n",
       "      <td>NaN</td>\n",
       "      <td>NaN</td>\n",
       "      <td>NaN</td>\n",
       "      <td>NaN</td>\n",
       "      <td>NaN</td>\n",
       "      <td>NaN</td>\n",
       "      <td>NaN</td>\n",
       "      <td>43</td>\n",
       "    </tr>\n",
       "    <tr>\n",
       "      <th>39</th>\n",
       "      <td>1.894461</td>\n",
       "      <td>0.069082</td>\n",
       "      <td>0.033442</td>\n",
       "      <td>0.001572</td>\n",
       "      <td>7</td>\n",
       "      <td>l2</td>\n",
       "      <td>{'logistic__C': 7.0, 'logistic__penalty': 'l2'}</td>\n",
       "      <td>0.978450</td>\n",
       "      <td>0.976454</td>\n",
       "      <td>0.983503</td>\n",
       "      <td>0.979988</td>\n",
       "      <td>0.984317</td>\n",
       "      <td>0.980543</td>\n",
       "      <td>0.002980</td>\n",
       "      <td>18</td>\n",
       "    </tr>\n",
       "    <tr>\n",
       "      <th>40</th>\n",
       "      <td>0.171728</td>\n",
       "      <td>0.003240</td>\n",
       "      <td>0.000000</td>\n",
       "      <td>0.000000</td>\n",
       "      <td>8</td>\n",
       "      <td>l1</td>\n",
       "      <td>{'logistic__C': 8.0, 'logistic__penalty': 'l1'}</td>\n",
       "      <td>NaN</td>\n",
       "      <td>NaN</td>\n",
       "      <td>NaN</td>\n",
       "      <td>NaN</td>\n",
       "      <td>NaN</td>\n",
       "      <td>NaN</td>\n",
       "      <td>NaN</td>\n",
       "      <td>41</td>\n",
       "    </tr>\n",
       "    <tr>\n",
       "      <th>41</th>\n",
       "      <td>1.912749</td>\n",
       "      <td>0.053621</td>\n",
       "      <td>0.035259</td>\n",
       "      <td>0.002321</td>\n",
       "      <td>8</td>\n",
       "      <td>l2</td>\n",
       "      <td>{'logistic__C': 8.0, 'logistic__penalty': 'l2'}</td>\n",
       "      <td>0.978446</td>\n",
       "      <td>0.976451</td>\n",
       "      <td>0.983501</td>\n",
       "      <td>0.979987</td>\n",
       "      <td>0.984314</td>\n",
       "      <td>0.980540</td>\n",
       "      <td>0.002981</td>\n",
       "      <td>19</td>\n",
       "    </tr>\n",
       "    <tr>\n",
       "      <th>42</th>\n",
       "      <td>0.183790</td>\n",
       "      <td>0.017396</td>\n",
       "      <td>0.000000</td>\n",
       "      <td>0.000000</td>\n",
       "      <td>9</td>\n",
       "      <td>l1</td>\n",
       "      <td>{'logistic__C': 9.0, 'logistic__penalty': 'l1'}</td>\n",
       "      <td>NaN</td>\n",
       "      <td>NaN</td>\n",
       "      <td>NaN</td>\n",
       "      <td>NaN</td>\n",
       "      <td>NaN</td>\n",
       "      <td>NaN</td>\n",
       "      <td>NaN</td>\n",
       "      <td>39</td>\n",
       "    </tr>\n",
       "    <tr>\n",
       "      <th>43</th>\n",
       "      <td>1.895862</td>\n",
       "      <td>0.026959</td>\n",
       "      <td>0.033138</td>\n",
       "      <td>0.001695</td>\n",
       "      <td>9</td>\n",
       "      <td>l2</td>\n",
       "      <td>{'logistic__C': 9.0, 'logistic__penalty': 'l2'}</td>\n",
       "      <td>0.978442</td>\n",
       "      <td>0.976449</td>\n",
       "      <td>0.983497</td>\n",
       "      <td>0.979987</td>\n",
       "      <td>0.984309</td>\n",
       "      <td>0.980537</td>\n",
       "      <td>0.002980</td>\n",
       "      <td>20</td>\n",
       "    </tr>\n",
       "    <tr>\n",
       "      <th>44</th>\n",
       "      <td>0.175035</td>\n",
       "      <td>0.002545</td>\n",
       "      <td>0.000000</td>\n",
       "      <td>0.000000</td>\n",
       "      <td>10</td>\n",
       "      <td>l1</td>\n",
       "      <td>{'logistic__C': 10.0, 'logistic__penalty': 'l1'}</td>\n",
       "      <td>NaN</td>\n",
       "      <td>NaN</td>\n",
       "      <td>NaN</td>\n",
       "      <td>NaN</td>\n",
       "      <td>NaN</td>\n",
       "      <td>NaN</td>\n",
       "      <td>NaN</td>\n",
       "      <td>37</td>\n",
       "    </tr>\n",
       "    <tr>\n",
       "      <th>45</th>\n",
       "      <td>1.908902</td>\n",
       "      <td>0.029827</td>\n",
       "      <td>0.038862</td>\n",
       "      <td>0.010744</td>\n",
       "      <td>10</td>\n",
       "      <td>l2</td>\n",
       "      <td>{'logistic__C': 10.0, 'logistic__penalty': 'l2'}</td>\n",
       "      <td>0.978441</td>\n",
       "      <td>0.976448</td>\n",
       "      <td>0.983498</td>\n",
       "      <td>0.979985</td>\n",
       "      <td>0.984303</td>\n",
       "      <td>0.980535</td>\n",
       "      <td>0.002979</td>\n",
       "      <td>21</td>\n",
       "    </tr>\n",
       "    <tr>\n",
       "      <th>46</th>\n",
       "      <td>0.174729</td>\n",
       "      <td>0.002853</td>\n",
       "      <td>0.000000</td>\n",
       "      <td>0.000000</td>\n",
       "      <td>20</td>\n",
       "      <td>l1</td>\n",
       "      <td>{'logistic__C': 20, 'logistic__penalty': 'l1'}</td>\n",
       "      <td>NaN</td>\n",
       "      <td>NaN</td>\n",
       "      <td>NaN</td>\n",
       "      <td>NaN</td>\n",
       "      <td>NaN</td>\n",
       "      <td>NaN</td>\n",
       "      <td>NaN</td>\n",
       "      <td>35</td>\n",
       "    </tr>\n",
       "    <tr>\n",
       "      <th>47</th>\n",
       "      <td>1.944621</td>\n",
       "      <td>0.020578</td>\n",
       "      <td>0.033243</td>\n",
       "      <td>0.001315</td>\n",
       "      <td>20</td>\n",
       "      <td>l2</td>\n",
       "      <td>{'logistic__C': 20, 'logistic__penalty': 'l2'}</td>\n",
       "      <td>0.978427</td>\n",
       "      <td>0.976442</td>\n",
       "      <td>0.983493</td>\n",
       "      <td>0.979985</td>\n",
       "      <td>0.984287</td>\n",
       "      <td>0.980527</td>\n",
       "      <td>0.002977</td>\n",
       "      <td>22</td>\n",
       "    </tr>\n",
       "    <tr>\n",
       "      <th>48</th>\n",
       "      <td>0.172025</td>\n",
       "      <td>0.003069</td>\n",
       "      <td>0.000000</td>\n",
       "      <td>0.000000</td>\n",
       "      <td>50</td>\n",
       "      <td>l1</td>\n",
       "      <td>{'logistic__C': 50, 'logistic__penalty': 'l1'}</td>\n",
       "      <td>NaN</td>\n",
       "      <td>NaN</td>\n",
       "      <td>NaN</td>\n",
       "      <td>NaN</td>\n",
       "      <td>NaN</td>\n",
       "      <td>NaN</td>\n",
       "      <td>NaN</td>\n",
       "      <td>33</td>\n",
       "    </tr>\n",
       "    <tr>\n",
       "      <th>49</th>\n",
       "      <td>1.870482</td>\n",
       "      <td>0.045237</td>\n",
       "      <td>0.037244</td>\n",
       "      <td>0.006449</td>\n",
       "      <td>50</td>\n",
       "      <td>l2</td>\n",
       "      <td>{'logistic__C': 50, 'logistic__penalty': 'l2'}</td>\n",
       "      <td>0.978421</td>\n",
       "      <td>0.976436</td>\n",
       "      <td>0.983490</td>\n",
       "      <td>0.979988</td>\n",
       "      <td>0.984275</td>\n",
       "      <td>0.980522</td>\n",
       "      <td>0.002976</td>\n",
       "      <td>23</td>\n",
       "    </tr>\n",
       "    <tr>\n",
       "      <th>50</th>\n",
       "      <td>0.174114</td>\n",
       "      <td>0.001880</td>\n",
       "      <td>0.000000</td>\n",
       "      <td>0.000000</td>\n",
       "      <td>100</td>\n",
       "      <td>l1</td>\n",
       "      <td>{'logistic__C': 100, 'logistic__penalty': 'l1'}</td>\n",
       "      <td>NaN</td>\n",
       "      <td>NaN</td>\n",
       "      <td>NaN</td>\n",
       "      <td>NaN</td>\n",
       "      <td>NaN</td>\n",
       "      <td>NaN</td>\n",
       "      <td>NaN</td>\n",
       "      <td>32</td>\n",
       "    </tr>\n",
       "    <tr>\n",
       "      <th>51</th>\n",
       "      <td>1.918401</td>\n",
       "      <td>0.045099</td>\n",
       "      <td>0.033033</td>\n",
       "      <td>0.001574</td>\n",
       "      <td>100</td>\n",
       "      <td>l2</td>\n",
       "      <td>{'logistic__C': 100, 'logistic__penalty': 'l2'}</td>\n",
       "      <td>0.978418</td>\n",
       "      <td>0.976437</td>\n",
       "      <td>0.983490</td>\n",
       "      <td>0.979989</td>\n",
       "      <td>0.984270</td>\n",
       "      <td>0.980521</td>\n",
       "      <td>0.002975</td>\n",
       "      <td>24</td>\n",
       "    </tr>\n",
       "    <tr>\n",
       "      <th>52</th>\n",
       "      <td>0.177232</td>\n",
       "      <td>0.002392</td>\n",
       "      <td>0.000000</td>\n",
       "      <td>0.000000</td>\n",
       "      <td>500</td>\n",
       "      <td>l1</td>\n",
       "      <td>{'logistic__C': 500, 'logistic__penalty': 'l1'}</td>\n",
       "      <td>NaN</td>\n",
       "      <td>NaN</td>\n",
       "      <td>NaN</td>\n",
       "      <td>NaN</td>\n",
       "      <td>NaN</td>\n",
       "      <td>NaN</td>\n",
       "      <td>NaN</td>\n",
       "      <td>30</td>\n",
       "    </tr>\n",
       "    <tr>\n",
       "      <th>53</th>\n",
       "      <td>1.903003</td>\n",
       "      <td>0.048988</td>\n",
       "      <td>0.034624</td>\n",
       "      <td>0.004607</td>\n",
       "      <td>500</td>\n",
       "      <td>l2</td>\n",
       "      <td>{'logistic__C': 500, 'logistic__penalty': 'l2'}</td>\n",
       "      <td>0.978417</td>\n",
       "      <td>0.976436</td>\n",
       "      <td>0.983490</td>\n",
       "      <td>0.979990</td>\n",
       "      <td>0.984269</td>\n",
       "      <td>0.980520</td>\n",
       "      <td>0.002975</td>\n",
       "      <td>25</td>\n",
       "    </tr>\n",
       "    <tr>\n",
       "      <th>54</th>\n",
       "      <td>0.170292</td>\n",
       "      <td>0.002136</td>\n",
       "      <td>0.000000</td>\n",
       "      <td>0.000000</td>\n",
       "      <td>1000</td>\n",
       "      <td>l1</td>\n",
       "      <td>{'logistic__C': 1000, 'logistic__penalty': 'l1'}</td>\n",
       "      <td>NaN</td>\n",
       "      <td>NaN</td>\n",
       "      <td>NaN</td>\n",
       "      <td>NaN</td>\n",
       "      <td>NaN</td>\n",
       "      <td>NaN</td>\n",
       "      <td>NaN</td>\n",
       "      <td>54</td>\n",
       "    </tr>\n",
       "    <tr>\n",
       "      <th>55</th>\n",
       "      <td>1.777657</td>\n",
       "      <td>0.201550</td>\n",
       "      <td>0.029910</td>\n",
       "      <td>0.004685</td>\n",
       "      <td>1000</td>\n",
       "      <td>l2</td>\n",
       "      <td>{'logistic__C': 1000, 'logistic__penalty': 'l2'}</td>\n",
       "      <td>0.978416</td>\n",
       "      <td>0.976435</td>\n",
       "      <td>0.983489</td>\n",
       "      <td>0.979990</td>\n",
       "      <td>0.984268</td>\n",
       "      <td>0.980520</td>\n",
       "      <td>0.002975</td>\n",
       "      <td>26</td>\n",
       "    </tr>\n",
       "  </tbody>\n",
       "</table>\n",
       "</div>"
      ],
      "text/plain": [
       "    mean_fit_time  std_fit_time  ...  std_test_score  rank_test_score\n",
       "0        0.219221      0.030534  ...             NaN               56\n",
       "1        0.869921      0.045119  ...        0.014309               28\n",
       "2        0.177034      0.003253  ...             NaN               31\n",
       "3        0.923930      0.055706  ...        0.010572               27\n",
       "4        0.173133      0.006002  ...             NaN               34\n",
       "5        1.259694      0.044378  ...        0.005578                1\n",
       "6        0.171817      0.005235  ...             NaN               36\n",
       "7        1.614014      0.052678  ...        0.003783                2\n",
       "8        0.173308      0.001576  ...             NaN               38\n",
       "9        1.698775      0.070089  ...        0.003373                3\n",
       "10       0.178594      0.009608  ...             NaN               40\n",
       "11       1.782346      0.085755  ...        0.003174                4\n",
       "12       0.169943      0.003083  ...             NaN               42\n",
       "13       1.802129      0.070958  ...        0.003102                5\n",
       "14       0.177381      0.007555  ...             NaN               44\n",
       "15       1.822755      0.078056  ...        0.003070                6\n",
       "16       0.169141      0.001351  ...             NaN               46\n",
       "17       1.871172      0.069467  ...        0.003056                7\n",
       "18       0.172131      0.001766  ...             NaN               48\n",
       "19       1.816499      0.086912  ...        0.003041                8\n",
       "20       0.171514      0.003439  ...             NaN               50\n",
       "21       1.848301      0.127084  ...        0.003033                9\n",
       "22       0.173747      0.010916  ...             NaN               52\n",
       "23       1.824724      0.092487  ...        0.003028               10\n",
       "24       0.170275      0.005169  ...             NaN               55\n",
       "25       1.839178      0.047700  ...        0.003023               11\n",
       "26       0.181643      0.017005  ...             NaN               29\n",
       "27       1.870745      0.062782  ...        0.003014               12\n",
       "28       0.168305      0.002192  ...             NaN               53\n",
       "29       1.873496      0.082140  ...        0.002994               13\n",
       "30       0.186352      0.021355  ...             NaN               51\n",
       "31       1.844587      0.042097  ...        0.002988               14\n",
       "32       0.175113      0.009177  ...             NaN               49\n",
       "33       1.912087      0.040950  ...        0.002986               15\n",
       "34       0.175884      0.006714  ...             NaN               47\n",
       "35       1.870816      0.044319  ...        0.002983               16\n",
       "36       0.174803      0.002442  ...             NaN               45\n",
       "37       1.912627      0.030735  ...        0.002982               17\n",
       "38       0.181233      0.018982  ...             NaN               43\n",
       "39       1.894461      0.069082  ...        0.002980               18\n",
       "40       0.171728      0.003240  ...             NaN               41\n",
       "41       1.912749      0.053621  ...        0.002981               19\n",
       "42       0.183790      0.017396  ...             NaN               39\n",
       "43       1.895862      0.026959  ...        0.002980               20\n",
       "44       0.175035      0.002545  ...             NaN               37\n",
       "45       1.908902      0.029827  ...        0.002979               21\n",
       "46       0.174729      0.002853  ...             NaN               35\n",
       "47       1.944621      0.020578  ...        0.002977               22\n",
       "48       0.172025      0.003069  ...             NaN               33\n",
       "49       1.870482      0.045237  ...        0.002976               23\n",
       "50       0.174114      0.001880  ...             NaN               32\n",
       "51       1.918401      0.045099  ...        0.002975               24\n",
       "52       0.177232      0.002392  ...             NaN               30\n",
       "53       1.903003      0.048988  ...        0.002975               25\n",
       "54       0.170292      0.002136  ...             NaN               54\n",
       "55       1.777657      0.201550  ...        0.002975               26\n",
       "\n",
       "[56 rows x 15 columns]"
      ]
     },
     "execution_count": 30,
     "metadata": {
      "tags": []
     },
     "output_type": "execute_result"
    }
   ],
   "source": [
    "# cross validation results\n",
    "pd.DataFrame(model.cv_results_)"
   ]
  },
  {
   "cell_type": "code",
   "execution_count": null,
   "metadata": {
    "colab": {
     "base_uri": "https://localhost:8080/",
     "height": 51
    },
    "colab_type": "code",
    "id": "SFDtfh-g-BiD",
    "outputId": "b3a24f3e-4ed3-4450-d5d0-5366f73c8798"
   },
   "outputs": [
    {
     "name": "stdout",
     "output_type": "stream",
     "text": [
      "Best roc_auc:  0.9843113428284967\n",
      "Best hyperparameters:  {'logistic__C': 0.01, 'logistic__penalty': 'l2'}\n"
     ]
    }
   ],
   "source": [
    "#print best hyperparameters\n",
    "print(\"Best roc_auc: \", model.best_score_)\n",
    "print(\"Best hyperparameters: \", model.best_params_)"
   ]
  },
  {
   "cell_type": "markdown",
   "metadata": {
    "colab_type": "text",
    "id": "hqZcRmIfOscK"
   },
   "source": [
    "For model evaluation purposes, we have chosen AUC_ROC and not the accuracy due to the high class imbalance.\n",
    "\n",
    "We will not be running KNN and SVM as our data set is larger than the recommended size for these 2 models and will take very long time to execute"
   ]
  },
  {
   "cell_type": "markdown",
   "metadata": {
    "colab_type": "text",
    "id": "Z0RsjKJFizyp"
   },
   "source": [
    "#### Random Forest"
   ]
  },
  {
   "cell_type": "code",
   "execution_count": null,
   "metadata": {
    "colab": {},
    "colab_type": "code",
    "id": "gTk8zxLD0qZQ"
   },
   "outputs": [],
   "source": [
    "from sklearn.ensemble import RandomForestClassifier"
   ]
  },
  {
   "cell_type": "code",
   "execution_count": null,
   "metadata": {
    "colab": {},
    "colab_type": "code",
    "id": "FzF_5XZ20ZvY"
   },
   "outputs": [],
   "source": [
    "# RANDOM FOREST :\n",
    "\n",
    "forest = RandomForestClassifier(n_jobs = -1)\n",
    "\n",
    "# hyperparameter space\n",
    "params = {\"criterion\": ['gini', 'entropy'], \"max_features\": ['auto', 0.4]}\n",
    "\n",
    "# create 5 folds\n",
    "folds = StratifiedKFold(n_splits = 5, shuffle = True, random_state = 4)\n",
    "\n",
    "# create gridsearch object\n",
    "model1 = GridSearchCV(estimator=forest, cv=folds, param_grid=params, scoring='roc_auc', n_jobs=-1, verbose=1)"
   ]
  },
  {
   "cell_type": "code",
   "execution_count": null,
   "metadata": {
    "colab": {
     "base_uri": "https://localhost:8080/",
     "height": 442
    },
    "colab_type": "code",
    "id": "fOVBdzDZ0ZSi",
    "outputId": "b73bac10-280d-4101-9b58-72a8ef040020"
   },
   "outputs": [
    {
     "name": "stdout",
     "output_type": "stream",
     "text": [
      "Fitting 5 folds for each of 4 candidates, totalling 20 fits\n"
     ]
    },
    {
     "name": "stderr",
     "output_type": "stream",
     "text": [
      "[Parallel(n_jobs=-1)]: Using backend LokyBackend with 2 concurrent workers.\n",
      "[Parallel(n_jobs=-1)]: Done  20 out of  20 | elapsed: 48.3min finished\n"
     ]
    },
    {
     "data": {
      "text/plain": [
       "GridSearchCV(cv=StratifiedKFold(n_splits=5, random_state=4, shuffle=True),\n",
       "             error_score=nan,\n",
       "             estimator=RandomForestClassifier(bootstrap=True, ccp_alpha=0.0,\n",
       "                                              class_weight=None,\n",
       "                                              criterion='gini', max_depth=None,\n",
       "                                              max_features='auto',\n",
       "                                              max_leaf_nodes=None,\n",
       "                                              max_samples=None,\n",
       "                                              min_impurity_decrease=0.0,\n",
       "                                              min_impurity_split=None,\n",
       "                                              min_samples_leaf=1,\n",
       "                                              min_samples_split=2,\n",
       "                                              min_weight_fraction_leaf=0.0,\n",
       "                                              n_estimators=100, n_jobs=-1,\n",
       "                                              oob_score=False,\n",
       "                                              random_state=None, verbose=0,\n",
       "                                              warm_start=False),\n",
       "             iid='deprecated', n_jobs=-1,\n",
       "             param_grid={'criterion': ['gini', 'entropy'],\n",
       "                         'max_features': ['auto', 0.4]},\n",
       "             pre_dispatch='2*n_jobs', refit=True, return_train_score=False,\n",
       "             scoring='roc_auc', verbose=1)"
      ]
     },
     "execution_count": 35,
     "metadata": {
      "tags": []
     },
     "output_type": "execute_result"
    }
   ],
   "source": [
    "# fit model\n",
    "model1.fit(X_train_pt, y_train)"
   ]
  },
  {
   "cell_type": "code",
   "execution_count": null,
   "metadata": {
    "colab": {
     "base_uri": "https://localhost:8080/",
     "height": 51
    },
    "colab_type": "code",
    "id": "jW3_QXJ2MIHK",
    "outputId": "ce967dd7-7b11-4087-9e52-4e84bea2731f"
   },
   "outputs": [
    {
     "name": "stdout",
     "output_type": "stream",
     "text": [
      "Best roc_auc:  0.9543233207190529\n",
      "Best hyperparameters:  {'criterion': 'entropy', 'max_features': 'auto'}\n"
     ]
    }
   ],
   "source": [
    "#print best hyperparameters\n",
    "print(\"Best roc_auc: \", model1.best_score_)\n",
    "print(\"Best hyperparameters: \", model1.best_params_)"
   ]
  },
  {
   "cell_type": "markdown",
   "metadata": {
    "colab_type": "text",
    "id": "KcBB9V6Yi5Ob"
   },
   "source": [
    "#### Decision Tree"
   ]
  },
  {
   "cell_type": "code",
   "execution_count": null,
   "metadata": {
    "colab": {},
    "colab_type": "code",
    "id": "dNc0DLcdNV2c"
   },
   "outputs": [],
   "source": [
    "from sklearn.tree import DecisionTreeClassifier"
   ]
  },
  {
   "cell_type": "code",
   "execution_count": null,
   "metadata": {
    "colab": {},
    "colab_type": "code",
    "id": "h_KjEPpTNVpG"
   },
   "outputs": [],
   "source": [
    "# DECISION TREE :\n",
    "\n",
    "dtc = DecisionTreeClassifier()\n",
    "\n",
    "parameter_grid = {'criterion': ['gini', 'entropy'],\n",
    "                  'splitter': ['best', 'random'],\n",
    "                  'max_depth': [1, 2, 3, 4, 5],\n",
    "                  'max_features': [1, 2, 3, 4]}\n",
    "\n",
    "cross_validation = StratifiedKFold(n_splits = 5, shuffle = True, random_state = 4)\n",
    "\n",
    "model2 = GridSearchCV(estimator=dtc, param_grid=parameter_grid, cv=cross_validation, scoring='roc_auc' , n_jobs=-1, verbose=1)"
   ]
  },
  {
   "cell_type": "code",
   "execution_count": null,
   "metadata": {
    "colab": {
     "base_uri": "https://localhost:8080/",
     "height": 459
    },
    "colab_type": "code",
    "id": "78oB-w94mtG5",
    "outputId": "a26e5c3e-829c-43a5-9790-bd3fc833e381"
   },
   "outputs": [
    {
     "name": "stdout",
     "output_type": "stream",
     "text": [
      "Fitting 5 folds for each of 80 candidates, totalling 400 fits\n"
     ]
    },
    {
     "name": "stderr",
     "output_type": "stream",
     "text": [
      "[Parallel(n_jobs=-1)]: Using backend LokyBackend with 2 concurrent workers.\n",
      "[Parallel(n_jobs=-1)]: Done  46 tasks      | elapsed:    4.6s\n",
      "[Parallel(n_jobs=-1)]: Done 196 tasks      | elapsed:   27.6s\n",
      "[Parallel(n_jobs=-1)]: Done 400 out of 400 | elapsed:  1.1min finished\n"
     ]
    },
    {
     "data": {
      "text/plain": [
       "GridSearchCV(cv=StratifiedKFold(n_splits=5, random_state=4, shuffle=True),\n",
       "             error_score=nan,\n",
       "             estimator=DecisionTreeClassifier(ccp_alpha=0.0, class_weight=None,\n",
       "                                              criterion='gini', max_depth=None,\n",
       "                                              max_features=None,\n",
       "                                              max_leaf_nodes=None,\n",
       "                                              min_impurity_decrease=0.0,\n",
       "                                              min_impurity_split=None,\n",
       "                                              min_samples_leaf=1,\n",
       "                                              min_samples_split=2,\n",
       "                                              min_weight_fraction_leaf=0.0,\n",
       "                                              presort='deprecated',\n",
       "                                              random_state=None,\n",
       "                                              splitter='best'),\n",
       "             iid='deprecated', n_jobs=-1,\n",
       "             param_grid={'criterion': ['gini', 'entropy'],\n",
       "                         'max_depth': [1, 2, 3, 4, 5],\n",
       "                         'max_features': [1, 2, 3, 4],\n",
       "                         'splitter': ['best', 'random']},\n",
       "             pre_dispatch='2*n_jobs', refit=True, return_train_score=False,\n",
       "             scoring='roc_auc', verbose=1)"
      ]
     },
     "execution_count": 40,
     "metadata": {
      "tags": []
     },
     "output_type": "execute_result"
    }
   ],
   "source": [
    "# fit model\n",
    "model2.fit(X_train_pt, y_train)"
   ]
  },
  {
   "cell_type": "code",
   "execution_count": null,
   "metadata": {
    "colab": {
     "base_uri": "https://localhost:8080/",
     "height": 51
    },
    "colab_type": "code",
    "id": "HPC6-a5toBHa",
    "outputId": "b33a052d-0fc9-41b9-d9ab-aee94b9654a9"
   },
   "outputs": [
    {
     "name": "stdout",
     "output_type": "stream",
     "text": [
      "Best roc_auc:  0.9317530451525823\n",
      "Best hyperparameters:  {'criterion': 'entropy', 'max_depth': 4, 'max_features': 4, 'splitter': 'best'}\n"
     ]
    }
   ],
   "source": [
    "#print best hyperparameters\n",
    "print(\"Best roc_auc: \", model2.best_score_)\n",
    "print(\"Best hyperparameters: \", model2.best_params_)"
   ]
  },
  {
   "cell_type": "markdown",
   "metadata": {
    "colab_type": "text",
    "id": "eRB2v775i8Vw"
   },
   "source": [
    "#### XGBoost"
   ]
  },
  {
   "cell_type": "code",
   "execution_count": null,
   "metadata": {
    "colab": {},
    "colab_type": "code",
    "id": "tR_1YkVqoMgV"
   },
   "outputs": [],
   "source": [
    "fimport xgboost as xgb\n",
    "from xgboost import XGBClassifier"
   ]
  },
  {
   "cell_type": "code",
   "execution_count": null,
   "metadata": {
    "colab": {},
    "colab_type": "code",
    "id": "fpW4dbBSoMSZ"
   },
   "outputs": [],
   "source": [
    "# XGBoost :\n",
    "\n",
    "xg = XGBClassifier()\n",
    "\n",
    "param_grid = {'learning_rate': [0.1, 0.2 , 0.4],\n",
    "              'subsample': [0.3, 0.6, 0.8],\n",
    "              'n_estimators' : range(2, 30, 5),\n",
    "              'max_depth' : [2, 4]\n",
    "             }\n",
    "\n",
    "cross_validation = StratifiedKFold(n_splits = 5, shuffle = True, random_state = 4)\n",
    "\n",
    "model3 = GridSearchCV(estimator=xg, param_grid=param_grid, cv=cross_validation, scoring='roc_auc' , n_jobs=-1, verbose=1)"
   ]
  },
  {
   "cell_type": "code",
   "execution_count": null,
   "metadata": {
    "colab": {
     "base_uri": "https://localhost:8080/",
     "height": 425
    },
    "colab_type": "code",
    "id": "FkFxIbnBoMCN",
    "outputId": "d4ecb17c-c556-498c-fdf7-8e7c2bbe94b9"
   },
   "outputs": [
    {
     "name": "stdout",
     "output_type": "stream",
     "text": [
      "Fitting 5 folds for each of 108 candidates, totalling 540 fits\n"
     ]
    },
    {
     "name": "stderr",
     "output_type": "stream",
     "text": [
      "[Parallel(n_jobs=-1)]: Using backend LokyBackend with 2 concurrent workers.\n",
      "[Parallel(n_jobs=-1)]: Done  46 tasks      | elapsed:  1.3min\n",
      "[Parallel(n_jobs=-1)]: Done 196 tasks      | elapsed: 12.3min\n",
      "[Parallel(n_jobs=-1)]: Done 446 tasks      | elapsed: 28.2min\n",
      "[Parallel(n_jobs=-1)]: Done 540 out of 540 | elapsed: 36.2min finished\n"
     ]
    },
    {
     "data": {
      "text/plain": [
       "GridSearchCV(cv=StratifiedKFold(n_splits=5, random_state=4, shuffle=True),\n",
       "             error_score=nan,\n",
       "             estimator=XGBClassifier(base_score=0.5, booster='gbtree',\n",
       "                                     colsample_bylevel=1, colsample_bynode=1,\n",
       "                                     colsample_bytree=1, gamma=0,\n",
       "                                     learning_rate=0.1, max_delta_step=0,\n",
       "                                     max_depth=3, min_child_weight=1,\n",
       "                                     missing=None, n_estimators=100, n_jobs=1,\n",
       "                                     nthread=None, objective='binary:logistic',\n",
       "                                     random_state=0, reg_alpha=0, reg_lambda=1,\n",
       "                                     scale_pos_weight=1, seed=None, silent=None,\n",
       "                                     subsample=1, verbosity=1),\n",
       "             iid='deprecated', n_jobs=-1,\n",
       "             param_grid={'learning_rate': [0.1, 0.2, 0.4], 'max_depth': [2, 4],\n",
       "                         'n_estimators': range(2, 30, 5),\n",
       "                         'subsample': [0.3, 0.6, 0.8]},\n",
       "             pre_dispatch='2*n_jobs', refit=True, return_train_score=False,\n",
       "             scoring='roc_auc', verbose=1)"
      ]
     },
     "execution_count": 44,
     "metadata": {
      "tags": []
     },
     "output_type": "execute_result"
    }
   ],
   "source": [
    "# fit model\n",
    "model3.fit(X_train_pt, y_train)"
   ]
  },
  {
   "cell_type": "code",
   "execution_count": null,
   "metadata": {
    "colab": {
     "base_uri": "https://localhost:8080/",
     "height": 51
    },
    "colab_type": "code",
    "id": "nTS__skCtvGQ",
    "outputId": "350530d2-a28a-4538-800b-160aae781573"
   },
   "outputs": [
    {
     "name": "stdout",
     "output_type": "stream",
     "text": [
      "Best roc_auc:  0.9820719889344776\n",
      "Best hyperparameters:  {'learning_rate': 0.4, 'max_depth': 2, 'n_estimators': 27, 'subsample': 0.8}\n"
     ]
    }
   ],
   "source": [
    "#print best hyperparameters\n",
    "print(\"Best roc_auc: \", model3.best_score_)\n",
    "print(\"Best hyperparameters: \", model3.best_params_)"
   ]
  },
  {
   "cell_type": "markdown",
   "metadata": {
    "colab_type": "text",
    "id": "_PYuAkds3qcD"
   },
   "source": [
    "#### Proceed with the model which shows the best result \n",
    "\n",
    "Model with the highest AUC_ROC i.e 0.98 is XGBoot and will we create an XGBoost model with the best parameters and verify on the test set."
   ]
  },
  {
   "cell_type": "code",
   "execution_count": null,
   "metadata": {
    "colab": {},
    "colab_type": "code",
    "id": "xBJ_2q7az72r"
   },
   "outputs": [],
   "source": [
    "# XGBoost with optimum hyperparameters :\n",
    "\n",
    "clf = XGBClassifier()\n",
    "\n",
    "param_grid = {'learning_rate': [0.4],\n",
    "              'subsample': [0.8],\n",
    "              'n_estimators' : [27],\n",
    "              'max_depth' : [2]\n",
    "             }\n",
    "\n",
    "cross_validation = StratifiedKFold(n_splits = 5, shuffle = True, random_state = 4)\n",
    "\n",
    "model4 = GridSearchCV(estimator=clf, param_grid=param_grid, cv=cross_validation, scoring='roc_auc' , n_jobs=-1, verbose=1)"
   ]
  },
  {
   "cell_type": "code",
   "execution_count": null,
   "metadata": {
    "colab": {
     "base_uri": "https://localhost:8080/",
     "height": 68
    },
    "colab_type": "code",
    "id": "SBrPaQPd0Q5G",
    "outputId": "8d39dfdb-1ccb-4d13-bb64-0f3101c9e853"
   },
   "outputs": [
    {
     "name": "stdout",
     "output_type": "stream",
     "text": [
      "Fitting 5 folds for each of 1 candidates, totalling 5 fits\n"
     ]
    },
    {
     "name": "stderr",
     "output_type": "stream",
     "text": [
      "[Parallel(n_jobs=-1)]: Using backend LokyBackend with 2 concurrent workers.\n",
      "[Parallel(n_jobs=-1)]: Done   5 out of   5 | elapsed:   31.4s finished\n"
     ]
    }
   ],
   "source": [
    "# fit model\n",
    "fit = model4.fit(X_train_pt, y_train)"
   ]
  },
  {
   "cell_type": "code",
   "execution_count": null,
   "metadata": {
    "colab": {
     "base_uri": "https://localhost:8080/",
     "height": 34
    },
    "colab_type": "code",
    "id": "HAUUxp130yj1",
    "outputId": "66e6e2ab-fe8c-4b0b-9f93-3359e20db299"
   },
   "outputs": [
    {
     "name": "stdout",
     "output_type": "stream",
     "text": [
      "Best roc_auc:  0.9691291899620931\n"
     ]
    }
   ],
   "source": [
    "#ROC_AUC\n",
    "print(\"Best roc_auc: \", model4.best_score_)"
   ]
  },
  {
   "cell_type": "markdown",
   "metadata": {
    "colab_type": "text",
    "id": "Ic-ot3KE24NW"
   },
   "source": [
    "Prediction on TEST Data :"
   ]
  },
  {
   "cell_type": "code",
   "execution_count": null,
   "metadata": {
    "colab": {
     "base_uri": "https://localhost:8080/",
     "height": 51
    },
    "colab_type": "code",
    "id": "UoKOuKiu0yYl",
    "outputId": "2b6b945f-b755-4eb0-9699-b652076e22b6"
   },
   "outputs": [
    {
     "name": "stdout",
     "output_type": "stream",
     "text": [
      "[[82531    17]\n",
      " [   25   126]]\n"
     ]
    }
   ],
   "source": [
    "#Confusion Matrix :\n",
    "y_pred = model4.predict(X_test_pt)\n",
    "\n",
    "# create onfusion matrix\n",
    "cm = confusion_matrix(y_test, y_pred)\n",
    "print(cm)"
   ]
  },
  {
   "cell_type": "code",
   "execution_count": null,
   "metadata": {
    "colab": {
     "base_uri": "https://localhost:8080/",
     "height": 139
    },
    "colab_type": "code",
    "id": "02sh9XLQ3oIb",
    "outputId": "ff5e89bb-a4fb-4958-cb66-38cf6606ff0a"
   },
   "outputs": [
    {
     "name": "stderr",
     "output_type": "stream",
     "text": [
      "/usr/local/lib/python3.6/dist-packages/sklearn/externals/six.py:31: FutureWarning: The module is deprecated in version 0.21 and will be removed in version 0.23 since we've dropped support for Python 2.7. Please rely on the official version of six (https://pypi.org/project/six/).\n",
      "  \"(https://pypi.org/project/six/).\", FutureWarning)\n",
      "/usr/local/lib/python3.6/dist-packages/sklearn/utils/deprecation.py:144: FutureWarning: The sklearn.neighbors.base module is  deprecated in version 0.22 and will be removed in version 0.24. The corresponding classes / functions should instead be imported from sklearn.neighbors. Anything that cannot be imported from sklearn.neighbors is now part of the private API.\n",
      "  warnings.warn(message, FutureWarning)\n",
      "/usr/local/lib/python3.6/dist-packages/sklearn/utils/deprecation.py:144: FutureWarning: The sklearn.metrics.classification module is  deprecated in version 0.22 and will be removed in version 0.24. The corresponding classes / functions should instead be imported from sklearn.metrics. Anything that cannot be imported from sklearn.metrics is now part of the private API.\n",
      "  warnings.warn(message, FutureWarning)\n"
     ]
    }
   ],
   "source": [
    "from imblearn.metrics import sensitivity_specificity_support"
   ]
  },
  {
   "cell_type": "code",
   "execution_count": null,
   "metadata": {
    "colab": {
     "base_uri": "https://localhost:8080/",
     "height": 51
    },
    "colab_type": "code",
    "id": "Es3Bn3ui3Xbc",
    "outputId": "556ed702-cdb9-40e1-b65d-464b6f32921d"
   },
   "outputs": [
    {
     "name": "stdout",
     "output_type": "stream",
     "text": [
      "Sensitivity: \t0.83\n",
      "Specificity: \t1.0\n"
     ]
    }
   ],
   "source": [
    "# check sensitivity and specificity\n",
    "sensitivity, specificity, _ = sensitivity_specificity_support(y_test, y_pred, average='binary')\n",
    "print(\"Sensitivity: \\t\", round(sensitivity, 2), \"\\n\", \"Specificity: \\t\", round(specificity, 2), sep='')"
   ]
  },
  {
   "cell_type": "code",
   "execution_count": null,
   "metadata": {
    "colab": {},
    "colab_type": "code",
    "id": "ARTy11_k3rlf"
   },
   "outputs": [],
   "source": [
    "from sklearn.metrics import recall_score"
   ]
  },
  {
   "cell_type": "code",
   "execution_count": null,
   "metadata": {
    "colab": {
     "base_uri": "https://localhost:8080/",
     "height": 34
    },
    "colab_type": "code",
    "id": "BCKv61yM3wb0",
    "outputId": "9f2923a9-fd38-4d04-f154-54e2b5dcb1de"
   },
   "outputs": [
    {
     "name": "stdout",
     "output_type": "stream",
     "text": [
      "Recall: 0.834437\n"
     ]
    }
   ],
   "source": [
    "recall = recall_score(y_test, y_pred)\n",
    "print('Recall: %f' % recall)"
   ]
  },
  {
   "cell_type": "code",
   "execution_count": null,
   "metadata": {
    "colab": {
     "base_uri": "https://localhost:8080/",
     "height": 34
    },
    "colab_type": "code",
    "id": "N1ZfHXi_39u-",
    "outputId": "5da0af1b-2d4c-4e43-d518-5ab3a869b7c4"
   },
   "outputs": [
    {
     "data": {
      "text/plain": [
       "array([0, 0, 0, 0, 0, 0, 0, 0, 0, 0])"
      ]
     },
     "execution_count": 48,
     "metadata": {
      "tags": []
     },
     "output_type": "execute_result"
    }
   ],
   "source": [
    "y_pred[:10]"
   ]
  },
  {
   "cell_type": "code",
   "execution_count": null,
   "metadata": {
    "colab": {},
    "colab_type": "code",
    "id": "NmwI103B4Pxh"
   },
   "outputs": [],
   "source": [
    "import sklearn"
   ]
  },
  {
   "cell_type": "code",
   "execution_count": null,
   "metadata": {
    "colab": {
     "base_uri": "https://localhost:8080/",
     "height": 34
    },
    "colab_type": "code",
    "id": "BW3wBSi532pV",
    "outputId": "0b5d582d-1e06-4da7-8e3e-ca06e255d957"
   },
   "outputs": [
    {
     "data": {
      "text/plain": [
       "0.9171155726533742"
      ]
     },
     "execution_count": 49,
     "metadata": {
      "tags": []
     },
     "output_type": "execute_result"
    }
   ],
   "source": [
    "# roc_auc\n",
    "auc = sklearn.metrics.roc_auc_score(y_test, y_pred)\n",
    "auc"
   ]
  },
  {
   "cell_type": "markdown",
   "metadata": {
    "colab_type": "text",
    "id": "iMUZoqMPYTrK"
   },
   "source": [
    "We see that since the data is imbalanced the Test AUC_ROC score is much lesser (0.91) when compared to the train AUC-ROC (0.96)"
   ]
  },
  {
   "cell_type": "markdown",
   "metadata": {
    "colab_type": "text",
    "id": "igSdwBHu3qcF"
   },
   "source": [
    "### Print the important features of the best model to understand the dataset\n",
    "- This will not give much explanation on the already transformed dataset\n",
    "- But it will help us in understanding if the dataset is not PCA transformed"
   ]
  },
  {
   "cell_type": "code",
   "execution_count": null,
   "metadata": {
    "colab": {
     "base_uri": "https://localhost:8080/",
     "height": 119
    },
    "colab_type": "code",
    "id": "VQOGIAU28GOn",
    "outputId": "1ea910ff-534e-4ecc-f70a-66f0266b6c41"
   },
   "outputs": [
    {
     "data": {
      "text/plain": [
       "array([0.        , 0.        , 0.01633827, 0.03643509, 0.00166715,\n",
       "       0.        , 0.0435136 , 0.02822546, 0.01953079, 0.09397413,\n",
       "       0.        , 0.10776628, 0.02139489, 0.08803397, 0.03082698,\n",
       "       0.02195895, 0.24082151, 0.02843165, 0.        , 0.03552683,\n",
       "       0.01634837, 0.01259562, 0.024759  , 0.        , 0.        ,\n",
       "       0.04574636, 0.03618939, 0.02787572, 0.02203992], dtype=float32)"
      ]
     },
     "execution_count": 50,
     "metadata": {
      "tags": []
     },
     "output_type": "execute_result"
    }
   ],
   "source": [
    "model4.best_estimator_.feature_importances_"
   ]
  },
  {
   "cell_type": "code",
   "execution_count": null,
   "metadata": {
    "colab": {
     "base_uri": "https://localhost:8080/",
     "height": 1000
    },
    "colab_type": "code",
    "id": "9OjUv9MI3qcF",
    "outputId": "b58552f6-9795-454d-aee1-16f38f538c92"
   },
   "outputs": [
    {
     "name": "stdout",
     "output_type": "stream",
     "text": [
      "Top var = 17\n",
      "2nd Top var = 12\n",
      "3rd Top var = 10\n"
     ]
    },
    {
     "data": {
      "text/plain": [
       "<matplotlib.legend.Legend at 0x7f66874e09b0>"
      ]
     },
     "execution_count": 51,
     "metadata": {
      "tags": []
     },
     "output_type": "execute_result"
    },
    {
     "data": {
      "image/png": "[encoded data removed]",
      "text/plain": [
       "<Figure size 1440x1440 with 1 Axes>"
      ]
     },
     "metadata": {
      "needs_background": "light",
      "tags": []
     },
     "output_type": "display_data"
    }
   ],
   "source": [
    "var_imp = []\n",
    "for i in model4.best_estimator_.feature_importances_:\n",
    "    var_imp.append(i)\n",
    "print('Top var =', var_imp.index(np.sort(model4.best_estimator_.feature_importances_)[-1])+1)\n",
    "print('2nd Top var =', var_imp.index(np.sort(model4.best_estimator_.feature_importances_)[-2])+1)\n",
    "print('3rd Top var =', var_imp.index(np.sort(model4.best_estimator_.feature_importances_)[-3])+1)\n",
    "\n",
    "# Variable on Index-16 and Index-13 seems to be the top 2 variables\n",
    "top_var_index = var_imp.index(np.sort(model4.best_estimator_.feature_importances_)[-1])\n",
    "second_top_var_index = var_imp.index(np.sort(model4.best_estimator_.feature_importances_)[-2])\n",
    "\n",
    "X_train_1 = X_train_pt.to_numpy()[np.where(y_train==1.0)]\n",
    "X_train_0 = X_train_pt.to_numpy()[np.where(y_train==0.0)]\n",
    "\n",
    "np.random.shuffle(X_train_0)\n",
    "\n",
    "import matplotlib.pyplot as plt\n",
    "%matplotlib inline\n",
    "plt.rcParams['figure.figsize'] = [20, 20]\n",
    "\n",
    "plt.scatter(X_train_1[:, top_var_index], X_train_1[:, second_top_var_index], label='Actual Class-1 Examples')\n",
    "plt.scatter(X_train_0[:X_train_1.shape[0], top_var_index], X_train_0[:X_train_1.shape[0], second_top_var_index],\n",
    "            label='Actual Class-0 Examples')\n",
    "plt.legend()"
   ]
  },
  {
   "cell_type": "markdown",
   "metadata": {
    "colab_type": "text",
    "id": "MUrXgIlM3qcH"
   },
   "source": [
    "## Model building with balanced Classes\n",
    "\n",
    "##### We will perform class balancing with :\n",
    "- SMOTE\n",
    "- ADASYN"
   ]
  },
  {
   "cell_type": "markdown",
   "metadata": {
    "colab_type": "text",
    "id": "jIynJzy83qcH"
   },
   "source": [
    "## Model Building\n",
    "- Build different models on the balanced dataset and see the result\n",
    "1. Logistic Regression\n",
    "2. Decision Tree\n",
    "3. Random Forest\n",
    "4. XGBoost"
   ]
  },
  {
   "cell_type": "markdown",
   "metadata": {
    "colab_type": "text",
    "id": "e2oTqKiF3qcN"
   },
   "source": [
    "### Print the class distribution after applying SMOTE "
   ]
  },
  {
   "cell_type": "code",
   "execution_count": null,
   "metadata": {
    "colab": {
     "base_uri": "https://localhost:8080/",
     "height": 105
    },
    "colab_type": "code",
    "id": "0yLfb19bhjIC",
    "outputId": "4ceca1ec-6cdb-422f-b113-4b1f57bc982b"
   },
   "outputs": [
    {
     "name": "stderr",
     "output_type": "stream",
     "text": [
      "/usr/local/lib/python3.6/dist-packages/sklearn/externals/six.py:31: FutureWarning: The module is deprecated in version 0.21 and will be removed in version 0.23 since we've dropped support for Python 2.7. Please rely on the official version of six (https://pypi.org/project/six/).\n",
      "  \"(https://pypi.org/project/six/).\", FutureWarning)\n",
      "/usr/local/lib/python3.6/dist-packages/sklearn/utils/deprecation.py:144: FutureWarning: The sklearn.neighbors.base module is  deprecated in version 0.22 and will be removed in version 0.24. The corresponding classes / functions should instead be imported from sklearn.neighbors. Anything that cannot be imported from sklearn.neighbors is now part of the private API.\n",
      "  warnings.warn(message, FutureWarning)\n"
     ]
    }
   ],
   "source": [
    "from imblearn import over_sampling"
   ]
  },
  {
   "cell_type": "code",
   "execution_count": null,
   "metadata": {
    "colab": {
     "base_uri": "https://localhost:8080/",
     "height": 1000
    },
    "colab_type": "code",
    "id": "hG5sHN303qcO",
    "outputId": "550809e1-71fa-47ad-b922-150a1468c0cd"
   },
   "outputs": [
    {
     "data": {
      "text/plain": [
       "<matplotlib.legend.Legend at 0x7f79ff19ec88>"
      ]
     },
     "execution_count": 31,
     "metadata": {
      "tags": []
     },
     "output_type": "execute_result"
    },
    {
     "data": {
      "image/png": "[encoded data removed]",
      "text/plain": [
       "<Figure size 1440x1440 with 3 Axes>"
      ]
     },
     "metadata": {
      "needs_background": "light",
      "tags": []
     },
     "output_type": "display_data"
    }
   ],
   "source": [
    "import warnings\n",
    "warnings.filterwarnings(\"ignore\")\n",
    "\n",
    "\n",
    "sm = over_sampling.SMOTE(random_state=0)\n",
    "X_train_smote, y_train_smote = sm.fit_resample(X_train_pt, y_train)\n",
    "# Artificial minority samples and corresponding minority labels from SMOTE are appended\n",
    "# below X_train and y_train respectively\n",
    "# So to exclusively get the artificial minority samples from SMOTE, we do\n",
    "X_train_smote_1 = X_train_smote[X_train_pt.shape[0]:]\n",
    "\n",
    "X_train_1 = X_train_pt.to_numpy()[np.where(y_train==1.0)]\n",
    "X_train_0 = X_train_pt.to_numpy()[np.where(y_train==0.0)]\n",
    "\n",
    "\n",
    "plt.rcParams['figure.figsize'] = [20, 20]\n",
    "fig = plt.figure()\n",
    "\n",
    "plt.subplot(3, 1, 1)\n",
    "plt.scatter(X_train_1[:, 0], X_train_1[:, 1], label='Actual Class-1 Examples')\n",
    "plt.legend()\n",
    "\n",
    "plt.subplot(3, 1, 2)\n",
    "plt.scatter(X_train_1[:, 0], X_train_1[:, 1], label='Actual Class-1 Examples')\n",
    "plt.scatter(X_train_smote_1[:X_train_1.shape[0], 0], X_train_smote_1[:X_train_1.shape[0], 1],\n",
    "            label='Artificial SMOTE Class-1 Examples')\n",
    "plt.legend()\n",
    "\n",
    "plt.subplot(3, 1, 3)\n",
    "plt.scatter(X_train_1[:, 0], X_train_1[:, 1], label='Actual Class-1 Examples')\n",
    "plt.scatter(X_train_0[:X_train_1.shape[0], 0], X_train_0[:X_train_1.shape[0], 1], label='Actual Class-0 Examples')\n",
    "plt.legend()"
   ]
  },
  {
   "cell_type": "code",
   "execution_count": null,
   "metadata": {
    "colab": {
     "base_uri": "https://localhost:8080/",
     "height": 68
    },
    "colab_type": "code",
    "id": "xNRus-ypjGr1",
    "outputId": "beb187fd-1d35-4676-e5de-e208056caefd"
   },
   "outputs": [
    {
     "name": "stdout",
     "output_type": "stream",
     "text": [
      "Shape of X_train_smote_1 which is the actual Artificial Minority Samples from SMOTE : (192320, 29)\n",
      "Shape of X_train_smote : (385284, 29)\n",
      "Shape of y_train_smote : (385284,)\n"
     ]
    }
   ],
   "source": [
    "print('Shape of X_train_smote_1 which is the actual Artificial Minority Samples from SMOTE :',X_train_smote_1.shape)\n",
    "print('Shape of X_train_smote :',X_train_smote.shape)\n",
    "print('Shape of y_train_smote :',y_train_smote.shape)"
   ]
  },
  {
   "cell_type": "markdown",
   "metadata": {
    "colab_type": "text",
    "id": "8UBKszNPjXGs"
   },
   "source": [
    "#### Logistic Regression with SMOTE"
   ]
  },
  {
   "cell_type": "code",
   "execution_count": null,
   "metadata": {
    "colab": {},
    "colab_type": "code",
    "id": "p2B_Dm0_jZsr"
   },
   "outputs": [],
   "source": [
    "# logistic regression \n",
    "logistic = LogisticRegression()\n",
    "\n",
    "# create pipeline\n",
    "steps = [(\"scaler\", StandardScaler()), \n",
    "         (\"logistic\", logistic)\n",
    "        ]\n",
    "\n",
    "# compile pipeline\n",
    "pca_logistic = Pipeline(steps)\n",
    "\n",
    "# hyperparameter space\n",
    "params = {'logistic__C': [0.0001, 0.001, 0.01, 0.05, 0.1, \n",
    " 0.2, 0.3, 0.4, 0.5, 0.6, 0.7, 0.8, 0.9, 1.0, 2.0, 3.0, \n",
    " 4.0, 5.0, 6.0, 7.0, 8.0, 9.0, 10.0, 20, 50, 100, 500, 1000], 'logistic__penalty': ['l1', 'l2']}\n",
    "\n",
    "# create 5 folds\n",
    "folds = StratifiedKFold(n_splits = 5, shuffle = True, random_state = 4)\n",
    "\n",
    "# create gridsearch object\n",
    "model_lr_smote = GridSearchCV(estimator=pca_logistic, cv=folds, param_grid=params, scoring='roc_auc', n_jobs=-1, verbose=1)"
   ]
  },
  {
   "cell_type": "code",
   "execution_count": null,
   "metadata": {
    "colab": {
     "base_uri": "https://localhost:8080/",
     "height": 595
    },
    "colab_type": "code",
    "id": "djrjpinBjZ8T",
    "outputId": "6c47d0d3-a9b7-438d-f75d-5451eaf6eda0"
   },
   "outputs": [
    {
     "name": "stdout",
     "output_type": "stream",
     "text": [
      "Fitting 5 folds for each of 56 candidates, totalling 280 fits\n"
     ]
    },
    {
     "name": "stderr",
     "output_type": "stream",
     "text": [
      "[Parallel(n_jobs=-1)]: Using backend LokyBackend with 2 concurrent workers.\n",
      "[Parallel(n_jobs=-1)]: Done  46 tasks      | elapsed:   54.5s\n",
      "[Parallel(n_jobs=-1)]: Done 196 tasks      | elapsed:  5.3min\n",
      "[Parallel(n_jobs=-1)]: Done 280 out of 280 | elapsed:  7.9min finished\n"
     ]
    },
    {
     "data": {
      "text/plain": [
       "GridSearchCV(cv=StratifiedKFold(n_splits=5, random_state=4, shuffle=True),\n",
       "             error_score=nan,\n",
       "             estimator=Pipeline(memory=None,\n",
       "                                steps=[('scaler',\n",
       "                                        StandardScaler(copy=True,\n",
       "                                                       with_mean=True,\n",
       "                                                       with_std=True)),\n",
       "                                       ('logistic',\n",
       "                                        LogisticRegression(C=1.0,\n",
       "                                                           class_weight=None,\n",
       "                                                           dual=False,\n",
       "                                                           fit_intercept=True,\n",
       "                                                           intercept_scaling=1,\n",
       "                                                           l1_ratio=None,\n",
       "                                                           max_iter=100,\n",
       "                                                           multi_class='auto',\n",
       "                                                           n_jobs=...\n",
       "                                                           tol=0.0001,\n",
       "                                                           verbose=0,\n",
       "                                                           warm_start=False))],\n",
       "                                verbose=False),\n",
       "             iid='deprecated', n_jobs=-1,\n",
       "             param_grid={'logistic__C': [0.0001, 0.001, 0.01, 0.05, 0.1, 0.2,\n",
       "                                         0.3, 0.4, 0.5, 0.6, 0.7, 0.8, 0.9, 1.0,\n",
       "                                         2.0, 3.0, 4.0, 5.0, 6.0, 7.0, 8.0, 9.0,\n",
       "                                         10.0, 20, 50, 100, 500, 1000],\n",
       "                         'logistic__penalty': ['l1', 'l2']},\n",
       "             pre_dispatch='2*n_jobs', refit=True, return_train_score=False,\n",
       "             scoring='roc_auc', verbose=1)"
      ]
     },
     "execution_count": 34,
     "metadata": {
      "tags": []
     },
     "output_type": "execute_result"
    }
   ],
   "source": [
    "# fit model\n",
    "model_lr_smote.fit(X_train_smote, y_train_smote)"
   ]
  },
  {
   "cell_type": "code",
   "execution_count": null,
   "metadata": {
    "colab": {
     "base_uri": "https://localhost:8080/",
     "height": 51
    },
    "colab_type": "code",
    "id": "sgxvo8At__wt",
    "outputId": "a3ee6666-6d8b-403a-ad67-a285f0599775"
   },
   "outputs": [
    {
     "name": "stdout",
     "output_type": "stream",
     "text": [
      "Best roc_auc:  0.9871766244437552\n",
      "Best hyperparameters:  {'logistic__C': 1000, 'logistic__penalty': 'l2'}\n"
     ]
    }
   ],
   "source": [
    "#print best hyperparameters\n",
    "print(\"Best roc_auc: \", model_lr_smote.best_score_)\n",
    "print(\"Best hyperparameters: \", model_lr_smote.best_params_)"
   ]
  },
  {
   "cell_type": "markdown",
   "metadata": {
    "colab_type": "text",
    "id": "GgXnOizpja7H"
   },
   "source": [
    "#### Decision Tree with SMOTE"
   ]
  },
  {
   "cell_type": "code",
   "execution_count": null,
   "metadata": {
    "colab": {},
    "colab_type": "code",
    "id": "N47rMxz4h-EQ"
   },
   "outputs": [],
   "source": [
    "# DECISION TREE :\n",
    "\n",
    "dtc = DecisionTreeClassifier()\n",
    "\n",
    "parameter_grid = {'criterion': ['gini', 'entropy'],\n",
    "                  'splitter': ['best', 'random'],\n",
    "                  'max_depth': [1, 2, 3, 4, 5],\n",
    "                  'max_features': [1, 2, 3, 4]}\n",
    "\n",
    "cross_validation = StratifiedKFold(n_splits = 5, shuffle = True, random_state = 4)\n",
    "\n",
    "model5 = GridSearchCV(estimator=dtc, param_grid=parameter_grid, cv=cross_validation, scoring='roc_auc' , n_jobs=-1, verbose=1)"
   ]
  },
  {
   "cell_type": "code",
   "execution_count": null,
   "metadata": {
    "colab": {
     "base_uri": "https://localhost:8080/",
     "height": 459
    },
    "colab_type": "code",
    "id": "cyTwmlKZiWRa",
    "outputId": "55c81ec6-0878-4724-dba9-293031916c0d"
   },
   "outputs": [
    {
     "name": "stdout",
     "output_type": "stream",
     "text": [
      "Fitting 5 folds for each of 80 candidates, totalling 400 fits\n"
     ]
    },
    {
     "name": "stderr",
     "output_type": "stream",
     "text": [
      "[Parallel(n_jobs=-1)]: Using backend LokyBackend with 2 concurrent workers.\n",
      "[Parallel(n_jobs=-1)]: Done  46 tasks      | elapsed:    7.5s\n",
      "[Parallel(n_jobs=-1)]: Done 196 tasks      | elapsed:   51.7s\n",
      "[Parallel(n_jobs=-1)]: Done 400 out of 400 | elapsed:  2.1min finished\n"
     ]
    },
    {
     "data": {
      "text/plain": [
       "GridSearchCV(cv=StratifiedKFold(n_splits=5, random_state=4, shuffle=True),\n",
       "             error_score=nan,\n",
       "             estimator=DecisionTreeClassifier(ccp_alpha=0.0, class_weight=None,\n",
       "                                              criterion='gini', max_depth=None,\n",
       "                                              max_features=None,\n",
       "                                              max_leaf_nodes=None,\n",
       "                                              min_impurity_decrease=0.0,\n",
       "                                              min_impurity_split=None,\n",
       "                                              min_samples_leaf=1,\n",
       "                                              min_samples_split=2,\n",
       "                                              min_weight_fraction_leaf=0.0,\n",
       "                                              presort='deprecated',\n",
       "                                              random_state=None,\n",
       "                                              splitter='best'),\n",
       "             iid='deprecated', n_jobs=-1,\n",
       "             param_grid={'criterion': ['gini', 'entropy'],\n",
       "                         'max_depth': [1, 2, 3, 4, 5],\n",
       "                         'max_features': [1, 2, 3, 4],\n",
       "                         'splitter': ['best', 'random']},\n",
       "             pre_dispatch='2*n_jobs', refit=True, return_train_score=False,\n",
       "             scoring='roc_auc', verbose=1)"
      ]
     },
     "execution_count": 61,
     "metadata": {
      "tags": []
     },
     "output_type": "execute_result"
    }
   ],
   "source": [
    "# fit model\n",
    "model5.fit(X_train_smote, y_train_smote)"
   ]
  },
  {
   "cell_type": "code",
   "execution_count": null,
   "metadata": {
    "colab": {
     "base_uri": "https://localhost:8080/",
     "height": 51
    },
    "colab_type": "code",
    "id": "zBDdWqR2lJm4",
    "outputId": "77f049a9-95d2-4dfa-99e2-60bc13c77eaf"
   },
   "outputs": [
    {
     "name": "stdout",
     "output_type": "stream",
     "text": [
      "Best roc_auc:  0.9703968806275608\n",
      "Best hyperparameters:  {'criterion': 'entropy', 'max_depth': 5, 'max_features': 4, 'splitter': 'best'}\n"
     ]
    }
   ],
   "source": [
    "#print best hyperparameters\n",
    "print(\"Best roc_auc: \", model5.best_score_)\n",
    "print(\"Best hyperparameters: \", model5.best_params_)"
   ]
  },
  {
   "cell_type": "markdown",
   "metadata": {
    "colab_type": "text",
    "id": "2lCzx6BalkO_"
   },
   "source": [
    "Before SMOTE, ROC_AUC for Decision Tree : 0.93 \n",
    "\n",
    "After SMOTE, ROC_AUC for Decision Tree : 0.97"
   ]
  },
  {
   "cell_type": "markdown",
   "metadata": {
    "colab_type": "text",
    "id": "OrT8q8PA3qcS"
   },
   "source": [
    "#### Random Forest with SMOTE"
   ]
  },
  {
   "cell_type": "code",
   "execution_count": null,
   "metadata": {
    "colab": {},
    "colab_type": "code",
    "id": "WuuroU-Jl-P6"
   },
   "outputs": [],
   "source": [
    "# RANDOM FOREST :\n",
    "\n",
    "forest = RandomForestClassifier(n_jobs = -1)\n",
    "\n",
    "# hyperparameter space\n",
    "params = {'criterion': ['gini', 'entropy'], \n",
    "          'max_features': ['auto', 0.4],\n",
    "          'n_estimators': [30,35],\n",
    "          'max_depth': [8, 15]}\n",
    "\n",
    "# create 5 folds\n",
    "folds = StratifiedKFold(n_splits = 5, shuffle = True, random_state = 4)\n",
    "\n",
    "# create gridsearch object\n",
    "model6 = GridSearchCV(estimator=forest, cv=folds, param_grid=params, scoring='roc_auc', n_jobs=-1, verbose=1)"
   ]
  },
  {
   "cell_type": "code",
   "execution_count": null,
   "metadata": {
    "colab": {
     "base_uri": "https://localhost:8080/",
     "height": 476
    },
    "colab_type": "code",
    "id": "gephozMol_y2",
    "outputId": "f2e5a5a3-477c-4ea4-cb22-652c1dc6a255"
   },
   "outputs": [
    {
     "name": "stdout",
     "output_type": "stream",
     "text": [
      "Fitting 5 folds for each of 16 candidates, totalling 80 fits\n"
     ]
    },
    {
     "name": "stderr",
     "output_type": "stream",
     "text": [
      "[Parallel(n_jobs=-1)]: Using backend LokyBackend with 2 concurrent workers.\n",
      "[Parallel(n_jobs=-1)]: Done  46 tasks      | elapsed: 55.1min\n",
      "[Parallel(n_jobs=-1)]: Done  80 out of  80 | elapsed: 110.4min finished\n"
     ]
    },
    {
     "data": {
      "text/plain": [
       "GridSearchCV(cv=StratifiedKFold(n_splits=5, random_state=4, shuffle=True),\n",
       "             error_score=nan,\n",
       "             estimator=RandomForestClassifier(bootstrap=True, ccp_alpha=0.0,\n",
       "                                              class_weight=None,\n",
       "                                              criterion='gini', max_depth=None,\n",
       "                                              max_features='auto',\n",
       "                                              max_leaf_nodes=None,\n",
       "                                              max_samples=None,\n",
       "                                              min_impurity_decrease=0.0,\n",
       "                                              min_impurity_split=None,\n",
       "                                              min_samples_leaf=1,\n",
       "                                              min_samples_split=2,\n",
       "                                              min_weight_fraction_leaf=0.0,\n",
       "                                              n_estimators=100, n_jobs=-1,\n",
       "                                              oob_score=False,\n",
       "                                              random_state=None, verbose=0,\n",
       "                                              warm_start=False),\n",
       "             iid='deprecated', n_jobs=-1,\n",
       "             param_grid={'criterion': ['gini', 'entropy'], 'max_depth': [8, 15],\n",
       "                         'max_features': ['auto', 0.4],\n",
       "                         'n_estimators': [30, 35]},\n",
       "             pre_dispatch='2*n_jobs', refit=True, return_train_score=False,\n",
       "             scoring='roc_auc', verbose=1)"
      ]
     },
     "execution_count": 32,
     "metadata": {
      "tags": []
     },
     "output_type": "execute_result"
    }
   ],
   "source": [
    "# fit model\n",
    "model6.fit(X_train_smote, y_train_smote)"
   ]
  },
  {
   "cell_type": "code",
   "execution_count": null,
   "metadata": {
    "colab": {
     "base_uri": "https://localhost:8080/",
     "height": 51
    },
    "colab_type": "code",
    "id": "WQNGL7Q67iUD",
    "outputId": "a5c7b32b-4aa0-4db4-a54b-281e185f2a53"
   },
   "outputs": [
    {
     "name": "stdout",
     "output_type": "stream",
     "text": [
      "Best roc_auc:  0.9999915602547038\n",
      "Best hyperparameters:  {'criterion': 'entropy', 'max_depth': 15, 'max_features': 'auto', 'n_estimators': 30}\n"
     ]
    }
   ],
   "source": [
    "#print best hyperparameters\n",
    "print(\"Best roc_auc: \", model6.best_score_)\n",
    "print(\"Best hyperparameters: \", model6.best_params_)"
   ]
  },
  {
   "cell_type": "markdown",
   "metadata": {
    "colab_type": "text",
    "id": "mdjBoz0HjkIy"
   },
   "source": [
    "#### XGBoost with SMOTE"
   ]
  },
  {
   "cell_type": "code",
   "execution_count": null,
   "metadata": {
    "colab": {},
    "colab_type": "code",
    "id": "6NdNfRho7hxS"
   },
   "outputs": [],
   "source": [
    "# XGBoost :\n",
    "\n",
    "xg = XGBClassifier()\n",
    "\n",
    "param_grid = {'learning_rate': [0.1, 0.2 , 0.4],\n",
    "              'subsample': [0.3, 0.6, 0.8],\n",
    "              'n_estimators' : range(2, 30, 5),\n",
    "              'max_depth' : [2, 4]\n",
    "             }\n",
    "\n",
    "cross_validation = StratifiedKFold(n_splits = 5, shuffle = True, random_state = 4)\n",
    "\n",
    "model7 = GridSearchCV(estimator=xg, param_grid=param_grid, cv=cross_validation, scoring='roc_auc' , n_jobs=-1, verbose=1)"
   ]
  },
  {
   "cell_type": "code",
   "execution_count": null,
   "metadata": {
    "colab": {
     "base_uri": "https://localhost:8080/",
     "height": 425
    },
    "colab_type": "code",
    "id": "M3nYfmLbx3_k",
    "outputId": "dabce5bf-2431-474c-c188-58a80a3aae82"
   },
   "outputs": [
    {
     "name": "stdout",
     "output_type": "stream",
     "text": [
      "Fitting 5 folds for each of 108 candidates, totalling 540 fits\n"
     ]
    },
    {
     "name": "stderr",
     "output_type": "stream",
     "text": [
      "[Parallel(n_jobs=-1)]: Using backend LokyBackend with 2 concurrent workers.\n",
      "[Parallel(n_jobs=-1)]: Done  46 tasks      | elapsed:  2.8min\n",
      "[Parallel(n_jobs=-1)]: Done 196 tasks      | elapsed: 27.4min\n",
      "[Parallel(n_jobs=-1)]: Done 446 tasks      | elapsed: 62.6min\n",
      "[Parallel(n_jobs=-1)]: Done 540 out of 540 | elapsed: 80.7min finished\n"
     ]
    },
    {
     "data": {
      "text/plain": [
       "GridSearchCV(cv=StratifiedKFold(n_splits=5, random_state=4, shuffle=True),\n",
       "             error_score=nan,\n",
       "             estimator=XGBClassifier(base_score=0.5, booster='gbtree',\n",
       "                                     colsample_bylevel=1, colsample_bynode=1,\n",
       "                                     colsample_bytree=1, gamma=0,\n",
       "                                     learning_rate=0.1, max_delta_step=0,\n",
       "                                     max_depth=3, min_child_weight=1,\n",
       "                                     missing=None, n_estimators=100, n_jobs=1,\n",
       "                                     nthread=None, objective='binary:logistic',\n",
       "                                     random_state=0, reg_alpha=0, reg_lambda=1,\n",
       "                                     scale_pos_weight=1, seed=None, silent=None,\n",
       "                                     subsample=1, verbosity=1),\n",
       "             iid='deprecated', n_jobs=-1,\n",
       "             param_grid={'learning_rate': [0.1, 0.2, 0.4], 'max_depth': [2, 4],\n",
       "                         'n_estimators': range(2, 30, 5),\n",
       "                         'subsample': [0.3, 0.6, 0.8]},\n",
       "             pre_dispatch='2*n_jobs', refit=True, return_train_score=False,\n",
       "             scoring='roc_auc', verbose=1)"
      ]
     },
     "execution_count": 35,
     "metadata": {
      "tags": []
     },
     "output_type": "execute_result"
    }
   ],
   "source": [
    "# fit model\n",
    "model7.fit(X_train_smote, y_train_smote)"
   ]
  },
  {
   "cell_type": "code",
   "execution_count": null,
   "metadata": {
    "colab": {
     "base_uri": "https://localhost:8080/",
     "height": 51
    },
    "colab_type": "code",
    "id": "6urIVThcxyEw",
    "outputId": "8d4eaf98-6d5e-426b-d981-a0ef6cd76812"
   },
   "outputs": [
    {
     "name": "stdout",
     "output_type": "stream",
     "text": [
      "Best roc_auc:  0.9996554191293467\n",
      "Best hyperparameters:  {'learning_rate': 0.4, 'max_depth': 4, 'n_estimators': 27, 'subsample': 0.8}\n"
     ]
    }
   ],
   "source": [
    "#print best hyperparameters\n",
    "print(\"Best roc_auc: \", model7.best_score_)\n",
    "print(\"Best hyperparameters: \", model7.best_params_)"
   ]
  },
  {
   "cell_type": "markdown",
   "metadata": {
    "colab_type": "text",
    "id": "vmsEOKgX3qcT"
   },
   "source": [
    "### Print the class distribution after applying ADASYN"
   ]
  },
  {
   "cell_type": "code",
   "execution_count": null,
   "metadata": {
    "colab": {
     "base_uri": "https://localhost:8080/",
     "height": 1000
    },
    "colab_type": "code",
    "id": "2WQN3aB13qcT",
    "outputId": "ddc15087-923d-4bf4-9484-0c23d78397e6"
   },
   "outputs": [
    {
     "data": {
      "text/plain": [
       "<matplotlib.legend.Legend at 0x7f7a01bbae80>"
      ]
     },
     "execution_count": 36,
     "metadata": {
      "tags": []
     },
     "output_type": "execute_result"
    },
    {
     "data": {
      "image/png": "[encoded data removed]",
      "text/plain": [
       "<Figure size 1440x1440 with 3 Axes>"
      ]
     },
     "metadata": {
      "needs_background": "light",
      "tags": []
     },
     "output_type": "display_data"
    }
   ],
   "source": [
    "import warnings\n",
    "warnings.filterwarnings(\"ignore\")\n",
    "\n",
    "from imblearn import over_sampling\n",
    "\n",
    "ada = over_sampling.ADASYN(random_state=0)\n",
    "X_train_adasyn, y_train_adasyn = ada.fit_resample(X_train_pt, y_train)\n",
    "# Artificial minority samples and corresponding minority labels from ADASYN are appended\n",
    "# below X_train and y_train respectively\n",
    "# So to exclusively get the artificial minority samples from ADASYN, we do\n",
    "X_train_adasyn_1 = X_train_adasyn[X_train_pt.shape[0]:]\n",
    "\n",
    "X_train_1 = X_train_pt.to_numpy()[np.where(y_train==1.0)]\n",
    "X_train_0 = X_train_pt.to_numpy()[np.where(y_train==0.0)]\n",
    "\n",
    "\n",
    "\n",
    "import matplotlib.pyplot as plt\n",
    "%matplotlib inline\n",
    "plt.rcParams['figure.figsize'] = [20, 20]\n",
    "fig = plt.figure()\n",
    "\n",
    "plt.subplot(3, 1, 1)\n",
    "plt.scatter(X_train_1[:, 0], X_train_1[:, 1], label='Actual Class-1 Examples')\n",
    "plt.legend()\n",
    "\n",
    "plt.subplot(3, 1, 2)\n",
    "plt.scatter(X_train_1[:, 0], X_train_1[:, 1], label='Actual Class-1 Examples')\n",
    "plt.scatter(X_train_adasyn_1[:X_train_1.shape[0], 0], X_train_adasyn_1[:X_train_1.shape[0], 1],\n",
    "            label='Artificial ADASYN Class-1 Examples')\n",
    "plt.legend()\n",
    "\n",
    "plt.subplot(3, 1, 3)\n",
    "plt.scatter(X_train_1[:, 0], X_train_1[:, 1], label='Actual Class-1 Examples')\n",
    "plt.scatter(X_train_0[:X_train_1.shape[0], 0], X_train_0[:X_train_1.shape[0], 1], label='Actual Class-0 Examples')\n",
    "plt.legend()"
   ]
  },
  {
   "cell_type": "code",
   "execution_count": null,
   "metadata": {
    "colab": {
     "base_uri": "https://localhost:8080/",
     "height": 68
    },
    "colab_type": "code",
    "id": "kyxM_3gNoHsR",
    "outputId": "e07d05a4-06cc-4fd4-ea8d-090c0f77d6de"
   },
   "outputs": [
    {
     "name": "stdout",
     "output_type": "stream",
     "text": [
      "Shape of X_train_adasyn_1 which is the actual Artificial Minority Samples from SMOTE : (192319, 29)\n",
      "Shape of X_train_adasyn : (385283, 29)\n",
      "Shape of y_train_adasyn : (385283,)\n"
     ]
    }
   ],
   "source": [
    "print('Shape of X_train_adasyn_1 which is the actual Artificial Minority Samples from SMOTE :',X_train_adasyn_1.shape)\n",
    "print('Shape of X_train_adasyn :',X_train_adasyn.shape)\n",
    "print('Shape of y_train_adasyn :',y_train_adasyn.shape)"
   ]
  },
  {
   "cell_type": "markdown",
   "metadata": {
    "colab_type": "text",
    "id": "zK4Tr41vjxqU"
   },
   "source": [
    "#### Logistic Regression with ADASYN"
   ]
  },
  {
   "cell_type": "code",
   "execution_count": null,
   "metadata": {
    "colab": {},
    "colab_type": "code",
    "id": "zA7njyGjjx9x"
   },
   "outputs": [],
   "source": [
    "# logistic regression \n",
    "logistic = LogisticRegression()\n",
    "\n",
    "# create pipeline\n",
    "steps = [(\"scaler\", StandardScaler()), \n",
    "         (\"logistic\", logistic)\n",
    "        ]\n",
    "\n",
    "# compile pipeline\n",
    "pca_logistic = Pipeline(steps)\n",
    "\n",
    "# hyperparameter space\n",
    "params = {'logistic__C': [0.0001, 0.001, 0.01, 0.05, 0.1, \n",
    " 0.2, 0.3, 0.4, 0.5, 0.6, 0.7, 0.8, 0.9, 1.0, 2.0, 3.0, \n",
    " 4.0, 5.0, 6.0, 7.0, 8.0, 9.0, 10.0, 20, 50, 100, 500, 1000], 'logistic__penalty': ['l1', 'l2']}\n",
    "\n",
    "# create 5 folds\n",
    "folds = StratifiedKFold(n_splits = 5, shuffle = True, random_state = 4)\n",
    "\n",
    "# create gridsearch object\n",
    "model_lr_adasyn = GridSearchCV(estimator=pca_logistic, cv=folds, param_grid=params, scoring='roc_auc', n_jobs=-1, verbose=1)"
   ]
  },
  {
   "cell_type": "code",
   "execution_count": null,
   "metadata": {
    "colab": {
     "base_uri": "https://localhost:8080/",
     "height": 595
    },
    "colab_type": "code",
    "id": "sRS4pXIOjyDO",
    "outputId": "9bd673b8-764a-4fa5-b1e6-cc6279e219fc"
   },
   "outputs": [
    {
     "name": "stdout",
     "output_type": "stream",
     "text": [
      "Fitting 5 folds for each of 56 candidates, totalling 280 fits\n"
     ]
    },
    {
     "name": "stderr",
     "output_type": "stream",
     "text": [
      "[Parallel(n_jobs=-1)]: Using backend LokyBackend with 2 concurrent workers.\n",
      "[Parallel(n_jobs=-1)]: Done  46 tasks      | elapsed:   42.0s\n",
      "[Parallel(n_jobs=-1)]: Done 196 tasks      | elapsed:  4.5min\n",
      "[Parallel(n_jobs=-1)]: Done 280 out of 280 | elapsed:  6.6min finished\n"
     ]
    },
    {
     "data": {
      "text/plain": [
       "GridSearchCV(cv=StratifiedKFold(n_splits=5, random_state=4, shuffle=True),\n",
       "             error_score=nan,\n",
       "             estimator=Pipeline(memory=None,\n",
       "                                steps=[('scaler',\n",
       "                                        StandardScaler(copy=True,\n",
       "                                                       with_mean=True,\n",
       "                                                       with_std=True)),\n",
       "                                       ('logistic',\n",
       "                                        LogisticRegression(C=1.0,\n",
       "                                                           class_weight=None,\n",
       "                                                           dual=False,\n",
       "                                                           fit_intercept=True,\n",
       "                                                           intercept_scaling=1,\n",
       "                                                           l1_ratio=None,\n",
       "                                                           max_iter=100,\n",
       "                                                           multi_class='auto',\n",
       "                                                           n_jobs=...\n",
       "                                                           tol=0.0001,\n",
       "                                                           verbose=0,\n",
       "                                                           warm_start=False))],\n",
       "                                verbose=False),\n",
       "             iid='deprecated', n_jobs=-1,\n",
       "             param_grid={'logistic__C': [0.0001, 0.001, 0.01, 0.05, 0.1, 0.2,\n",
       "                                         0.3, 0.4, 0.5, 0.6, 0.7, 0.8, 0.9, 1.0,\n",
       "                                         2.0, 3.0, 4.0, 5.0, 6.0, 7.0, 8.0, 9.0,\n",
       "                                         10.0, 20, 50, 100, 500, 1000],\n",
       "                         'logistic__penalty': ['l1', 'l2']},\n",
       "             pre_dispatch='2*n_jobs', refit=True, return_train_score=False,\n",
       "             scoring='roc_auc', verbose=1)"
      ]
     },
     "execution_count": 39,
     "metadata": {
      "tags": []
     },
     "output_type": "execute_result"
    }
   ],
   "source": [
    "# fit model\n",
    "model_lr_adasyn.fit(X_train_adasyn, y_train_adasyn)"
   ]
  },
  {
   "cell_type": "code",
   "execution_count": null,
   "metadata": {
    "colab": {
     "base_uri": "https://localhost:8080/",
     "height": 51
    },
    "colab_type": "code",
    "id": "SOrPcqu0BAw-",
    "outputId": "c59a5399-ce3b-4e44-c543-2e6cfc6961fd"
   },
   "outputs": [
    {
     "name": "stdout",
     "output_type": "stream",
     "text": [
      "Best roc_auc:  0.9610321435770199\n",
      "Best hyperparameters:  {'logistic__C': 1000, 'logistic__penalty': 'l2'}\n"
     ]
    }
   ],
   "source": [
    "#print best hyperparameters\n",
    "print(\"Best roc_auc: \", model_lr_adasyn.best_score_)\n",
    "print(\"Best hyperparameters: \", model_lr_adasyn.best_params_)"
   ]
  },
  {
   "cell_type": "markdown",
   "metadata": {
    "colab_type": "text",
    "id": "Sx_TBMBdj1zv"
   },
   "source": [
    "#### Decision Tree with ADASYN"
   ]
  },
  {
   "cell_type": "code",
   "execution_count": null,
   "metadata": {
    "colab": {},
    "colab_type": "code",
    "id": "vpwky3HCe8I8"
   },
   "outputs": [],
   "source": [
    "# DECISION TREE :\n",
    "\n",
    "dtc = DecisionTreeClassifier()\n",
    "\n",
    "parameter_grid = {'criterion': ['gini', 'entropy'],\n",
    "                  'splitter': ['best', 'random'],\n",
    "                  'max_depth': [1, 2, 3, 4, 5],\n",
    "                  'max_features': [1, 2, 3, 4]}\n",
    "\n",
    "cross_validation = StratifiedKFold(n_splits = 5, shuffle = True, random_state = 4)\n",
    "\n",
    "model8 = GridSearchCV(estimator=dtc, param_grid=parameter_grid, cv=cross_validation, scoring='roc_auc' , n_jobs=-1, verbose=1)"
   ]
  },
  {
   "cell_type": "code",
   "execution_count": null,
   "metadata": {
    "colab": {
     "base_uri": "https://localhost:8080/",
     "height": 544
    },
    "colab_type": "code",
    "id": "cHn86qF_e8MJ",
    "outputId": "e05ee553-04bb-41be-995f-19af861532de"
   },
   "outputs": [
    {
     "name": "stdout",
     "output_type": "stream",
     "text": [
      "Fitting 5 folds for each of 80 candidates, totalling 400 fits\n"
     ]
    },
    {
     "name": "stderr",
     "output_type": "stream",
     "text": [
      "[Parallel(n_jobs=-1)]: Using backend LokyBackend with 2 concurrent workers.\n",
      "[Parallel(n_jobs=-1)]: Done  46 tasks      | elapsed:    7.6s\n",
      "[Parallel(n_jobs=-1)]: Done 196 tasks      | elapsed:   51.0s\n",
      "[Parallel(n_jobs=-1)]: Done 400 out of 400 | elapsed:  2.1min finished\n"
     ]
    },
    {
     "name": "stdout",
     "output_type": "stream",
     "text": [
      "Fitting 5 folds for each of 80 candidates, totalling 400 fits\n"
     ]
    },
    {
     "name": "stderr",
     "output_type": "stream",
     "text": [
      "[Parallel(n_jobs=-1)]: Using backend LokyBackend with 2 concurrent workers.\n",
      "[Parallel(n_jobs=-1)]: Done  46 tasks      | elapsed:    6.6s\n",
      "[Parallel(n_jobs=-1)]: Done 196 tasks      | elapsed:   50.1s\n",
      "[Parallel(n_jobs=-1)]: Done 400 out of 400 | elapsed:  2.0min finished\n"
     ]
    },
    {
     "data": {
      "text/plain": [
       "GridSearchCV(cv=StratifiedKFold(n_splits=5, random_state=4, shuffle=True),\n",
       "             error_score=nan,\n",
       "             estimator=DecisionTreeClassifier(ccp_alpha=0.0, class_weight=None,\n",
       "                                              criterion='gini', max_depth=None,\n",
       "                                              max_features=None,\n",
       "                                              max_leaf_nodes=None,\n",
       "                                              min_impurity_decrease=0.0,\n",
       "                                              min_impurity_split=None,\n",
       "                                              min_samples_leaf=1,\n",
       "                                              min_samples_split=2,\n",
       "                                              min_weight_fraction_leaf=0.0,\n",
       "                                              presort='deprecated',\n",
       "                                              random_state=None,\n",
       "                                              splitter='best'),\n",
       "             iid='deprecated', n_jobs=-1,\n",
       "             param_grid={'criterion': ['gini', 'entropy'],\n",
       "                         'max_depth': [1, 2, 3, 4, 5],\n",
       "                         'max_features': [1, 2, 3, 4],\n",
       "                         'splitter': ['best', 'random']},\n",
       "             pre_dispatch='2*n_jobs', refit=True, return_train_score=False,\n",
       "             scoring='roc_auc', verbose=1)"
      ]
     },
     "execution_count": 32,
     "metadata": {
      "tags": []
     },
     "output_type": "execute_result"
    }
   ],
   "source": [
    "# fit model\n",
    "model8.fit(X_train_adasyn, y_train_adasyn)"
   ]
  },
  {
   "cell_type": "code",
   "execution_count": null,
   "metadata": {
    "colab": {
     "base_uri": "https://localhost:8080/",
     "height": 51
    },
    "colab_type": "code",
    "id": "A9u7XZZwe8ZC",
    "outputId": "8c1122f0-82a6-4397-86e6-b7f667b2dd4b"
   },
   "outputs": [
    {
     "name": "stdout",
     "output_type": "stream",
     "text": [
      "Best roc_auc:  0.9259494994965038\n",
      "Best hyperparameters:  {'criterion': 'gini', 'max_depth': 5, 'max_features': 4, 'splitter': 'best'}\n"
     ]
    }
   ],
   "source": [
    "#print best hyperparameters\n",
    "print(\"Best roc_auc: \", model8.best_score_)\n",
    "print(\"Best hyperparameters: \", model8.best_params_)"
   ]
  },
  {
   "cell_type": "markdown",
   "metadata": {
    "colab_type": "text",
    "id": "HTitt56dj5-J"
   },
   "source": [
    "#### Random Forest with ADASYN"
   ]
  },
  {
   "cell_type": "code",
   "execution_count": null,
   "metadata": {
    "colab": {},
    "colab_type": "code",
    "id": "X1Gz4c3OqlR6"
   },
   "outputs": [],
   "source": [
    "# RANDOM FOREST :\n",
    "\n",
    "forest = RandomForestClassifier(n_jobs = -1)\n",
    "\n",
    "# hyperparameter space\n",
    "params = {'criterion': ['gini', 'entropy'], \n",
    "          'max_features': ['auto', 0.4],\n",
    "          'n_estimators': [30,35],\n",
    "          'max_depth': [8, 15]}\n",
    "\n",
    "# create 5 folds\n",
    "folds = StratifiedKFold(n_splits = 5, shuffle = True, random_state = 4)\n",
    "\n",
    "# create gridsearch object\n",
    "model9 = GridSearchCV(estimator=forest, cv=folds, param_grid=params, scoring='roc_auc', n_jobs=-1, verbose=1)"
   ]
  },
  {
   "cell_type": "code",
   "execution_count": null,
   "metadata": {
    "colab": {
     "base_uri": "https://localhost:8080/",
     "height": 544
    },
    "colab_type": "code",
    "id": "Y7Y5sGGhqlVA",
    "outputId": "5e7fffa9-bdb0-4d5d-e18c-c69a429d9800"
   },
   "outputs": [
    {
     "name": "stdout",
     "output_type": "stream",
     "text": [
      "Fitting 5 folds for each of 16 candidates, totalling 80 fits\n"
     ]
    },
    {
     "name": "stderr",
     "output_type": "stream",
     "text": [
      "[Parallel(n_jobs=-1)]: Using backend LokyBackend with 2 concurrent workers.\n",
      "[Parallel(n_jobs=-1)]: Done  46 tasks      | elapsed: 50.5min\n",
      "[Parallel(n_jobs=-1)]: Done  80 out of  80 | elapsed: 108.0min finished\n"
     ]
    },
    {
     "name": "stdout",
     "output_type": "stream",
     "text": [
      "Fitting 5 folds for each of 16 candidates, totalling 80 fits\n"
     ]
    },
    {
     "name": "stderr",
     "output_type": "stream",
     "text": [
      "[Parallel(n_jobs=-1)]: Using backend LokyBackend with 2 concurrent workers.\n",
      "[Parallel(n_jobs=-1)]: Done  46 tasks      | elapsed: 52.5min\n",
      "[Parallel(n_jobs=-1)]: Done  80 out of  80 | elapsed: 109.4min finished\n"
     ]
    },
    {
     "data": {
      "text/plain": [
       "GridSearchCV(cv=StratifiedKFold(n_splits=5, random_state=4, shuffle=True),\n",
       "             error_score=nan,\n",
       "             estimator=RandomForestClassifier(bootstrap=True, ccp_alpha=0.0,\n",
       "                                              class_weight=None,\n",
       "                                              criterion='gini', max_depth=None,\n",
       "                                              max_features='auto',\n",
       "                                              max_leaf_nodes=None,\n",
       "                                              max_samples=None,\n",
       "                                              min_impurity_decrease=0.0,\n",
       "                                              min_impurity_split=None,\n",
       "                                              min_samples_leaf=1,\n",
       "                                              min_samples_split=2,\n",
       "                                              min_weight_fraction_leaf=0.0,\n",
       "                                              n_estimators=100, n_jobs=-1,\n",
       "                                              oob_score=False,\n",
       "                                              random_state=None, verbose=0,\n",
       "                                              warm_start=False),\n",
       "             iid='deprecated', n_jobs=-1,\n",
       "             param_grid={'criterion': ['gini', 'entropy'], 'max_depth': [8, 15],\n",
       "                         'max_features': ['auto', 0.4],\n",
       "                         'n_estimators': [30, 35]},\n",
       "             pre_dispatch='2*n_jobs', refit=True, return_train_score=False,\n",
       "             scoring='roc_auc', verbose=1)"
      ]
     },
     "execution_count": 31,
     "metadata": {
      "tags": []
     },
     "output_type": "execute_result"
    }
   ],
   "source": [
    "# fit model\n",
    "model9.fit(X_train_adasyn, y_train_adasyn)# fit model\n",
    "model9.fit(X_train_adasyn, y_train_adasyn)"
   ]
  },
  {
   "cell_type": "code",
   "execution_count": null,
   "metadata": {
    "colab": {
     "base_uri": "https://localhost:8080/",
     "height": 51
    },
    "colab_type": "code",
    "id": "BDbhboBYqlP8",
    "outputId": "74c78115-8063-4f3d-ef13-f95da2a0066c"
   },
   "outputs": [
    {
     "name": "stdout",
     "output_type": "stream",
     "text": [
      "Best roc_auc:  0.9999893825950034\n",
      "Best hyperparameters:  {'criterion': 'entropy', 'max_depth': 15, 'max_features': 'auto', 'n_estimators': 35}\n"
     ]
    }
   ],
   "source": [
    "#print best hyperparameters\n",
    "print(\"Best roc_auc: \", model9.best_score_)\n",
    "print(\"Best hyperparameters: \", model9.best_params_)"
   ]
  },
  {
   "cell_type": "markdown",
   "metadata": {
    "colab_type": "text",
    "id": "ZjK57dhuj-ee"
   },
   "source": [
    "#### XGBoost with ADASYN"
   ]
  },
  {
   "cell_type": "code",
   "execution_count": null,
   "metadata": {
    "colab": {},
    "colab_type": "code",
    "id": "OfPeAJfZe8cf"
   },
   "outputs": [],
   "source": [
    "# XG BOOST :\n",
    "\n",
    "xg = XGBClassifier()\n",
    "\n",
    "param_grid = {'learning_rate': [0.1, 0.2 , 0.4],\n",
    "              'subsample': [0.3, 0.6, 0.8],\n",
    "              'n_estimators' : range(2, 30, 5),\n",
    "              'max_depth' : [2, 4]\n",
    "             }\n",
    "\n",
    "cross_validation = StratifiedKFold(n_splits = 5, shuffle = True, random_state = 4)\n",
    "\n",
    "model10 = GridSearchCV(estimator=xg, param_grid=param_grid, cv=cross_validation, scoring='roc_auc' , n_jobs=-1, verbose=1)"
   ]
  },
  {
   "cell_type": "code",
   "execution_count": null,
   "metadata": {
    "colab": {
     "base_uri": "https://localhost:8080/",
     "height": 425
    },
    "colab_type": "code",
    "id": "Vm84_2Ahe8Wx",
    "outputId": "b6bb1421-23e9-4a4a-f079-0889622a0539"
   },
   "outputs": [
    {
     "name": "stdout",
     "output_type": "stream",
     "text": [
      "Fitting 5 folds for each of 108 candidates, totalling 540 fits\n"
     ]
    },
    {
     "name": "stderr",
     "output_type": "stream",
     "text": [
      "[Parallel(n_jobs=-1)]: Using backend LokyBackend with 2 concurrent workers.\n",
      "[Parallel(n_jobs=-1)]: Done  46 tasks      | elapsed:  2.6min\n",
      "[Parallel(n_jobs=-1)]: Done 196 tasks      | elapsed: 25.5min\n",
      "[Parallel(n_jobs=-1)]: Done 446 tasks      | elapsed: 57.9min\n",
      "[Parallel(n_jobs=-1)]: Done 540 out of 540 | elapsed: 75.0min finished\n"
     ]
    },
    {
     "data": {
      "text/plain": [
       "GridSearchCV(cv=StratifiedKFold(n_splits=5, random_state=4, shuffle=True),\n",
       "             error_score=nan,\n",
       "             estimator=XGBClassifier(base_score=0.5, booster='gbtree',\n",
       "                                     colsample_bylevel=1, colsample_bynode=1,\n",
       "                                     colsample_bytree=1, gamma=0,\n",
       "                                     learning_rate=0.1, max_delta_step=0,\n",
       "                                     max_depth=3, min_child_weight=1,\n",
       "                                     missing=None, n_estimators=100, n_jobs=1,\n",
       "                                     nthread=None, objective='binary:logistic',\n",
       "                                     random_state=0, reg_alpha=0, reg_lambda=1,\n",
       "                                     scale_pos_weight=1, seed=None, silent=None,\n",
       "                                     subsample=1, verbosity=1),\n",
       "             iid='deprecated', n_jobs=-1,\n",
       "             param_grid={'learning_rate': [0.1, 0.2, 0.4], 'max_depth': [2, 4],\n",
       "                         'n_estimators': range(2, 30, 5),\n",
       "                         'subsample': [0.3, 0.6, 0.8]},\n",
       "             pre_dispatch='2*n_jobs', refit=True, return_train_score=False,\n",
       "             scoring='roc_auc', verbose=1)"
      ]
     },
     "execution_count": 49,
     "metadata": {
      "tags": []
     },
     "output_type": "execute_result"
    }
   ],
   "source": [
    "# fit model\n",
    "model10.fit(X_train_adasyn, y_train_adasyn)"
   ]
  },
  {
   "cell_type": "code",
   "execution_count": null,
   "metadata": {
    "colab": {
     "base_uri": "https://localhost:8080/",
     "height": 51
    },
    "colab_type": "code",
    "id": "Pu5ISAwyoi-j",
    "outputId": "18bfcb11-8e8c-45af-9549-f81e0c5e8bea"
   },
   "outputs": [
    {
     "name": "stdout",
     "output_type": "stream",
     "text": [
      "Best roc_auc:  0.9992259424493041\n",
      "Best hyperparameters:  {'learning_rate': 0.4, 'max_depth': 4, 'n_estimators': 27, 'subsample': 0.6}\n"
     ]
    }
   ],
   "source": [
    "#print best hyperparameters\n",
    "print(\"Best roc_auc: \", model10.best_score_)\n",
    "print(\"Best hyperparameters: \", model10.best_params_)"
   ]
  },
  {
   "cell_type": "markdown",
   "metadata": {
    "colab_type": "text",
    "id": "hek0dpeS3qcX"
   },
   "source": [
    "### Select the oversampling method which shows the best result on a model\n",
    "- Apply the best hyperparameter on the model\n",
    "- Predict on the test dataset"
   ]
  },
  {
   "cell_type": "markdown",
   "metadata": {
    "colab_type": "text",
    "id": "OzWpQjpMkDp1"
   },
   "source": [
    "We have the below table which collates results from all the models built along with the oversampling techniques used"
   ]
  },
  {
   "cell_type": "markdown",
   "metadata": {
    "colab_type": "text",
    "id": "dS5iaRiaCzx-"
   },
   "source": [
    "![image.png](data:image/png;base64,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)"
   ]
  },
  {
   "cell_type": "markdown",
   "metadata": {
    "colab_type": "text",
    "id": "B7kkuFhaMlDw"
   },
   "source": [
    "Seems like the best model giving the highest ROC_AUC score is :\n",
    "RANDOM FOREST with SMOTE "
   ]
  },
  {
   "cell_type": "markdown",
   "metadata": {
    "colab_type": "text",
    "id": "Bj7qwf04kPFN"
   },
   "source": [
    "##### Best Model - Random Forest with SMOTE"
   ]
  },
  {
   "cell_type": "code",
   "execution_count": null,
   "metadata": {
    "colab": {},
    "colab_type": "code",
    "id": "SokfMBK9MO5m"
   },
   "outputs": [],
   "source": [
    "# RANDOM FOREST USING SMOTE WITH BEST HYPERPARAMETERS - FINAL MODEL :\n",
    "\n",
    "\n",
    "forest = RandomForestClassifier(n_jobs = -1)\n",
    "\n",
    "# hyperparameter space\n",
    "params = {'criterion': ['entropy'], \n",
    "          'max_features': ['auto'],\n",
    "          'n_estimators': [30],\n",
    "          'max_depth': [15]}\n",
    "\n",
    "# create 5 folds\n",
    "folds = StratifiedKFold(n_splits = 5, shuffle = True, random_state = 4)\n",
    "\n",
    "# create gridsearch object\n",
    "model_final = GridSearchCV(estimator=forest, cv=folds, param_grid=params, scoring='roc_auc', n_jobs=-1, verbose=1)"
   ]
  },
  {
   "cell_type": "code",
   "execution_count": null,
   "metadata": {
    "colab": {
     "base_uri": "https://localhost:8080/",
     "height": 442
    },
    "colab_type": "code",
    "id": "oqIA_WUkP3S3",
    "outputId": "5e17c3ef-7cd3-4005-c079-9db3eb008dce"
   },
   "outputs": [
    {
     "name": "stdout",
     "output_type": "stream",
     "text": [
      "Fitting 5 folds for each of 1 candidates, totalling 5 fits\n"
     ]
    },
    {
     "name": "stderr",
     "output_type": "stream",
     "text": [
      "[Parallel(n_jobs=-1)]: Using backend LokyBackend with 2 concurrent workers.\n",
      "[Parallel(n_jobs=-1)]: Done   5 out of   5 | elapsed:  5.4min finished\n"
     ]
    },
    {
     "data": {
      "text/plain": [
       "GridSearchCV(cv=StratifiedKFold(n_splits=5, random_state=4, shuffle=True),\n",
       "             error_score=nan,\n",
       "             estimator=RandomForestClassifier(bootstrap=True, ccp_alpha=0.0,\n",
       "                                              class_weight=None,\n",
       "                                              criterion='gini', max_depth=None,\n",
       "                                              max_features='auto',\n",
       "                                              max_leaf_nodes=None,\n",
       "                                              max_samples=None,\n",
       "                                              min_impurity_decrease=0.0,\n",
       "                                              min_impurity_split=None,\n",
       "                                              min_samples_leaf=1,\n",
       "                                              min_samples_split=2,\n",
       "                                              min_weight_fraction_leaf=0.0,\n",
       "                                              n_estimators=100, n_jobs=-1,\n",
       "                                              oob_score=False,\n",
       "                                              random_state=None, verbose=0,\n",
       "                                              warm_start=False),\n",
       "             iid='deprecated', n_jobs=-1,\n",
       "             param_grid={'criterion': ['entropy'], 'max_depth': [15],\n",
       "                         'max_features': ['auto'], 'n_estimators': [30]},\n",
       "             pre_dispatch='2*n_jobs', refit=True, return_train_score=False,\n",
       "             scoring='roc_auc', verbose=1)"
      ]
     },
     "execution_count": 38,
     "metadata": {
      "tags": []
     },
     "output_type": "execute_result"
    }
   ],
   "source": [
    "# fit model\n",
    "model_final.fit(X_train_smote, y_train_smote)"
   ]
  },
  {
   "cell_type": "code",
   "execution_count": null,
   "metadata": {
    "colab": {
     "base_uri": "https://localhost:8080/",
     "height": 34
    },
    "colab_type": "code",
    "id": "b2kyZY71RoRp",
    "outputId": "a7e01367-b28d-4257-9a54-d9bdcfc31092"
   },
   "outputs": [
    {
     "name": "stdout",
     "output_type": "stream",
     "text": [
      "Best roc_auc:  0.9999922195505629\n"
     ]
    }
   ],
   "source": [
    "#ROC_AUC :\n",
    "print(\"Best roc_auc: \", model_final.best_score_)"
   ]
  },
  {
   "cell_type": "markdown",
   "metadata": {
    "colab_type": "text",
    "id": "bq0m8E4cSU5M"
   },
   "source": [
    "#### Predict on Test Data :"
   ]
  },
  {
   "cell_type": "code",
   "execution_count": null,
   "metadata": {
    "colab": {
     "base_uri": "https://localhost:8080/",
     "height": 51
    },
    "colab_type": "code",
    "id": "0srOubJJR6TV",
    "outputId": "d34f01ed-f5e4-4677-9474-a63349f456b6"
   },
   "outputs": [
    {
     "name": "stdout",
     "output_type": "stream",
     "text": [
      "[[82489    59]\n",
      " [   19   132]]\n"
     ]
    }
   ],
   "source": [
    "#Confusion Matrix :\n",
    "y_pred_final = model_final.predict(X_test_pt)\n",
    "\n",
    "# create onfusion matrix\n",
    "cm_final = confusion_matrix(y_test, y_pred_final)\n",
    "print(cm_final)"
   ]
  },
  {
   "cell_type": "code",
   "execution_count": null,
   "metadata": {
    "colab": {
     "base_uri": "https://localhost:8080/",
     "height": 51
    },
    "colab_type": "code",
    "id": "TsWK-HuFTSY8",
    "outputId": "c3bf5d7f-a6ba-4d37-bbbb-7aa77a1d968e"
   },
   "outputs": [
    {
     "name": "stdout",
     "output_type": "stream",
     "text": [
      "Sensitivity: \t0.87\n",
      "Specificity: \t1.0\n"
     ]
    }
   ],
   "source": [
    "# check sensitivity and specificity\n",
    "sensitivity, specificity, _ = sensitivity_specificity_support(y_test, y_pred_final, average='binary')\n",
    "print(\"Sensitivity: \\t\", round(sensitivity, 2), \"\\n\", \"Specificity: \\t\", round(specificity, 2), sep='')"
   ]
  },
  {
   "cell_type": "code",
   "execution_count": null,
   "metadata": {
    "colab": {
     "base_uri": "https://localhost:8080/",
     "height": 34
    },
    "colab_type": "code",
    "id": "gZCIlZdpTsjO",
    "outputId": "610ff5ea-41c0-42e3-cb70-d5a2a67394f7"
   },
   "outputs": [
    {
     "name": "stdout",
     "output_type": "stream",
     "text": [
      "Recall: 0.874172\n"
     ]
    }
   ],
   "source": [
    "recall_final = recall_score(y_test, y_pred_final)\n",
    "print('Recall: %f' % recall_final)"
   ]
  },
  {
   "cell_type": "code",
   "execution_count": null,
   "metadata": {
    "colab": {
     "base_uri": "https://localhost:8080/",
     "height": 34
    },
    "colab_type": "code",
    "id": "kl2CmuKlT1tw",
    "outputId": "240b10ba-ea25-48b5-8e22-da8be6e05690"
   },
   "outputs": [
    {
     "data": {
      "text/plain": [
       "array([0, 0, 0, 0, 0, 0, 0, 0, 0, 0])"
      ]
     },
     "execution_count": 44,
     "metadata": {
      "tags": []
     },
     "output_type": "execute_result"
    }
   ],
   "source": [
    "y_pred_final[:10]"
   ]
  },
  {
   "cell_type": "code",
   "execution_count": null,
   "metadata": {
    "colab": {
     "base_uri": "https://localhost:8080/",
     "height": 34
    },
    "colab_type": "code",
    "id": "4tUInDOlUBc_",
    "outputId": "29fe9264-993b-475b-b261-27a8194aa594"
   },
   "outputs": [
    {
     "data": {
      "text/plain": [
       "0.9367287248807599"
      ]
     },
     "execution_count": 45,
     "metadata": {
      "tags": []
     },
     "output_type": "execute_result"
    }
   ],
   "source": [
    "# ROC_AUC : \n",
    "auc_final = sklearn.metrics.roc_auc_score(y_test, y_pred_final)\n",
    "auc_final"
   ]
  },
  {
   "cell_type": "markdown",
   "metadata": {
    "colab_type": "text",
    "id": "CKN4PbOkUScz"
   },
   "source": [
    "ROC_AUC score from RANDOM FOREST using SMOTE in TRAINING DATASET : 0.99999\n",
    "\n",
    "ROC_AUC score from RANDOM FOREST using SMOTE in TEST DATASET : 0.93672"
   ]
  },
  {
   "cell_type": "markdown",
   "metadata": {
    "colab_type": "text",
    "id": "fVJ22Zxk3qca"
   },
   "source": [
    "### Print the important features of the best model to understand the dataset"
   ]
  },
  {
   "cell_type": "code",
   "execution_count": null,
   "metadata": {
    "colab": {
     "base_uri": "https://localhost:8080/",
     "height": 119
    },
    "colab_type": "code",
    "id": "0PRgGIzbUa6A",
    "outputId": "8080ff68-0b20-4d8c-8a17-5e92b344737c"
   },
   "outputs": [
    {
     "data": {
      "text/plain": [
       "array([0.01218302, 0.033093  , 0.02911986, 0.0911156 , 0.01040935,\n",
       "       0.0149565 , 0.05658368, 0.02470118, 0.02820712, 0.15566125,\n",
       "       0.0664232 , 0.0732914 , 0.0082718 , 0.10740092, 0.00639044,\n",
       "       0.06511056, 0.08306372, 0.01804806, 0.01767016, 0.01255239,\n",
       "       0.01783834, 0.00662317, 0.00764303, 0.00471462, 0.00608541,\n",
       "       0.00682438, 0.01614721, 0.00969638, 0.01017426])"
      ]
     },
     "execution_count": 46,
     "metadata": {
      "tags": []
     },
     "output_type": "execute_result"
    }
   ],
   "source": [
    "model_final.best_estimator_.feature_importances_"
   ]
  },
  {
   "cell_type": "code",
   "execution_count": null,
   "metadata": {
    "colab": {
     "base_uri": "https://localhost:8080/",
     "height": 1000
    },
    "colab_type": "code",
    "id": "f-2x7yPV3qca",
    "outputId": "dc6a3443-5db5-45c9-9d39-781965f1afa0"
   },
   "outputs": [
    {
     "name": "stdout",
     "output_type": "stream",
     "text": [
      "Top var = 10\n",
      "2nd Top var = 14\n",
      "3rd Top var = 4\n"
     ]
    },
    {
     "data": {
      "text/plain": [
       "<matplotlib.legend.Legend at 0x7f0582a8b748>"
      ]
     },
     "execution_count": 51,
     "metadata": {
      "tags": []
     },
     "output_type": "execute_result"
    },
    {
     "data": {
      "image/png": "[encoded data removed]",
      "text/plain": [
       "<Figure size 1440x1440 with 1 Axes>"
      ]
     },
     "metadata": {
      "needs_background": "light",
      "tags": []
     },
     "output_type": "display_data"
    }
   ],
   "source": [
    "var_imp = []\n",
    "for i in model_final.best_estimator_.feature_importances_:\n",
    "    var_imp.append(i)\n",
    "print('Top var =', var_imp.index(np.sort(model_final.best_estimator_.feature_importances_)[-1])+1)\n",
    "print('2nd Top var =', var_imp.index(np.sort(model_final.best_estimator_.feature_importances_)[-2])+1)\n",
    "print('3rd Top var =', var_imp.index(np.sort(model_final.best_estimator_.feature_importances_)[-3])+1)\n",
    "\n",
    "# Variable on Index-13 and Index-9 seems to be the top 2 variables\n",
    "top_var_index = var_imp.index(np.sort(model_final.best_estimator_.feature_importances_)[-1])\n",
    "second_top_var_index = var_imp.index(np.sort(model_final.best_estimator_.feature_importances_)[-2])\n",
    "\n",
    "X_train_1 = X_train_pt.to_numpy()[np.where(y_train==1.0)]\n",
    "X_train_0 = X_train_pt.to_numpy()[np.where(y_train==0.0)]\n",
    "\n",
    "np.random.shuffle(X_train_0)\n",
    "\n",
    "import matplotlib.pyplot as plt\n",
    "%matplotlib inline\n",
    "plt.rcParams['figure.figsize'] = [20, 20]\n",
    "\n",
    "plt.scatter(X_train_1[:, top_var_index], X_train_1[:, second_top_var_index], label='Actual Class-1 Examples')\n",
    "plt.scatter(X_train_0[:X_train_1.shape[0], top_var_index], X_train_0[:X_train_1.shape[0], second_top_var_index],\n",
    "            label='Actual Class-0 Examples')\n",
    "plt.legend()"
   ]
  },
  {
   "cell_type": "code",
   "execution_count": null,
   "metadata": {
    "colab": {},
    "colab_type": "code",
    "id": "JVqUDmF93qcc"
   },
   "outputs": [],
   "source": [
    "#### Print the FPR,TPR & select the best threshold from the roc curve"
   ]
  },
  {
   "cell_type": "code",
   "execution_count": null,
   "metadata": {
    "colab": {
     "base_uri": "https://localhost:8080/",
     "height": 51
    },
    "colab_type": "code",
    "id": "rZZ6WMeX3qce",
    "outputId": "06987dc4-fb86-487b-dde9-600e08401aa4"
   },
   "outputs": [
    {
     "name": "stdout",
     "output_type": "stream",
     "text": [
      "Train auc = 0.9367287248807599\n",
      "1\n"
     ]
    }
   ],
   "source": [
    "print('Train auc =', metrics.roc_auc_score(y_test, y_pred_final))\n",
    "fpr, tpr, thresholds = metrics.roc_curve(y_test, y_pred_final)\n",
    "threshold = thresholds[np.argmax(tpr-fpr)]\n",
    "print(threshold)"
   ]
  }
 ],
 "metadata": {
  "accelerator": "TPU",
  "colab": {
   "collapsed_sections": [],
   "name": "CreditCardFraudDetection.ipynb",
   "provenance": []
  },
  "kernelspec": {
   "display_name": "Python 3",
   "language": "python",
   "name": "python3"
  },
  "language_info": {
   "codemirror_mode": {
    "name": "ipython",
    "version": 3
   },
   "file_extension": ".py",
   "mimetype": "text/x-python",
   "name": "python",
   "nbconvert_exporter": "python",
   "pygments_lexer": "ipython3",
   "version": "3.8.3"
  }
 },
 "nbformat": 4,
 "nbformat_minor": 1
}
